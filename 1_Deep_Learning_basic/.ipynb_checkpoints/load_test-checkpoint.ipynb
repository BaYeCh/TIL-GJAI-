{
 "cells": [
  {
   "cell_type": "code",
   "execution_count": 1,
   "id": "bb993497",
   "metadata": {},
   "outputs": [],
   "source": [
    "import os\n",
    "path = \"C:/pytest/models/\"\n",
    "os.chdir(path)"
   ]
  },
  {
   "cell_type": "code",
   "execution_count": 2,
   "id": "c5374638",
   "metadata": {},
   "outputs": [],
   "source": [
    "import pandas as pd\n",
    "import numpy as np"
   ]
  },
  {
   "cell_type": "code",
   "execution_count": 3,
   "id": "470a86e2",
   "metadata": {},
   "outputs": [
    {
     "name": "stdout",
     "output_type": "stream",
     "text": [
      "filepath:  C:\\Anaconda3\\lib\\site-packages\n",
      "classpath:  C:\\Anaconda3\\lib\\site-packages\\rhinoMorph/lib/rhino.jar\n",
      "RHINO started!\n"
     ]
    }
   ],
   "source": [
    "import rhinoMorph\n",
    "rn = rhinoMorph.startRhino()"
   ]
  },
  {
   "cell_type": "code",
   "execution_count": 7,
   "id": "a81e011a",
   "metadata": {},
   "outputs": [],
   "source": [
    "import tensorflow as tf\n",
    "from keras.preprocessing.text import Tokenizer\n",
    "from tensorflow.keras.preprocessing.sequence import pad_sequences\n",
    "from sklearn.model_selection import train_test_split\n",
    "from sklearn.preprocessing import LabelEncoder\n",
    "from keras.models import Sequential, load_model\n",
    "from keras.layers import Dense\n",
    "from keras.callbacks import EarlyStopping, ModelCheckpoint\n",
    "import pickle"
   ]
  },
  {
   "cell_type": "code",
   "execution_count": 13,
   "id": "bc0b7518",
   "metadata": {},
   "outputs": [],
   "source": [
    "loaded_age_model = load_model('age_model01.h5')\n",
    "loaded_emo_model = load_model('emotion_model01.h5')\n",
    "with open('age_tokenizer.pickle', 'rb') as handle:\n",
    "    loaded_age_tokenizer = pickle.load(handle)\n",
    "with open('emotion_tokenizer.pickle', 'rb') as handle:\n",
    "    loaded_emo_tokenizer = pickle.load(handle)"
   ]
  },
  {
   "cell_type": "code",
   "execution_count": 9,
   "id": "404e46d8",
   "metadata": {},
   "outputs": [],
   "source": [
    "max_words = 10000\n",
    "maxlen = 16"
   ]
  },
  {
   "cell_type": "code",
   "execution_count": 10,
   "id": "a0627653",
   "metadata": {},
   "outputs": [],
   "source": [
    "def to_one_hot(sequences, dimension):\n",
    "    results = np.zeros((len(sequences), dimension))\n",
    "    for i, sequence in enumerate(sequences):\n",
    "        results[i, sequence] = 1\n",
    "    return results"
   ]
  },
  {
   "cell_type": "code",
   "execution_count": null,
   "id": "4400d355",
   "metadata": {},
   "outputs": [],
   "source": [
    "is_true = True\n",
    "while is_true:\n",
    "    # 모든 과정을 재구성\n",
    "    user_input = input('내용을 입력하세요 : ')\n",
    "    # onlymorph_list를 써도 무방\n",
    "    morphed_input, poses = rhinoMorph.wholeResult_list(rn, user_input,\n",
    "                                                      pos = ['NNG','NNP','NP','VV','VA','XR','VCN','MAG','MAJ','IC'])\n",
    "    text = [morphed_input]\n",
    "    # 리스트를 한번 더 씌워 줌\n",
    "    # Tokenizer가 중첩 리스트를 받아서 처리할 때 우리가 원하는 값을 얻을 수 있음\n",
    "\n",
    "    text_sequencing = loaded_age_tokenizer.texts_to_sequences(text)\n",
    "    text_padding = pad_sequences(text_sequencing, maxlen=maxlen)\n",
    "    text_test = to_one_hot(text_padding, dimension= max_words)\n",
    "    prediction_age = loaded_age_model.predict(text_test)\n",
    "    prediction_emo = loaded_emo_model.predict(text_test)\n",
    "    print(np.round(prediction_age,2),np.round(prediction_emo,2), sep ='\\n')\n",
    "    label_age = ['노년','중년','청년','청소년']\n",
    "    label_emo = ['기쁨','당황','분노','불안','상처','슬픔']\n",
    "    print(label_age[np.argmax(prediction_age)], label_emo[np.argmax(prediction_emo)])\n",
    "    keep = input('질문 더? : (Y/N)')\n",
    "    if keep == 'Y':\n",
    "        is_true = True\n",
    "    elif keep == 'N':\n",
    "        is_true = False\n",
    "        print('감사합니다.')"
   ]
  },
  {
   "cell_type": "code",
   "execution_count": null,
   "id": "06f60fbd",
   "metadata": {},
   "outputs": [],
   "source": []
  }
 ],
 "metadata": {
  "kernelspec": {
   "display_name": "Python 3 (ipykernel)",
   "language": "python",
   "name": "python3"
  },
  "language_info": {
   "codemirror_mode": {
    "name": "ipython",
    "version": 3
   },
   "file_extension": ".py",
   "mimetype": "text/x-python",
   "name": "python",
   "nbconvert_exporter": "python",
   "pygments_lexer": "ipython3",
   "version": "3.7.4"
  }
 },
 "nbformat": 4,
 "nbformat_minor": 5
}
