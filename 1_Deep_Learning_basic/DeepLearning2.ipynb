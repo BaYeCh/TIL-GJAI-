{
 "cells": [
  {
   "cell_type": "markdown",
   "id": "a99838fe",
   "metadata": {},
   "source": [
    "# 손실 함수\n",
    "+ loss function"
   ]
  },
  {
   "cell_type": "code",
   "execution_count": 1,
   "id": "51833597",
   "metadata": {},
   "outputs": [],
   "source": [
    "import numpy as np"
   ]
  },
  {
   "cell_type": "code",
   "execution_count": 29,
   "id": "713743a6",
   "metadata": {},
   "outputs": [],
   "source": [
    "def cross_entropy_error(y,t):\n",
    "    delta = 0.0000001\n",
    "    return -np.sum(t * np.log(y+ delta))"
   ]
  },
  {
   "cell_type": "code",
   "execution_count": 6,
   "id": "b746b348",
   "metadata": {},
   "outputs": [
    {
     "data": {
      "text/plain": [
       "0.510825457099338"
      ]
     },
     "execution_count": 6,
     "metadata": {},
     "output_type": "execute_result"
    }
   ],
   "source": [
    "t = [0,0,1,0,0,0,0,0,0,0]\n",
    "y1 = [0.1,0.05,0.6,0,0.05,0.1,0,0.1,0,0]\n",
    "cross_entropy_error(np.array(y1), np.array(t))"
   ]
  },
  {
   "cell_type": "code",
   "execution_count": 7,
   "id": "fe3ed117",
   "metadata": {},
   "outputs": [
    {
     "data": {
      "text/plain": [
       "2.302584092994546"
      ]
     },
     "execution_count": 7,
     "metadata": {},
     "output_type": "execute_result"
    }
   ],
   "source": [
    "y2 = [0.1,0.05,0.1,0,0.05,0.1,0,0.6,0,0]\n",
    "cross_entropy_error(np.array(y2), np.array(t))"
   ]
  },
  {
   "cell_type": "code",
   "execution_count": 10,
   "id": "878d0566",
   "metadata": {},
   "outputs": [],
   "source": [
    "import sys\n",
    "sys.path.append('./dataset')"
   ]
  },
  {
   "cell_type": "code",
   "execution_count": 11,
   "id": "17bbc777",
   "metadata": {},
   "outputs": [],
   "source": [
    "from dataset.mnist import load_mnist"
   ]
  },
  {
   "cell_type": "code",
   "execution_count": 12,
   "id": "7c83d4dd",
   "metadata": {},
   "outputs": [
    {
     "name": "stdout",
     "output_type": "stream",
     "text": [
      "(60000, 784) (60000, 10)\n"
     ]
    }
   ],
   "source": [
    "(x_train, t_train), (x_test, t_test) = load_mnist(normalize= True, one_hot_label=True)\n",
    "print(x_train.shape, t_train.shape)"
   ]
  },
  {
   "cell_type": "code",
   "execution_count": 16,
   "id": "3fde1fc1",
   "metadata": {},
   "outputs": [
    {
     "name": "stdout",
     "output_type": "stream",
     "text": [
      "[20199  9592 41039 19314 54509 41923 28587 46448 25840 17192]\n",
      "[[0. 0. 0. 0. 0. 1. 0. 0. 0. 0.]\n",
      " [0. 0. 0. 1. 0. 0. 0. 0. 0. 0.]\n",
      " [0. 0. 0. 0. 0. 0. 1. 0. 0. 0.]\n",
      " [0. 0. 1. 0. 0. 0. 0. 0. 0. 0.]\n",
      " [0. 0. 0. 0. 0. 0. 0. 0. 0. 1.]\n",
      " [0. 0. 0. 0. 1. 0. 0. 0. 0. 0.]\n",
      " [0. 0. 0. 0. 0. 0. 0. 0. 1. 0.]\n",
      " [0. 0. 0. 0. 0. 1. 0. 0. 0. 0.]\n",
      " [0. 0. 0. 0. 0. 1. 0. 0. 0. 0.]\n",
      " [0. 0. 0. 1. 0. 0. 0. 0. 0. 0.]]\n"
     ]
    }
   ],
   "source": [
    "train_size = x_train.shape[0]\n",
    "batch_size = 10 # 10개의 데이터를 한 번에 본다.\n",
    "batch_mask = np.random.choice(train_size, batch_size)\n",
    "print(batch_mask)\n",
    "\n",
    "x_batch = x_train[batch_mask]\n",
    "t_batch = t_train[batch_mask]\n",
    "print(t_batch)"
   ]
  },
  {
   "cell_type": "code",
   "execution_count": 17,
   "id": "94544c4d",
   "metadata": {},
   "outputs": [],
   "source": [
    "def cross_entropy_error(y,t):\n",
    "    if y.ndim ==1:\n",
    "        t = t.reshape(1, t.size)\n",
    "        y = y.reshape(1, y.size)\n",
    "    batch_size = y.shape[0]\n",
    "    return -np.sum(t * np.log(y))/batch_size"
   ]
  },
  {
   "cell_type": "markdown",
   "id": "4c56d9d8",
   "metadata": {},
   "source": [
    "# Numerical Differentiation"
   ]
  },
  {
   "cell_type": "code",
   "execution_count": 18,
   "id": "5781a8f8",
   "metadata": {},
   "outputs": [],
   "source": [
    "def numerical_diff(f,x):\n",
    "    h = 0.0001\n",
    "    return (f(x+h)-f(x))/h"
   ]
  },
  {
   "cell_type": "code",
   "execution_count": 19,
   "id": "051b06c0",
   "metadata": {},
   "outputs": [],
   "source": [
    "def function_1(x):\n",
    "    return 0.01*x**2 + 0.2*x"
   ]
  },
  {
   "cell_type": "code",
   "execution_count": 20,
   "id": "82ad737d",
   "metadata": {},
   "outputs": [
    {
     "data": {
      "image/png": "[encoded data removed]",
      "text/plain": [
       "<Figure size 640x480 with 1 Axes>"
      ]
     },
     "metadata": {},
     "output_type": "display_data"
    }
   ],
   "source": [
    "import matplotlib.pyplot as plt\n",
    "x = np.arange(0,20,0.1)\n",
    "y = function_1(x)\n",
    "\n",
    "plt.xlabel('x')\n",
    "plt.ylabel('y')\n",
    "plt.plot(x,y)\n",
    "plt.show()"
   ]
  },
  {
   "cell_type": "code",
   "execution_count": 21,
   "id": "d9ff74ff",
   "metadata": {},
   "outputs": [
    {
     "data": {
      "text/plain": [
       "0.3000009999976072"
      ]
     },
     "execution_count": 21,
     "metadata": {},
     "output_type": "execute_result"
    }
   ],
   "source": [
    "numerical_diff(function_1, 5)"
   ]
  },
  {
   "cell_type": "code",
   "execution_count": 22,
   "id": "82ad4e0a",
   "metadata": {},
   "outputs": [
    {
     "data": {
      "text/plain": [
       "0.4000010000027032"
      ]
     },
     "execution_count": 22,
     "metadata": {},
     "output_type": "execute_result"
    }
   ],
   "source": [
    "numerical_diff(function_1, 10)"
   ]
  },
  {
   "cell_type": "code",
   "execution_count": 26,
   "id": "24595210",
   "metadata": {},
   "outputs": [],
   "source": [
    "def function_2_partial1(x0):\n",
    "    return x0**2 + 4**2\n",
    "def function_2_partial2(x1):\n",
    "    return 3**2 + x1**2"
   ]
  },
  {
   "cell_type": "code",
   "execution_count": 27,
   "id": "02ca188e",
   "metadata": {},
   "outputs": [
    {
     "data": {
      "text/plain": [
       "6.000099999994291"
      ]
     },
     "execution_count": 27,
     "metadata": {},
     "output_type": "execute_result"
    }
   ],
   "source": [
    "numerical_diff(function_2_partial1, 3)"
   ]
  },
  {
   "cell_type": "code",
   "execution_count": 28,
   "id": "4f891382",
   "metadata": {},
   "outputs": [
    {
     "data": {
      "text/plain": [
       "8.00009999998963"
      ]
     },
     "execution_count": 28,
     "metadata": {},
     "output_type": "execute_result"
    }
   ],
   "source": [
    "numerical_diff(function_2_partial2, 4)"
   ]
  },
  {
   "cell_type": "code",
   "execution_count": 33,
   "id": "74aa1d7c",
   "metadata": {},
   "outputs": [],
   "source": [
    "def gradient_descent(f, init_x, lr = 0.01, step_num=100):\n",
    "    x = init_x\n",
    "    x_history = []\n",
    "    \n",
    "    for i in range(step_num):\n",
    "        x_history.append(x.copy())\n",
    "        grad = numerical_gardient(f,x)\n",
    "        # gard가 0이 될 때 x값이 고정이 됨\n",
    "        # 그 지점이 최적 가중치\n",
    "        x -= lr*grad\n",
    "    return x, np.array(x_history)"
   ]
  },
  {
   "cell_type": "code",
   "execution_count": 30,
   "id": "8ee9e70b",
   "metadata": {},
   "outputs": [],
   "source": [
    "def numerical_gardient(f,x) :\n",
    "    '''\n",
    "    f : 함수\n",
    "    x : 변수\n",
    "    return 값 : 변수의 기울기 값\n",
    "    \n",
    "    각 가중치의 특정 함수에서의 기울기를 구하는 것\n",
    "    '''\n",
    "    h = 0.0001\n",
    "    grad = np.zeros_like(x)\n",
    "    \n",
    "    # 과도한 for문 사용을 줄이기 위한 코드\n",
    "    # flags : 추적이 가능하게 다차원 배열의 인덱스를 튜플로 받는 속성\n",
    "    # op_flags : 읽기와 쓰기가 가능하게 하는 속성\n",
    "    it = np.nditer(x, flags = ['multi_index'], op_flags = ['readwrite'])\n",
    "\n",
    "    while not it.finished:\n",
    "        # multi_index 속성으로 인덱스를 불러올 수 있다\n",
    "        index = it.multi_index\n",
    "        \n",
    "        tmp_val = x[index]\n",
    "        x[index] = float(tmp_val) + h\n",
    "        fxh1 = f(x)\n",
    "        \n",
    "        x[index] = tmp_val\n",
    "        fxh2 = f(x)\n",
    "        \n",
    "        grad[index] = (fxh1 - fxh2) / h\n",
    "        it.iternext()\n",
    "        \n",
    "    return np.round(grad, 3)\n",
    "def softmax(a):\n",
    "    '''\n",
    "    각 분류 노드에서의 확률을 계산\n",
    "    '''\n",
    "    exp_a = np.exp(a)\n",
    "    sum_exp_a = np.sum(exp_a)\n",
    "    y = exp_a / sum_exp_a\n",
    "    return y"
   ]
  },
  {
   "cell_type": "markdown",
   "id": "a956c4f1",
   "metadata": {},
   "source": [
    "###  신경망 클래스 정의\n",
    "+ 가중치를 2x3 형상의 랜덤값으로 초기화하고\n",
    "+ 입력값과 가중치로 행렬곱을 하여 예측을 수행하는 함수 및 결과의 소프트맥스 확률 값 및 정답 레이블을 이용해 손실값을 계산하는 함수 정의"
   ]
  },
  {
   "cell_type": "code",
   "execution_count": 31,
   "id": "38b896b9",
   "metadata": {},
   "outputs": [],
   "source": [
    "class simpleNet:\n",
    "    '''\n",
    "    predict : 예측 메서드\n",
    "    loss : 예측을 수행하고 결과의 각 확률을 구한 뒤 정답과 비교하여 전체 오차 값 계산\n",
    "    '''\n",
    "    def __init__(self):\n",
    "        # 가우시안 표준 정규 분포에서 난수 matrix array 생성\n",
    "        self.W = np.random.randn(2,3)\n",
    "    def predict(self, x):\n",
    "        return np.dot(x, self.W)\n",
    "    def loss(self, x,t):\n",
    "        z = self.predict(x)\n",
    "        y = softmax(z)\n",
    "        loss = cross_entropy_error(y, t)\n",
    "        return loss"
   ]
  },
  {
   "cell_type": "code",
   "execution_count": 2,
   "id": "6fa8fba6",
   "metadata": {},
   "outputs": [],
   "source": [
    "import matplotlib.pyplot as plt"
   ]
  },
  {
   "cell_type": "code",
   "execution_count": 3,
   "id": "4ed79723",
   "metadata": {},
   "outputs": [],
   "source": [
    "def numerical_diff(f,w):\n",
    "    dw = 0.0001\n",
    "    return (f(w+dw)-f(w))/ dw"
   ]
  },
  {
   "cell_type": "code",
   "execution_count": 4,
   "id": "2751ccef",
   "metadata": {},
   "outputs": [],
   "source": [
    "def loss_function(w):\n",
    "    return w**2"
   ]
  },
  {
   "cell_type": "code",
   "execution_count": 5,
   "id": "cd6f66ab",
   "metadata": {},
   "outputs": [],
   "source": [
    "w = np.arange(-10.0, 10, 0.1)\n",
    "y = loss_function(w)"
   ]
  },
  {
   "cell_type": "code",
   "execution_count": 6,
   "id": "1a7b9496",
   "metadata": {},
   "outputs": [
    {
     "data": {
      "image/png": "[encoded data removed]",
      "text/plain": [
       "<Figure size 640x480 with 1 Axes>"
      ]
     },
     "metadata": {},
     "output_type": "display_data"
    }
   ],
   "source": [
    "plt.xlabel('w')\n",
    "plt.ylabel('E')\n",
    "plt.plot(w,y)\n",
    "plt.show()"
   ]
  },
  {
   "cell_type": "code",
   "execution_count": 7,
   "id": "47658885",
   "metadata": {},
   "outputs": [
    {
     "name": "stdout",
     "output_type": "stream",
     "text": [
      "10.000099999984968 5.000100000014385\n"
     ]
    }
   ],
   "source": [
    "w_50 = numerical_diff(loss_function,5)\n",
    "w_25 = numerical_diff(loss_function, 2.5)\n",
    "print(w_50, w_25)"
   ]
  },
  {
   "cell_type": "code",
   "execution_count": null,
   "id": "b0698da1",
   "metadata": {},
   "outputs": [],
   "source": []
  }
 ],
 "metadata": {
  "kernelspec": {
   "display_name": "Python 3 (ipykernel)",
   "language": "python",
   "name": "python3"
  },
  "language_info": {
   "codemirror_mode": {
    "name": "ipython",
    "version": 3
   },
   "file_extension": ".py",
   "mimetype": "text/x-python",
   "name": "python",
   "nbconvert_exporter": "python",
   "pygments_lexer": "ipython3",
   "version": "3.7.4"
  }
 },
 "nbformat": 4,
 "nbformat_minor": 5
}
