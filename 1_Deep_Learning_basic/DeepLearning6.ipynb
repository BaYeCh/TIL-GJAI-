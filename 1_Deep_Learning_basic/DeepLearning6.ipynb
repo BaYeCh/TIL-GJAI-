{
 "cells": [
  {
   "cell_type": "markdown",
   "id": "82adaa65",
   "metadata": {},
   "source": [
    "# 딥러닝 다중분류"
   ]
  },
  {
   "cell_type": "code",
   "execution_count": 2,
   "id": "5fe14704",
   "metadata": {},
   "outputs": [],
   "source": [
    "import os\n",
    "path = \"C:/pytest/\"\n",
    "os.chdir(path)"
   ]
  },
  {
   "cell_type": "code",
   "execution_count": 3,
   "id": "e57b3f1d",
   "metadata": {},
   "outputs": [],
   "source": [
    "import pandas as pd"
   ]
  },
  {
   "cell_type": "code",
   "execution_count": 5,
   "id": "b8787bc0",
   "metadata": {},
   "outputs": [
    {
     "data": {
      "text/html": [
       "<div>\n",
       "<style scoped>\n",
       "    .dataframe tbody tr th:only-of-type {\n",
       "        vertical-align: middle;\n",
       "    }\n",
       "\n",
       "    .dataframe tbody tr th {\n",
       "        vertical-align: top;\n",
       "    }\n",
       "\n",
       "    .dataframe thead th {\n",
       "        text-align: right;\n",
       "    }\n",
       "</style>\n",
       "<table border=\"1\" class=\"dataframe\">\n",
       "  <thead>\n",
       "    <tr style=\"text-align: right;\">\n",
       "      <th></th>\n",
       "      <th>Sepal.Length</th>\n",
       "      <th>Sepal.Width</th>\n",
       "      <th>Petal.Length</th>\n",
       "      <th>Petal.Width</th>\n",
       "      <th>Species</th>\n",
       "    </tr>\n",
       "  </thead>\n",
       "  <tbody>\n",
       "    <tr>\n",
       "      <th>0</th>\n",
       "      <td>5.1</td>\n",
       "      <td>3.5</td>\n",
       "      <td>1.4</td>\n",
       "      <td>0.2</td>\n",
       "      <td>setosa</td>\n",
       "    </tr>\n",
       "    <tr>\n",
       "      <th>1</th>\n",
       "      <td>4.9</td>\n",
       "      <td>3.0</td>\n",
       "      <td>1.4</td>\n",
       "      <td>0.2</td>\n",
       "      <td>setosa</td>\n",
       "    </tr>\n",
       "    <tr>\n",
       "      <th>2</th>\n",
       "      <td>4.7</td>\n",
       "      <td>3.2</td>\n",
       "      <td>1.3</td>\n",
       "      <td>0.2</td>\n",
       "      <td>setosa</td>\n",
       "    </tr>\n",
       "    <tr>\n",
       "      <th>3</th>\n",
       "      <td>4.6</td>\n",
       "      <td>3.1</td>\n",
       "      <td>1.5</td>\n",
       "      <td>0.2</td>\n",
       "      <td>setosa</td>\n",
       "    </tr>\n",
       "    <tr>\n",
       "      <th>4</th>\n",
       "      <td>5.0</td>\n",
       "      <td>3.6</td>\n",
       "      <td>1.4</td>\n",
       "      <td>0.2</td>\n",
       "      <td>setosa</td>\n",
       "    </tr>\n",
       "  </tbody>\n",
       "</table>\n",
       "</div>"
      ],
      "text/plain": [
       "   Sepal.Length  Sepal.Width  Petal.Length  Petal.Width Species\n",
       "0           5.1          3.5           1.4          0.2  setosa\n",
       "1           4.9          3.0           1.4          0.2  setosa\n",
       "2           4.7          3.2           1.3          0.2  setosa\n",
       "3           4.6          3.1           1.5          0.2  setosa\n",
       "4           5.0          3.6           1.4          0.2  setosa"
      ]
     },
     "execution_count": 5,
     "metadata": {},
     "output_type": "execute_result"
    }
   ],
   "source": [
    "df = pd.read_csv('iris.csv')\n",
    "df.head()"
   ]
  },
  {
   "cell_type": "code",
   "execution_count": 6,
   "id": "d28fd9fb",
   "metadata": {},
   "outputs": [
    {
     "data": {
      "text/html": [
       "<div>\n",
       "<style scoped>\n",
       "    .dataframe tbody tr th:only-of-type {\n",
       "        vertical-align: middle;\n",
       "    }\n",
       "\n",
       "    .dataframe tbody tr th {\n",
       "        vertical-align: top;\n",
       "    }\n",
       "\n",
       "    .dataframe thead th {\n",
       "        text-align: right;\n",
       "    }\n",
       "</style>\n",
       "<table border=\"1\" class=\"dataframe\">\n",
       "  <thead>\n",
       "    <tr style=\"text-align: right;\">\n",
       "      <th></th>\n",
       "      <th>Sepal.Length</th>\n",
       "      <th>Sepal.Width</th>\n",
       "      <th>Petal.Length</th>\n",
       "      <th>Petal.Width</th>\n",
       "      <th>Species</th>\n",
       "    </tr>\n",
       "  </thead>\n",
       "  <tbody>\n",
       "    <tr>\n",
       "      <th>145</th>\n",
       "      <td>6.7</td>\n",
       "      <td>3.0</td>\n",
       "      <td>5.2</td>\n",
       "      <td>2.3</td>\n",
       "      <td>virginica</td>\n",
       "    </tr>\n",
       "    <tr>\n",
       "      <th>146</th>\n",
       "      <td>6.3</td>\n",
       "      <td>2.5</td>\n",
       "      <td>5.0</td>\n",
       "      <td>1.9</td>\n",
       "      <td>virginica</td>\n",
       "    </tr>\n",
       "    <tr>\n",
       "      <th>147</th>\n",
       "      <td>6.5</td>\n",
       "      <td>3.0</td>\n",
       "      <td>5.2</td>\n",
       "      <td>2.0</td>\n",
       "      <td>virginica</td>\n",
       "    </tr>\n",
       "    <tr>\n",
       "      <th>148</th>\n",
       "      <td>6.2</td>\n",
       "      <td>3.4</td>\n",
       "      <td>5.4</td>\n",
       "      <td>2.3</td>\n",
       "      <td>virginica</td>\n",
       "    </tr>\n",
       "    <tr>\n",
       "      <th>149</th>\n",
       "      <td>5.9</td>\n",
       "      <td>3.0</td>\n",
       "      <td>5.1</td>\n",
       "      <td>1.8</td>\n",
       "      <td>virginica</td>\n",
       "    </tr>\n",
       "  </tbody>\n",
       "</table>\n",
       "</div>"
      ],
      "text/plain": [
       "     Sepal.Length  Sepal.Width  Petal.Length  Petal.Width    Species\n",
       "145           6.7          3.0           5.2          2.3  virginica\n",
       "146           6.3          2.5           5.0          1.9  virginica\n",
       "147           6.5          3.0           5.2          2.0  virginica\n",
       "148           6.2          3.4           5.4          2.3  virginica\n",
       "149           5.9          3.0           5.1          1.8  virginica"
      ]
     },
     "execution_count": 6,
     "metadata": {},
     "output_type": "execute_result"
    }
   ],
   "source": [
    "df.tail()"
   ]
  },
  {
   "cell_type": "code",
   "execution_count": 7,
   "id": "8127b802",
   "metadata": {},
   "outputs": [
    {
     "data": {
      "text/plain": [
       "array(['setosa', 'versicolor', 'virginica'], dtype=object)"
      ]
     },
     "execution_count": 7,
     "metadata": {},
     "output_type": "execute_result"
    }
   ],
   "source": [
    "df['Species'].unique()"
   ]
  },
  {
   "cell_type": "code",
   "execution_count": 10,
   "id": "4b96f02a",
   "metadata": {},
   "outputs": [
    {
     "data": {
      "text/html": [
       "<div>\n",
       "<style scoped>\n",
       "    .dataframe tbody tr th:only-of-type {\n",
       "        vertical-align: middle;\n",
       "    }\n",
       "\n",
       "    .dataframe tbody tr th {\n",
       "        vertical-align: top;\n",
       "    }\n",
       "\n",
       "    .dataframe thead th {\n",
       "        text-align: right;\n",
       "    }\n",
       "</style>\n",
       "<table border=\"1\" class=\"dataframe\">\n",
       "  <thead>\n",
       "    <tr style=\"text-align: right;\">\n",
       "      <th></th>\n",
       "      <th>Sepal.Length</th>\n",
       "      <th>Sepal.Width</th>\n",
       "      <th>Petal.Length</th>\n",
       "      <th>Petal.Width</th>\n",
       "      <th>Species</th>\n",
       "    </tr>\n",
       "  </thead>\n",
       "  <tbody>\n",
       "    <tr>\n",
       "      <th>6</th>\n",
       "      <td>4.6</td>\n",
       "      <td>3.4</td>\n",
       "      <td>1.4</td>\n",
       "      <td>0.3</td>\n",
       "      <td>setosa</td>\n",
       "    </tr>\n",
       "    <tr>\n",
       "      <th>141</th>\n",
       "      <td>6.9</td>\n",
       "      <td>3.1</td>\n",
       "      <td>5.1</td>\n",
       "      <td>2.3</td>\n",
       "      <td>virginica</td>\n",
       "    </tr>\n",
       "    <tr>\n",
       "      <th>114</th>\n",
       "      <td>5.8</td>\n",
       "      <td>2.8</td>\n",
       "      <td>5.1</td>\n",
       "      <td>2.4</td>\n",
       "      <td>virginica</td>\n",
       "    </tr>\n",
       "    <tr>\n",
       "      <th>77</th>\n",
       "      <td>6.7</td>\n",
       "      <td>3.0</td>\n",
       "      <td>5.0</td>\n",
       "      <td>1.7</td>\n",
       "      <td>versicolor</td>\n",
       "    </tr>\n",
       "    <tr>\n",
       "      <th>83</th>\n",
       "      <td>6.0</td>\n",
       "      <td>2.7</td>\n",
       "      <td>5.1</td>\n",
       "      <td>1.6</td>\n",
       "      <td>versicolor</td>\n",
       "    </tr>\n",
       "  </tbody>\n",
       "</table>\n",
       "</div>"
      ],
      "text/plain": [
       "     Sepal.Length  Sepal.Width  Petal.Length  Petal.Width     Species\n",
       "6             4.6          3.4           1.4          0.3      setosa\n",
       "141           6.9          3.1           5.1          2.3   virginica\n",
       "114           5.8          2.8           5.1          2.4   virginica\n",
       "77            6.7          3.0           5.0          1.7  versicolor\n",
       "83            6.0          2.7           5.1          1.6  versicolor"
      ]
     },
     "execution_count": 10,
     "metadata": {},
     "output_type": "execute_result"
    }
   ],
   "source": [
    "df = df.sample(frac = 1)\n",
    "df.head()"
   ]
  },
  {
   "cell_type": "code",
   "execution_count": 11,
   "id": "cd9b3f1d",
   "metadata": {},
   "outputs": [
    {
     "name": "stdout",
     "output_type": "stream",
     "text": [
      "<class 'pandas.core.frame.DataFrame'>\n",
      "Int64Index: 150 entries, 6 to 11\n",
      "Data columns (total 5 columns):\n",
      " #   Column        Non-Null Count  Dtype  \n",
      "---  ------        --------------  -----  \n",
      " 0   Sepal.Length  150 non-null    float64\n",
      " 1   Sepal.Width   150 non-null    float64\n",
      " 2   Petal.Length  150 non-null    float64\n",
      " 3   Petal.Width   150 non-null    float64\n",
      " 4   Species       150 non-null    object \n",
      "dtypes: float64(4), object(1)\n",
      "memory usage: 7.0+ KB\n"
     ]
    }
   ],
   "source": [
    "df.info()"
   ]
  },
  {
   "cell_type": "code",
   "execution_count": 12,
   "id": "9b761af7",
   "metadata": {},
   "outputs": [
    {
     "data": {
      "text/html": [
       "<div>\n",
       "<style scoped>\n",
       "    .dataframe tbody tr th:only-of-type {\n",
       "        vertical-align: middle;\n",
       "    }\n",
       "\n",
       "    .dataframe tbody tr th {\n",
       "        vertical-align: top;\n",
       "    }\n",
       "\n",
       "    .dataframe thead th {\n",
       "        text-align: right;\n",
       "    }\n",
       "</style>\n",
       "<table border=\"1\" class=\"dataframe\">\n",
       "  <thead>\n",
       "    <tr style=\"text-align: right;\">\n",
       "      <th></th>\n",
       "      <th>Sepal.Length</th>\n",
       "      <th>Sepal.Width</th>\n",
       "      <th>Petal.Length</th>\n",
       "      <th>Petal.Width</th>\n",
       "    </tr>\n",
       "  </thead>\n",
       "  <tbody>\n",
       "    <tr>\n",
       "      <th>count</th>\n",
       "      <td>150.000000</td>\n",
       "      <td>150.000000</td>\n",
       "      <td>150.000000</td>\n",
       "      <td>150.000000</td>\n",
       "    </tr>\n",
       "    <tr>\n",
       "      <th>mean</th>\n",
       "      <td>5.843333</td>\n",
       "      <td>3.057333</td>\n",
       "      <td>3.758000</td>\n",
       "      <td>1.199333</td>\n",
       "    </tr>\n",
       "    <tr>\n",
       "      <th>std</th>\n",
       "      <td>0.828066</td>\n",
       "      <td>0.435866</td>\n",
       "      <td>1.765298</td>\n",
       "      <td>0.762238</td>\n",
       "    </tr>\n",
       "    <tr>\n",
       "      <th>min</th>\n",
       "      <td>4.300000</td>\n",
       "      <td>2.000000</td>\n",
       "      <td>1.000000</td>\n",
       "      <td>0.100000</td>\n",
       "    </tr>\n",
       "    <tr>\n",
       "      <th>25%</th>\n",
       "      <td>5.100000</td>\n",
       "      <td>2.800000</td>\n",
       "      <td>1.600000</td>\n",
       "      <td>0.300000</td>\n",
       "    </tr>\n",
       "    <tr>\n",
       "      <th>50%</th>\n",
       "      <td>5.800000</td>\n",
       "      <td>3.000000</td>\n",
       "      <td>4.350000</td>\n",
       "      <td>1.300000</td>\n",
       "    </tr>\n",
       "    <tr>\n",
       "      <th>75%</th>\n",
       "      <td>6.400000</td>\n",
       "      <td>3.300000</td>\n",
       "      <td>5.100000</td>\n",
       "      <td>1.800000</td>\n",
       "    </tr>\n",
       "    <tr>\n",
       "      <th>max</th>\n",
       "      <td>7.900000</td>\n",
       "      <td>4.400000</td>\n",
       "      <td>6.900000</td>\n",
       "      <td>2.500000</td>\n",
       "    </tr>\n",
       "  </tbody>\n",
       "</table>\n",
       "</div>"
      ],
      "text/plain": [
       "       Sepal.Length  Sepal.Width  Petal.Length  Petal.Width\n",
       "count    150.000000   150.000000    150.000000   150.000000\n",
       "mean       5.843333     3.057333      3.758000     1.199333\n",
       "std        0.828066     0.435866      1.765298     0.762238\n",
       "min        4.300000     2.000000      1.000000     0.100000\n",
       "25%        5.100000     2.800000      1.600000     0.300000\n",
       "50%        5.800000     3.000000      4.350000     1.300000\n",
       "75%        6.400000     3.300000      5.100000     1.800000\n",
       "max        7.900000     4.400000      6.900000     2.500000"
      ]
     },
     "execution_count": 12,
     "metadata": {},
     "output_type": "execute_result"
    }
   ],
   "source": [
    "df.describe()"
   ]
  },
  {
   "cell_type": "code",
   "execution_count": 14,
   "id": "bcbb08fa",
   "metadata": {},
   "outputs": [],
   "source": [
    "import matplotlib.pyplot as plt"
   ]
  },
  {
   "cell_type": "code",
   "execution_count": 17,
   "id": "21d702b0",
   "metadata": {
    "scrolled": true
   },
   "outputs": [
    {
     "ename": "TypeError",
     "evalue": "ufunc 'true_divide' not supported for the input types, and the inputs could not be safely coerced to any supported types according to the casting rule ''safe''",
     "output_type": "error",
     "traceback": [
      "\u001b[1;31m---------------------------------------------------------------------------\u001b[0m",
      "\u001b[1;31mTypeError\u001b[0m                                 Traceback (most recent call last)",
      "\u001b[1;32m~\\AppData\\Local\\Temp\\ipykernel_20784\\1037493717.py\u001b[0m in \u001b[0;36m<module>\u001b[1;34m\u001b[0m\n\u001b[1;32m----> 1\u001b[1;33m \u001b[0mplt\u001b[0m\u001b[1;33m.\u001b[0m\u001b[0mboxplot\u001b[0m\u001b[1;33m(\u001b[0m\u001b[0mdf\u001b[0m\u001b[1;33m,\u001b[0m \u001b[0mshowmeans\u001b[0m\u001b[1;33m=\u001b[0m\u001b[1;32mTrue\u001b[0m\u001b[1;33m,\u001b[0m \u001b[0mmeanline\u001b[0m\u001b[1;33m=\u001b[0m\u001b[1;32mTrue\u001b[0m\u001b[1;33m,\u001b[0m\u001b[0mlabels\u001b[0m\u001b[1;33m=\u001b[0m\u001b[0mdf\u001b[0m\u001b[1;33m.\u001b[0m\u001b[0mcolumns\u001b[0m\u001b[1;33m)\u001b[0m\u001b[1;33m\u001b[0m\u001b[1;33m\u001b[0m\u001b[0m\n\u001b[0m\u001b[0;32m      2\u001b[0m \u001b[0mplt\u001b[0m\u001b[1;33m.\u001b[0m\u001b[0mshow\u001b[0m\u001b[1;33m(\u001b[0m\u001b[1;33m)\u001b[0m\u001b[1;33m\u001b[0m\u001b[1;33m\u001b[0m\u001b[0m\n",
      "\u001b[1;32mC:\\Anaconda3\\lib\\site-packages\\matplotlib\\pyplot.py\u001b[0m in \u001b[0;36mboxplot\u001b[1;34m(x, notch, sym, vert, whis, positions, widths, patch_artist, bootstrap, usermedians, conf_intervals, meanline, showmeans, showcaps, showbox, showfliers, boxprops, labels, flierprops, medianprops, meanprops, capprops, whiskerprops, manage_ticks, autorange, zorder, data)\u001b[0m\n\u001b[0;32m   2449\u001b[0m         \u001b[0mwhiskerprops\u001b[0m\u001b[1;33m=\u001b[0m\u001b[0mwhiskerprops\u001b[0m\u001b[1;33m,\u001b[0m \u001b[0mmanage_ticks\u001b[0m\u001b[1;33m=\u001b[0m\u001b[0mmanage_ticks\u001b[0m\u001b[1;33m,\u001b[0m\u001b[1;33m\u001b[0m\u001b[1;33m\u001b[0m\u001b[0m\n\u001b[0;32m   2450\u001b[0m         \u001b[0mautorange\u001b[0m\u001b[1;33m=\u001b[0m\u001b[0mautorange\u001b[0m\u001b[1;33m,\u001b[0m \u001b[0mzorder\u001b[0m\u001b[1;33m=\u001b[0m\u001b[0mzorder\u001b[0m\u001b[1;33m,\u001b[0m\u001b[1;33m\u001b[0m\u001b[1;33m\u001b[0m\u001b[0m\n\u001b[1;32m-> 2451\u001b[1;33m         **({\"data\": data} if data is not None else {}))\n\u001b[0m\u001b[0;32m   2452\u001b[0m \u001b[1;33m\u001b[0m\u001b[0m\n\u001b[0;32m   2453\u001b[0m \u001b[1;33m\u001b[0m\u001b[0m\n",
      "\u001b[1;32mC:\\Anaconda3\\lib\\site-packages\\matplotlib\\__init__.py\u001b[0m in \u001b[0;36minner\u001b[1;34m(ax, data, *args, **kwargs)\u001b[0m\n\u001b[0;32m   1410\u001b[0m     \u001b[1;32mdef\u001b[0m \u001b[0minner\u001b[0m\u001b[1;33m(\u001b[0m\u001b[0max\u001b[0m\u001b[1;33m,\u001b[0m \u001b[1;33m*\u001b[0m\u001b[0margs\u001b[0m\u001b[1;33m,\u001b[0m \u001b[0mdata\u001b[0m\u001b[1;33m=\u001b[0m\u001b[1;32mNone\u001b[0m\u001b[1;33m,\u001b[0m \u001b[1;33m**\u001b[0m\u001b[0mkwargs\u001b[0m\u001b[1;33m)\u001b[0m\u001b[1;33m:\u001b[0m\u001b[1;33m\u001b[0m\u001b[1;33m\u001b[0m\u001b[0m\n\u001b[0;32m   1411\u001b[0m         \u001b[1;32mif\u001b[0m \u001b[0mdata\u001b[0m \u001b[1;32mis\u001b[0m \u001b[1;32mNone\u001b[0m\u001b[1;33m:\u001b[0m\u001b[1;33m\u001b[0m\u001b[1;33m\u001b[0m\u001b[0m\n\u001b[1;32m-> 1412\u001b[1;33m             \u001b[1;32mreturn\u001b[0m \u001b[0mfunc\u001b[0m\u001b[1;33m(\u001b[0m\u001b[0max\u001b[0m\u001b[1;33m,\u001b[0m \u001b[1;33m*\u001b[0m\u001b[0mmap\u001b[0m\u001b[1;33m(\u001b[0m\u001b[0msanitize_sequence\u001b[0m\u001b[1;33m,\u001b[0m \u001b[0margs\u001b[0m\u001b[1;33m)\u001b[0m\u001b[1;33m,\u001b[0m \u001b[1;33m**\u001b[0m\u001b[0mkwargs\u001b[0m\u001b[1;33m)\u001b[0m\u001b[1;33m\u001b[0m\u001b[1;33m\u001b[0m\u001b[0m\n\u001b[0m\u001b[0;32m   1413\u001b[0m \u001b[1;33m\u001b[0m\u001b[0m\n\u001b[0;32m   1414\u001b[0m         \u001b[0mbound\u001b[0m \u001b[1;33m=\u001b[0m \u001b[0mnew_sig\u001b[0m\u001b[1;33m.\u001b[0m\u001b[0mbind\u001b[0m\u001b[1;33m(\u001b[0m\u001b[0max\u001b[0m\u001b[1;33m,\u001b[0m \u001b[1;33m*\u001b[0m\u001b[0margs\u001b[0m\u001b[1;33m,\u001b[0m \u001b[1;33m**\u001b[0m\u001b[0mkwargs\u001b[0m\u001b[1;33m)\u001b[0m\u001b[1;33m\u001b[0m\u001b[1;33m\u001b[0m\u001b[0m\n",
      "\u001b[1;32mC:\\Anaconda3\\lib\\site-packages\\matplotlib\\axes\\_axes.py\u001b[0m in \u001b[0;36mboxplot\u001b[1;34m(self, x, notch, sym, vert, whis, positions, widths, patch_artist, bootstrap, usermedians, conf_intervals, meanline, showmeans, showcaps, showbox, showfliers, boxprops, labels, flierprops, medianprops, meanprops, capprops, whiskerprops, manage_ticks, autorange, zorder)\u001b[0m\n\u001b[0;32m   3703\u001b[0m \u001b[1;33m\u001b[0m\u001b[0m\n\u001b[0;32m   3704\u001b[0m         bxpstats = cbook.boxplot_stats(x, whis=whis, bootstrap=bootstrap,\n\u001b[1;32m-> 3705\u001b[1;33m                                        labels=labels, autorange=autorange)\n\u001b[0m\u001b[0;32m   3706\u001b[0m         \u001b[1;32mif\u001b[0m \u001b[0mnotch\u001b[0m \u001b[1;32mis\u001b[0m \u001b[1;32mNone\u001b[0m\u001b[1;33m:\u001b[0m\u001b[1;33m\u001b[0m\u001b[1;33m\u001b[0m\u001b[0m\n\u001b[0;32m   3707\u001b[0m             \u001b[0mnotch\u001b[0m \u001b[1;33m=\u001b[0m \u001b[0mrcParams\u001b[0m\u001b[1;33m[\u001b[0m\u001b[1;34m'boxplot.notch'\u001b[0m\u001b[1;33m]\u001b[0m\u001b[1;33m\u001b[0m\u001b[1;33m\u001b[0m\u001b[0m\n",
      "\u001b[1;32mC:\\Anaconda3\\lib\\site-packages\\matplotlib\\cbook\\__init__.py\u001b[0m in \u001b[0;36mboxplot_stats\u001b[1;34m(X, whis, bootstrap, labels, autorange)\u001b[0m\n\u001b[0;32m   1193\u001b[0m \u001b[1;33m\u001b[0m\u001b[0m\n\u001b[0;32m   1194\u001b[0m         \u001b[1;31m# arithmetic mean\u001b[0m\u001b[1;33m\u001b[0m\u001b[1;33m\u001b[0m\u001b[1;33m\u001b[0m\u001b[0m\n\u001b[1;32m-> 1195\u001b[1;33m         \u001b[0mstats\u001b[0m\u001b[1;33m[\u001b[0m\u001b[1;34m'mean'\u001b[0m\u001b[1;33m]\u001b[0m \u001b[1;33m=\u001b[0m \u001b[0mnp\u001b[0m\u001b[1;33m.\u001b[0m\u001b[0mmean\u001b[0m\u001b[1;33m(\u001b[0m\u001b[0mx\u001b[0m\u001b[1;33m)\u001b[0m\u001b[1;33m\u001b[0m\u001b[1;33m\u001b[0m\u001b[0m\n\u001b[0m\u001b[0;32m   1196\u001b[0m \u001b[1;33m\u001b[0m\u001b[0m\n\u001b[0;32m   1197\u001b[0m         \u001b[1;31m# medians and quartiles\u001b[0m\u001b[1;33m\u001b[0m\u001b[1;33m\u001b[0m\u001b[1;33m\u001b[0m\u001b[0m\n",
      "\u001b[1;32m<__array_function__ internals>\u001b[0m in \u001b[0;36mmean\u001b[1;34m(*args, **kwargs)\u001b[0m\n",
      "\u001b[1;32mC:\\Anaconda3\\lib\\site-packages\\numpy\\core\\fromnumeric.py\u001b[0m in \u001b[0;36mmean\u001b[1;34m(a, axis, dtype, out, keepdims, where)\u001b[0m\n\u001b[0;32m   3439\u001b[0m \u001b[1;33m\u001b[0m\u001b[0m\n\u001b[0;32m   3440\u001b[0m     return _methods._mean(a, axis=axis, dtype=dtype,\n\u001b[1;32m-> 3441\u001b[1;33m                           out=out, **kwargs)\n\u001b[0m\u001b[0;32m   3442\u001b[0m \u001b[1;33m\u001b[0m\u001b[0m\n\u001b[0;32m   3443\u001b[0m \u001b[1;33m\u001b[0m\u001b[0m\n",
      "\u001b[1;32mC:\\Anaconda3\\lib\\site-packages\\numpy\\core\\_methods.py\u001b[0m in \u001b[0;36m_mean\u001b[1;34m(a, axis, dtype, out, keepdims, where)\u001b[0m\n\u001b[0;32m    189\u001b[0m             \u001b[0mret\u001b[0m \u001b[1;33m=\u001b[0m \u001b[0mret\u001b[0m\u001b[1;33m.\u001b[0m\u001b[0mdtype\u001b[0m\u001b[1;33m.\u001b[0m\u001b[0mtype\u001b[0m\u001b[1;33m(\u001b[0m\u001b[0mret\u001b[0m \u001b[1;33m/\u001b[0m \u001b[0mrcount\u001b[0m\u001b[1;33m)\u001b[0m\u001b[1;33m\u001b[0m\u001b[1;33m\u001b[0m\u001b[0m\n\u001b[0;32m    190\u001b[0m     \u001b[1;32melse\u001b[0m\u001b[1;33m:\u001b[0m\u001b[1;33m\u001b[0m\u001b[1;33m\u001b[0m\u001b[0m\n\u001b[1;32m--> 191\u001b[1;33m         \u001b[0mret\u001b[0m \u001b[1;33m=\u001b[0m \u001b[0mret\u001b[0m \u001b[1;33m/\u001b[0m \u001b[0mrcount\u001b[0m\u001b[1;33m\u001b[0m\u001b[1;33m\u001b[0m\u001b[0m\n\u001b[0m\u001b[0;32m    192\u001b[0m \u001b[1;33m\u001b[0m\u001b[0m\n\u001b[0;32m    193\u001b[0m     \u001b[1;32mreturn\u001b[0m \u001b[0mret\u001b[0m\u001b[1;33m\u001b[0m\u001b[1;33m\u001b[0m\u001b[0m\n",
      "\u001b[1;31mTypeError\u001b[0m: ufunc 'true_divide' not supported for the input types, and the inputs could not be safely coerced to any supported types according to the casting rule ''safe''"
     ]
    },
    {
     "data": {
      "image/png": "[encoded data removed]",
      "text/plain": [
       "<Figure size 640x480 with 1 Axes>"
      ]
     },
     "metadata": {},
     "output_type": "display_data"
    }
   ],
   "source": [
    "plt.boxplot(df, showmeans=True, meanline=True,labels=df.columns)\n",
    "plt.show()"
   ]
  },
  {
   "cell_type": "code",
   "execution_count": 18,
   "id": "3249d73d",
   "metadata": {},
   "outputs": [],
   "source": [
    "X = df.iloc[:,0:4]\n",
    "y = df.iloc[:,4]"
   ]
  },
  {
   "cell_type": "code",
   "execution_count": 20,
   "id": "1613764b",
   "metadata": {},
   "outputs": [
    {
     "name": "stdout",
     "output_type": "stream",
     "text": [
      "112 38 112 38\n"
     ]
    }
   ],
   "source": [
    "from sklearn.model_selection import train_test_split\n",
    "train_X, test_X, train_y, test_y = train_test_split(X,y)\n",
    "print(len(train_X), len(test_X), len(train_y), len(test_y))"
   ]
  },
  {
   "cell_type": "markdown",
   "id": "3922a67d",
   "metadata": {},
   "source": [
    "### 문자열을 숫자형으로 변환"
   ]
  },
  {
   "cell_type": "code",
   "execution_count": 22,
   "id": "ee1c124c",
   "metadata": {},
   "outputs": [
    {
     "name": "stdout",
     "output_type": "stream",
     "text": [
      "[2 2 1 1 1 0 1 0 2 2 1 1 1 0 0 0 1 2 1 0 1 1 1 2 2 1 0 2 0 0 0 0 0 0 0 0 1\n",
      " 0 1 2 0 2 0 2 1 2 1 0 0 2 2 2 2 0 1 0 0 1 0 0 1 1 1 0 1 0 2 0 0 2 2 2 1 1\n",
      " 2 0 0 1 2 1 1 1 1 0 0 0 0 1 2 2 1 0 1 2 0 0 2 2 1 0 2 1 1 1 0 2 1 1 0 2 0\n",
      " 1]\n"
     ]
    }
   ],
   "source": [
    "from sklearn.preprocessing import LabelEncoder\n",
    "e = LabelEncoder()\n",
    "e.fit(train_y)\n",
    "train_y = e.transform(train_y)\n",
    "\n",
    "print(train_y)"
   ]
  },
  {
   "cell_type": "code",
   "execution_count": 24,
   "id": "6d44dccf",
   "metadata": {},
   "outputs": [
    {
     "data": {
      "text/plain": [
       "array(['setosa', 'versicolor', 'virginica'], dtype=object)"
      ]
     },
     "execution_count": 24,
     "metadata": {},
     "output_type": "execute_result"
    }
   ],
   "source": [
    "e.classes_"
   ]
  },
  {
   "cell_type": "code",
   "execution_count": 23,
   "id": "d3e14d36",
   "metadata": {},
   "outputs": [
    {
     "data": {
      "text/plain": [
       "array(['virginica', 'virginica', 'versicolor', 'versicolor', 'versicolor',\n",
       "       'setosa', 'versicolor', 'setosa', 'virginica', 'virginica',\n",
       "       'versicolor', 'versicolor', 'versicolor', 'setosa', 'setosa',\n",
       "       'setosa', 'versicolor', 'virginica', 'versicolor', 'setosa',\n",
       "       'versicolor', 'versicolor', 'versicolor', 'virginica', 'virginica',\n",
       "       'versicolor', 'setosa', 'virginica', 'setosa', 'setosa', 'setosa',\n",
       "       'setosa', 'setosa', 'setosa', 'setosa', 'setosa', 'versicolor',\n",
       "       'setosa', 'versicolor', 'virginica', 'setosa', 'virginica',\n",
       "       'setosa', 'virginica', 'versicolor', 'virginica', 'versicolor',\n",
       "       'setosa', 'setosa', 'virginica', 'virginica', 'virginica',\n",
       "       'virginica', 'setosa', 'versicolor', 'setosa', 'setosa',\n",
       "       'versicolor', 'setosa', 'setosa', 'versicolor', 'versicolor',\n",
       "       'versicolor', 'setosa', 'versicolor', 'setosa', 'virginica',\n",
       "       'setosa', 'setosa', 'virginica', 'virginica', 'virginica',\n",
       "       'versicolor', 'versicolor', 'virginica', 'setosa', 'setosa',\n",
       "       'versicolor', 'virginica', 'versicolor', 'versicolor',\n",
       "       'versicolor', 'versicolor', 'setosa', 'setosa', 'setosa', 'setosa',\n",
       "       'versicolor', 'virginica', 'virginica', 'versicolor', 'setosa',\n",
       "       'versicolor', 'virginica', 'setosa', 'setosa', 'virginica',\n",
       "       'virginica', 'versicolor', 'setosa', 'virginica', 'versicolor',\n",
       "       'versicolor', 'versicolor', 'setosa', 'virginica', 'versicolor',\n",
       "       'versicolor', 'setosa', 'virginica', 'setosa', 'versicolor'],\n",
       "      dtype=object)"
      ]
     },
     "execution_count": 23,
     "metadata": {},
     "output_type": "execute_result"
    }
   ],
   "source": [
    "e.inverse_transform(train_y)"
   ]
  },
  {
   "cell_type": "code",
   "execution_count": 27,
   "id": "464fa08b",
   "metadata": {},
   "outputs": [
    {
     "name": "stdout",
     "output_type": "stream",
     "text": [
      "0 : setosa\n",
      "1 : versicolor\n",
      "2 : virginica\n"
     ]
    }
   ],
   "source": [
    "for i in range(len(e.classes_)):\n",
    "    print(\"{} : {}\".format(i, e.classes_[i]) )"
   ]
  },
  {
   "cell_type": "code",
   "execution_count": 28,
   "id": "cd3802dc",
   "metadata": {},
   "outputs": [
    {
     "name": "stdout",
     "output_type": "stream",
     "text": [
      "[[0. 0. 1.]\n",
      " [0. 0. 1.]\n",
      " [0. 1. 0.]\n",
      " [0. 1. 0.]\n",
      " [0. 1. 0.]\n",
      " [1. 0. 0.]\n",
      " [0. 1. 0.]\n",
      " [1. 0. 0.]\n",
      " [0. 0. 1.]\n",
      " [0. 0. 1.]\n",
      " [0. 1. 0.]\n",
      " [0. 1. 0.]\n",
      " [0. 1. 0.]\n",
      " [1. 0. 0.]\n",
      " [1. 0. 0.]\n",
      " [1. 0. 0.]\n",
      " [0. 1. 0.]\n",
      " [0. 0. 1.]\n",
      " [0. 1. 0.]\n",
      " [1. 0. 0.]\n",
      " [0. 1. 0.]\n",
      " [0. 1. 0.]\n",
      " [0. 1. 0.]\n",
      " [0. 0. 1.]\n",
      " [0. 0. 1.]\n",
      " [0. 1. 0.]\n",
      " [1. 0. 0.]\n",
      " [0. 0. 1.]\n",
      " [1. 0. 0.]\n",
      " [1. 0. 0.]\n",
      " [1. 0. 0.]\n",
      " [1. 0. 0.]\n",
      " [1. 0. 0.]\n",
      " [1. 0. 0.]\n",
      " [1. 0. 0.]\n",
      " [1. 0. 0.]\n",
      " [0. 1. 0.]\n",
      " [1. 0. 0.]\n",
      " [0. 1. 0.]\n",
      " [0. 0. 1.]\n",
      " [1. 0. 0.]\n",
      " [0. 0. 1.]\n",
      " [1. 0. 0.]\n",
      " [0. 0. 1.]\n",
      " [0. 1. 0.]\n",
      " [0. 0. 1.]\n",
      " [0. 1. 0.]\n",
      " [1. 0. 0.]\n",
      " [1. 0. 0.]\n",
      " [0. 0. 1.]\n",
      " [0. 0. 1.]\n",
      " [0. 0. 1.]\n",
      " [0. 0. 1.]\n",
      " [1. 0. 0.]\n",
      " [0. 1. 0.]\n",
      " [1. 0. 0.]\n",
      " [1. 0. 0.]\n",
      " [0. 1. 0.]\n",
      " [1. 0. 0.]\n",
      " [1. 0. 0.]\n",
      " [0. 1. 0.]\n",
      " [0. 1. 0.]\n",
      " [0. 1. 0.]\n",
      " [1. 0. 0.]\n",
      " [0. 1. 0.]\n",
      " [1. 0. 0.]\n",
      " [0. 0. 1.]\n",
      " [1. 0. 0.]\n",
      " [1. 0. 0.]\n",
      " [0. 0. 1.]\n",
      " [0. 0. 1.]\n",
      " [0. 0. 1.]\n",
      " [0. 1. 0.]\n",
      " [0. 1. 0.]\n",
      " [0. 0. 1.]\n",
      " [1. 0. 0.]\n",
      " [1. 0. 0.]\n",
      " [0. 1. 0.]\n",
      " [0. 0. 1.]\n",
      " [0. 1. 0.]\n",
      " [0. 1. 0.]\n",
      " [0. 1. 0.]\n",
      " [0. 1. 0.]\n",
      " [1. 0. 0.]\n",
      " [1. 0. 0.]\n",
      " [1. 0. 0.]\n",
      " [1. 0. 0.]\n",
      " [0. 1. 0.]\n",
      " [0. 0. 1.]\n",
      " [0. 0. 1.]\n",
      " [0. 1. 0.]\n",
      " [1. 0. 0.]\n",
      " [0. 1. 0.]\n",
      " [0. 0. 1.]\n",
      " [1. 0. 0.]\n",
      " [1. 0. 0.]\n",
      " [0. 0. 1.]\n",
      " [0. 0. 1.]\n",
      " [0. 1. 0.]\n",
      " [1. 0. 0.]\n",
      " [0. 0. 1.]\n",
      " [0. 1. 0.]\n",
      " [0. 1. 0.]\n",
      " [0. 1. 0.]\n",
      " [1. 0. 0.]\n",
      " [0. 0. 1.]\n",
      " [0. 1. 0.]\n",
      " [0. 1. 0.]\n",
      " [1. 0. 0.]\n",
      " [0. 0. 1.]\n",
      " [1. 0. 0.]\n",
      " [0. 1. 0.]]\n"
     ]
    }
   ],
   "source": [
    "from tensorflow.keras.utils import to_categorical\n",
    "train_y = to_categorical(train_y)\n",
    "print(train_y)"
   ]
  },
  {
   "cell_type": "code",
   "execution_count": 29,
   "id": "ffb1b412",
   "metadata": {},
   "outputs": [],
   "source": [
    "from tensorflow.keras.models import Sequential\n",
    "from tensorflow.keras.layers import Dense\n",
    "\n",
    "model = Sequential()\n",
    "model.add(Dense(16, input_dim = 4, activation = 'relu'))\n",
    "model.add(Dense(3,activation= 'softmax'))"
   ]
  },
  {
   "cell_type": "code",
   "execution_count": 32,
   "id": "81cca1bf",
   "metadata": {
    "scrolled": true
   },
   "outputs": [
    {
     "name": "stdout",
     "output_type": "stream",
     "text": [
      "Epoch 1/50\n",
      "112/112 [==============================] - 1s 3ms/step - loss: 0.1152 - acc: 0.9732\n",
      "Epoch 2/50\n",
      "112/112 [==============================] - 0s 2ms/step - loss: 0.1115 - acc: 0.9821\n",
      "Epoch 3/50\n",
      "112/112 [==============================] - 0s 2ms/step - loss: 0.1060 - acc: 0.9821\n",
      "Epoch 4/50\n",
      "112/112 [==============================] - 0s 2ms/step - loss: 0.1032 - acc: 1.0000\n",
      "Epoch 5/50\n",
      "112/112 [==============================] - 0s 2ms/step - loss: 0.1023 - acc: 0.9821\n",
      "Epoch 6/50\n",
      "112/112 [==============================] - 0s 2ms/step - loss: 0.0981 - acc: 0.9821\n",
      "Epoch 7/50\n",
      "112/112 [==============================] - 0s 2ms/step - loss: 0.0980 - acc: 0.9732\n",
      "Epoch 8/50\n",
      "112/112 [==============================] - 0s 2ms/step - loss: 0.0944 - acc: 0.9732\n",
      "Epoch 9/50\n",
      "112/112 [==============================] - 0s 2ms/step - loss: 0.0906 - acc: 0.9911\n",
      "Epoch 10/50\n",
      "112/112 [==============================] - 0s 2ms/step - loss: 0.0902 - acc: 0.9821\n",
      "Epoch 11/50\n",
      "112/112 [==============================] - 0s 3ms/step - loss: 0.0855 - acc: 0.9911\n",
      "Epoch 12/50\n",
      "112/112 [==============================] - 0s 2ms/step - loss: 0.0861 - acc: 0.9821\n",
      "Epoch 13/50\n",
      "112/112 [==============================] - 0s 2ms/step - loss: 0.0831 - acc: 0.9821\n",
      "Epoch 14/50\n",
      "112/112 [==============================] - 0s 3ms/step - loss: 0.0811 - acc: 1.0000\n",
      "Epoch 15/50\n",
      "112/112 [==============================] - 0s 2ms/step - loss: 0.0816 - acc: 0.9911\n",
      "Epoch 16/50\n",
      "112/112 [==============================] - 0s 2ms/step - loss: 0.0773 - acc: 0.9821\n",
      "Epoch 17/50\n",
      "112/112 [==============================] - 0s 2ms/step - loss: 0.0782 - acc: 0.9821\n",
      "Epoch 18/50\n",
      "112/112 [==============================] - 0s 2ms/step - loss: 0.0775 - acc: 0.9911\n",
      "Epoch 19/50\n",
      "112/112 [==============================] - 0s 2ms/step - loss: 0.0754 - acc: 0.9732\n",
      "Epoch 20/50\n",
      "112/112 [==============================] - 0s 3ms/step - loss: 0.0703 - acc: 1.0000\n",
      "Epoch 21/50\n",
      "112/112 [==============================] - 0s 2ms/step - loss: 0.0692 - acc: 0.9911\n",
      "Epoch 22/50\n",
      "112/112 [==============================] - 0s 3ms/step - loss: 0.0702 - acc: 0.9911\n",
      "Epoch 23/50\n",
      "112/112 [==============================] - 0s 3ms/step - loss: 0.0668 - acc: 0.9821\n",
      "Epoch 24/50\n",
      "112/112 [==============================] - 0s 3ms/step - loss: 0.0656 - acc: 0.9821\n",
      "Epoch 25/50\n",
      "112/112 [==============================] - 0s 2ms/step - loss: 0.0649 - acc: 0.9911\n",
      "Epoch 26/50\n",
      "112/112 [==============================] - 0s 3ms/step - loss: 0.0658 - acc: 0.9911\n",
      "Epoch 27/50\n",
      "112/112 [==============================] - 0s 3ms/step - loss: 0.0646 - acc: 0.9821\n",
      "Epoch 28/50\n",
      "112/112 [==============================] - 0s 2ms/step - loss: 0.0647 - acc: 0.9732\n",
      "Epoch 29/50\n",
      "112/112 [==============================] - 0s 2ms/step - loss: 0.0635 - acc: 0.9911\n",
      "Epoch 30/50\n",
      "112/112 [==============================] - 0s 2ms/step - loss: 0.0612 - acc: 0.9911\n",
      "Epoch 31/50\n",
      "112/112 [==============================] - 0s 2ms/step - loss: 0.0580 - acc: 1.0000\n",
      "Epoch 32/50\n",
      "112/112 [==============================] - 0s 2ms/step - loss: 0.0625 - acc: 0.9821\n",
      "Epoch 33/50\n",
      "112/112 [==============================] - 0s 2ms/step - loss: 0.0605 - acc: 0.9911\n",
      "Epoch 34/50\n",
      "112/112 [==============================] - 0s 2ms/step - loss: 0.0535 - acc: 1.0000\n",
      "Epoch 35/50\n",
      "112/112 [==============================] - 0s 2ms/step - loss: 0.0571 - acc: 0.9911\n",
      "Epoch 36/50\n",
      "112/112 [==============================] - 0s 3ms/step - loss: 0.0551 - acc: 0.9911\n",
      "Epoch 37/50\n",
      "112/112 [==============================] - 0s 3ms/step - loss: 0.0559 - acc: 0.9911\n",
      "Epoch 38/50\n",
      "112/112 [==============================] - 0s 3ms/step - loss: 0.0570 - acc: 0.9911\n",
      "Epoch 39/50\n",
      "112/112 [==============================] - 0s 2ms/step - loss: 0.0525 - acc: 1.0000\n",
      "Epoch 40/50\n",
      "112/112 [==============================] - 0s 2ms/step - loss: 0.0492 - acc: 0.9911\n",
      "Epoch 41/50\n",
      "112/112 [==============================] - 0s 3ms/step - loss: 0.0505 - acc: 0.9821\n",
      "Epoch 42/50\n",
      "112/112 [==============================] - 0s 3ms/step - loss: 0.0473 - acc: 1.0000\n",
      "Epoch 43/50\n",
      "112/112 [==============================] - 0s 3ms/step - loss: 0.0540 - acc: 0.9821\n",
      "Epoch 44/50\n",
      "112/112 [==============================] - 0s 3ms/step - loss: 0.0496 - acc: 1.0000\n",
      "Epoch 45/50\n",
      "112/112 [==============================] - 0s 3ms/step - loss: 0.0494 - acc: 0.9911\n",
      "Epoch 46/50\n",
      "112/112 [==============================] - 0s 2ms/step - loss: 0.0502 - acc: 0.9911\n",
      "Epoch 47/50\n",
      "112/112 [==============================] - 0s 3ms/step - loss: 0.0498 - acc: 0.9911\n",
      "Epoch 48/50\n",
      "112/112 [==============================] - 0s 2ms/step - loss: 0.0462 - acc: 1.0000\n",
      "Epoch 49/50\n",
      "112/112 [==============================] - 0s 3ms/step - loss: 0.0518 - acc: 0.9821\n",
      "Epoch 50/50\n",
      "112/112 [==============================] - 0s 2ms/step - loss: 0.0444 - acc: 1.0000\n"
     ]
    },
    {
     "data": {
      "text/plain": [
       "<keras.callbacks.History at 0x141561f4ac8>"
      ]
     },
     "execution_count": 32,
     "metadata": {},
     "output_type": "execute_result"
    }
   ],
   "source": [
    "model.compile(loss= \"categorical_crossentropy\", optimizer='rmsprop',metrics = ['acc'])\n",
    "model.fit(train_X, train_y, epochs = 50, batch_size = 1)"
   ]
  },
  {
   "cell_type": "code",
   "execution_count": 34,
   "id": "979881f7",
   "metadata": {
    "scrolled": true
   },
   "outputs": [
    {
     "ename": "TypeError",
     "evalue": "ufunc 'isnan' not supported for the input types, and the inputs could not be safely coerced to any supported types according to the casting rule ''safe''",
     "output_type": "error",
     "traceback": [
      "\u001b[1;31m---------------------------------------------------------------------------\u001b[0m",
      "\u001b[1;31mTypeError\u001b[0m                                 Traceback (most recent call last)",
      "\u001b[1;32m~\\AppData\\Local\\Temp\\ipykernel_20784\\1212784843.py\u001b[0m in \u001b[0;36m<module>\u001b[1;34m\u001b[0m\n\u001b[0;32m      1\u001b[0m \u001b[1;31m# 테스트 데이터 원-핫 인코딩\u001b[0m\u001b[1;33m\u001b[0m\u001b[1;33m\u001b[0m\u001b[1;33m\u001b[0m\u001b[0m\n\u001b[1;32m----> 2\u001b[1;33m \u001b[0mtest_y\u001b[0m \u001b[1;33m=\u001b[0m \u001b[0me\u001b[0m\u001b[1;33m.\u001b[0m\u001b[0mtransform\u001b[0m\u001b[1;33m(\u001b[0m\u001b[0mtest_y\u001b[0m\u001b[1;33m)\u001b[0m\u001b[1;33m\u001b[0m\u001b[1;33m\u001b[0m\u001b[0m\n\u001b[0m\u001b[0;32m      3\u001b[0m \u001b[0mtest_y\u001b[0m \u001b[1;33m=\u001b[0m \u001b[0mto_categorical\u001b[0m\u001b[1;33m(\u001b[0m\u001b[0mtest_y\u001b[0m\u001b[1;33m)\u001b[0m\u001b[1;33m\u001b[0m\u001b[1;33m\u001b[0m\u001b[0m\n\u001b[0;32m      4\u001b[0m \u001b[0mprint\u001b[0m\u001b[1;33m(\u001b[0m\u001b[0mtest_y\u001b[0m\u001b[1;33m)\u001b[0m\u001b[1;33m\u001b[0m\u001b[1;33m\u001b[0m\u001b[0m\n",
      "\u001b[1;32mC:\\Anaconda3\\lib\\site-packages\\sklearn\\preprocessing\\_label.py\u001b[0m in \u001b[0;36mtransform\u001b[1;34m(self, y)\u001b[0m\n\u001b[0;32m    136\u001b[0m             \u001b[1;32mreturn\u001b[0m \u001b[0mnp\u001b[0m\u001b[1;33m.\u001b[0m\u001b[0marray\u001b[0m\u001b[1;33m(\u001b[0m\u001b[1;33m[\u001b[0m\u001b[1;33m]\u001b[0m\u001b[1;33m)\u001b[0m\u001b[1;33m\u001b[0m\u001b[1;33m\u001b[0m\u001b[0m\n\u001b[0;32m    137\u001b[0m \u001b[1;33m\u001b[0m\u001b[0m\n\u001b[1;32m--> 138\u001b[1;33m         \u001b[1;32mreturn\u001b[0m \u001b[0m_encode\u001b[0m\u001b[1;33m(\u001b[0m\u001b[0my\u001b[0m\u001b[1;33m,\u001b[0m \u001b[0muniques\u001b[0m\u001b[1;33m=\u001b[0m\u001b[0mself\u001b[0m\u001b[1;33m.\u001b[0m\u001b[0mclasses_\u001b[0m\u001b[1;33m)\u001b[0m\u001b[1;33m\u001b[0m\u001b[1;33m\u001b[0m\u001b[0m\n\u001b[0m\u001b[0;32m    139\u001b[0m \u001b[1;33m\u001b[0m\u001b[0m\n\u001b[0;32m    140\u001b[0m     \u001b[1;32mdef\u001b[0m \u001b[0minverse_transform\u001b[0m\u001b[1;33m(\u001b[0m\u001b[0mself\u001b[0m\u001b[1;33m,\u001b[0m \u001b[0my\u001b[0m\u001b[1;33m)\u001b[0m\u001b[1;33m:\u001b[0m\u001b[1;33m\u001b[0m\u001b[1;33m\u001b[0m\u001b[0m\n",
      "\u001b[1;32mC:\\Anaconda3\\lib\\site-packages\\sklearn\\utils\\_encode.py\u001b[0m in \u001b[0;36m_encode\u001b[1;34m(values, uniques, check_unknown)\u001b[0m\n\u001b[0;32m    185\u001b[0m     \u001b[1;32melse\u001b[0m\u001b[1;33m:\u001b[0m\u001b[1;33m\u001b[0m\u001b[1;33m\u001b[0m\u001b[0m\n\u001b[0;32m    186\u001b[0m         \u001b[1;32mif\u001b[0m \u001b[0mcheck_unknown\u001b[0m\u001b[1;33m:\u001b[0m\u001b[1;33m\u001b[0m\u001b[1;33m\u001b[0m\u001b[0m\n\u001b[1;32m--> 187\u001b[1;33m             \u001b[0mdiff\u001b[0m \u001b[1;33m=\u001b[0m \u001b[0m_check_unknown\u001b[0m\u001b[1;33m(\u001b[0m\u001b[0mvalues\u001b[0m\u001b[1;33m,\u001b[0m \u001b[0muniques\u001b[0m\u001b[1;33m)\u001b[0m\u001b[1;33m\u001b[0m\u001b[1;33m\u001b[0m\u001b[0m\n\u001b[0m\u001b[0;32m    188\u001b[0m             \u001b[1;32mif\u001b[0m \u001b[0mdiff\u001b[0m\u001b[1;33m:\u001b[0m\u001b[1;33m\u001b[0m\u001b[1;33m\u001b[0m\u001b[0m\n\u001b[0;32m    189\u001b[0m                 \u001b[1;32mraise\u001b[0m \u001b[0mValueError\u001b[0m\u001b[1;33m(\u001b[0m\u001b[1;34mf\"y contains previously unseen labels: {str(diff)}\"\u001b[0m\u001b[1;33m)\u001b[0m\u001b[1;33m\u001b[0m\u001b[1;33m\u001b[0m\u001b[0m\n",
      "\u001b[1;32mC:\\Anaconda3\\lib\\site-packages\\sklearn\\utils\\_encode.py\u001b[0m in \u001b[0;36m_check_unknown\u001b[1;34m(values, known_values, return_mask)\u001b[0m\n\u001b[0;32m    259\u001b[0m \u001b[1;33m\u001b[0m\u001b[0m\n\u001b[0;32m    260\u001b[0m         \u001b[1;31m# check for nans in the known_values\u001b[0m\u001b[1;33m\u001b[0m\u001b[1;33m\u001b[0m\u001b[1;33m\u001b[0m\u001b[0m\n\u001b[1;32m--> 261\u001b[1;33m         \u001b[1;32mif\u001b[0m \u001b[0mnp\u001b[0m\u001b[1;33m.\u001b[0m\u001b[0misnan\u001b[0m\u001b[1;33m(\u001b[0m\u001b[0mknown_values\u001b[0m\u001b[1;33m)\u001b[0m\u001b[1;33m.\u001b[0m\u001b[0many\u001b[0m\u001b[1;33m(\u001b[0m\u001b[1;33m)\u001b[0m\u001b[1;33m:\u001b[0m\u001b[1;33m\u001b[0m\u001b[1;33m\u001b[0m\u001b[0m\n\u001b[0m\u001b[0;32m    262\u001b[0m             \u001b[0mdiff_is_nan\u001b[0m \u001b[1;33m=\u001b[0m \u001b[0mnp\u001b[0m\u001b[1;33m.\u001b[0m\u001b[0misnan\u001b[0m\u001b[1;33m(\u001b[0m\u001b[0mdiff\u001b[0m\u001b[1;33m)\u001b[0m\u001b[1;33m\u001b[0m\u001b[1;33m\u001b[0m\u001b[0m\n\u001b[0;32m    263\u001b[0m             \u001b[1;32mif\u001b[0m \u001b[0mdiff_is_nan\u001b[0m\u001b[1;33m.\u001b[0m\u001b[0many\u001b[0m\u001b[1;33m(\u001b[0m\u001b[1;33m)\u001b[0m\u001b[1;33m:\u001b[0m\u001b[1;33m\u001b[0m\u001b[1;33m\u001b[0m\u001b[0m\n",
      "\u001b[1;31mTypeError\u001b[0m: ufunc 'isnan' not supported for the input types, and the inputs could not be safely coerced to any supported types according to the casting rule ''safe''"
     ]
    }
   ],
   "source": [
    "# 테스트 데이터 원-핫 인코딩\n",
    "test_y = e.transform(test_y)\n",
    "print(test_y)"
   ]
  },
  {
   "cell_type": "code",
   "execution_count": 35,
   "id": "1e07a920",
   "metadata": {},
   "outputs": [],
   "source": [
    "test_y = to_categorical(test_y)"
   ]
  },
  {
   "cell_type": "code",
   "execution_count": 37,
   "id": "281152a8",
   "metadata": {},
   "outputs": [
    {
     "name": "stdout",
     "output_type": "stream",
     "text": [
      "2/2 [==============================] - 2s 3ms/step - loss: 0.1398 - acc: 0.9474\n"
     ]
    },
    {
     "data": {
      "text/plain": [
       "0.9473684430122375"
      ]
     },
     "execution_count": 37,
     "metadata": {},
     "output_type": "execute_result"
    }
   ],
   "source": [
    "model.evaluate(test_X,test_y)[1]"
   ]
  },
  {
   "cell_type": "code",
   "execution_count": 38,
   "id": "3b2aeab9",
   "metadata": {},
   "outputs": [],
   "source": [
    "os.chdir('C:/pytest/temp/model')"
   ]
  },
  {
   "cell_type": "code",
   "execution_count": 39,
   "id": "90713910",
   "metadata": {},
   "outputs": [],
   "source": [
    "model.save('iris.h5')"
   ]
  },
  {
   "cell_type": "code",
   "execution_count": 40,
   "id": "34d15913",
   "metadata": {},
   "outputs": [],
   "source": [
    "from tensorflow.keras.models import load_model\n",
    "loaded_model = load_model('iris.h5')"
   ]
  },
  {
   "cell_type": "code",
   "execution_count": 41,
   "id": "23207506",
   "metadata": {},
   "outputs": [
    {
     "name": "stdout",
     "output_type": "stream",
     "text": [
      "2/2 [==============================] - 0s 3ms/step\n"
     ]
    },
    {
     "data": {
      "text/plain": [
       "array([[1.34482269e-12, 1.72066152e-01, 8.27933908e-01],\n",
       "       [1.32562396e-12, 4.01654430e-02, 9.59834635e-01],\n",
       "       [5.67930121e-12, 5.42633571e-02, 9.45736587e-01],\n",
       "       [1.85712033e-05, 9.97791529e-01, 2.18986883e-03],\n",
       "       [3.83164583e-13, 1.35476002e-02, 9.86452460e-01],\n",
       "       [9.11775805e-16, 8.11898848e-04, 9.99188125e-01],\n",
       "       [2.16623312e-06, 9.95508432e-01, 4.48948564e-03],\n",
       "       [1.80178650e-11, 5.54403588e-02, 9.44559693e-01],\n",
       "       [2.94567391e-11, 1.68640278e-02, 9.83135998e-01],\n",
       "       [6.81118912e-14, 4.12986754e-03, 9.95870054e-01],\n",
       "       [9.99996305e-01, 3.70252201e-06, 2.17925138e-13],\n",
       "       [1.32414046e-09, 3.05585623e-01, 6.94414437e-01],\n",
       "       [8.54932680e-10, 4.25031036e-01, 5.74968934e-01],\n",
       "       [9.99999642e-01, 3.74194542e-07, 2.94684139e-15],\n",
       "       [5.83402955e-13, 1.59796756e-02, 9.84020352e-01],\n",
       "       [2.43677328e-10, 1.96192801e-01, 8.03807259e-01],\n",
       "       [1.60666829e-15, 1.16318243e-03, 9.98836815e-01],\n",
       "       [6.91710928e-17, 1.05903752e-03, 9.98941004e-01],\n",
       "       [9.99999285e-01, 6.57997418e-07, 9.65218692e-15],\n",
       "       [5.90577517e-11, 9.89293084e-02, 9.01070714e-01],\n",
       "       [9.99997258e-01, 2.73200385e-06, 1.34343925e-13],\n",
       "       [3.64145166e-07, 9.41319585e-01, 5.86800873e-02],\n",
       "       [5.56569445e-20, 4.67383143e-05, 9.99953270e-01],\n",
       "       [1.06559053e-15, 7.25428690e-04, 9.99274552e-01],\n",
       "       [9.99999762e-01, 2.11793505e-07, 1.29430817e-15],\n",
       "       [1.80606150e-07, 9.89181221e-01, 1.08185541e-02],\n",
       "       [4.50111086e-12, 4.52193283e-02, 9.54780757e-01],\n",
       "       [6.08829305e-06, 9.78775740e-01, 2.12182291e-02],\n",
       "       [2.78934410e-11, 2.94666737e-01, 7.05333233e-01],\n",
       "       [1.40082911e-12, 7.80080035e-02, 9.21992004e-01],\n",
       "       [9.99999523e-01, 4.46534415e-07, 2.27962803e-15],\n",
       "       [2.84661029e-15, 7.56844692e-03, 9.92431521e-01],\n",
       "       [2.19901020e-04, 9.99201834e-01, 5.78286417e-04],\n",
       "       [9.99997735e-01, 2.22685435e-06, 1.06462304e-13],\n",
       "       [9.99999046e-01, 9.13277461e-07, 1.86930007e-14],\n",
       "       [6.42463161e-16, 1.51139265e-03, 9.98488545e-01],\n",
       "       [1.68742770e-06, 9.89741564e-01, 1.02567906e-02],\n",
       "       [1.01938738e-07, 9.54518259e-01, 4.54816371e-02]], dtype=float32)"
      ]
     },
     "execution_count": 41,
     "metadata": {},
     "output_type": "execute_result"
    }
   ],
   "source": [
    "loaded_model.predict(test_X)"
   ]
  },
  {
   "cell_type": "code",
   "execution_count": 42,
   "id": "94cf59f1",
   "metadata": {},
   "outputs": [
    {
     "name": "stdout",
     "output_type": "stream",
     "text": [
      "1/1 [==============================] - 0s 18ms/step\n"
     ]
    }
   ],
   "source": [
    "new_data ={'Sepal.Length': [5.3], 'Sepal.Width':[3.4],'Petal.Length':[1.4],'Petal.Width':[0.2]}\n",
    "new_data = pd.DataFrame(new_data)\n",
    "\n",
    "result = loaded_model.predict(new_data)"
   ]
  },
  {
   "cell_type": "code",
   "execution_count": 44,
   "id": "75e6ae38",
   "metadata": {},
   "outputs": [],
   "source": [
    "import numpy as np"
   ]
  },
  {
   "cell_type": "code",
   "execution_count": 45,
   "id": "b6e56e14",
   "metadata": {},
   "outputs": [
    {
     "name": "stdout",
     "output_type": "stream",
     "text": [
      "setosa\n"
     ]
    }
   ],
   "source": [
    "result_idx = np.argmax(result)\n",
    "if result_idx ==0:\n",
    "    print('setosa')\n",
    "elif result_idx == 1:\n",
    "    print('versicolor')\n",
    "elif result_idx == 2:\n",
    "    print('virginica')"
   ]
  },
  {
   "cell_type": "markdown",
   "id": "50052ab3",
   "metadata": {},
   "source": [
    "# 베스트 모델"
   ]
  },
  {
   "cell_type": "code",
   "execution_count": 48,
   "id": "d2f5b221",
   "metadata": {},
   "outputs": [
    {
     "data": {
      "text/plain": [
       "'C:\\\\pytest'"
      ]
     },
     "execution_count": 48,
     "metadata": {},
     "output_type": "execute_result"
    }
   ],
   "source": [
    "os.chdir(path)\n",
    "os.getcwd()"
   ]
  },
  {
   "cell_type": "code",
   "execution_count": 49,
   "id": "67531bc7",
   "metadata": {},
   "outputs": [
    {
     "data": {
      "text/html": [
       "<div>\n",
       "<style scoped>\n",
       "    .dataframe tbody tr th:only-of-type {\n",
       "        vertical-align: middle;\n",
       "    }\n",
       "\n",
       "    .dataframe tbody tr th {\n",
       "        vertical-align: top;\n",
       "    }\n",
       "\n",
       "    .dataframe thead th {\n",
       "        text-align: right;\n",
       "    }\n",
       "</style>\n",
       "<table border=\"1\" class=\"dataframe\">\n",
       "  <thead>\n",
       "    <tr style=\"text-align: right;\">\n",
       "      <th></th>\n",
       "      <th>0</th>\n",
       "      <th>1</th>\n",
       "      <th>2</th>\n",
       "      <th>3</th>\n",
       "      <th>4</th>\n",
       "      <th>5</th>\n",
       "      <th>6</th>\n",
       "      <th>7</th>\n",
       "      <th>8</th>\n",
       "      <th>9</th>\n",
       "      <th>10</th>\n",
       "      <th>11</th>\n",
       "      <th>12</th>\n",
       "    </tr>\n",
       "  </thead>\n",
       "  <tbody>\n",
       "    <tr>\n",
       "      <th>0</th>\n",
       "      <td>7.4</td>\n",
       "      <td>0.70</td>\n",
       "      <td>0.00</td>\n",
       "      <td>1.9</td>\n",
       "      <td>0.076</td>\n",
       "      <td>11.0</td>\n",
       "      <td>34.0</td>\n",
       "      <td>0.9978</td>\n",
       "      <td>3.51</td>\n",
       "      <td>0.56</td>\n",
       "      <td>9.4</td>\n",
       "      <td>5</td>\n",
       "      <td>1</td>\n",
       "    </tr>\n",
       "    <tr>\n",
       "      <th>1</th>\n",
       "      <td>7.8</td>\n",
       "      <td>0.88</td>\n",
       "      <td>0.00</td>\n",
       "      <td>2.6</td>\n",
       "      <td>0.098</td>\n",
       "      <td>25.0</td>\n",
       "      <td>67.0</td>\n",
       "      <td>0.9968</td>\n",
       "      <td>3.20</td>\n",
       "      <td>0.68</td>\n",
       "      <td>9.8</td>\n",
       "      <td>5</td>\n",
       "      <td>1</td>\n",
       "    </tr>\n",
       "    <tr>\n",
       "      <th>2</th>\n",
       "      <td>7.8</td>\n",
       "      <td>0.76</td>\n",
       "      <td>0.04</td>\n",
       "      <td>2.3</td>\n",
       "      <td>0.092</td>\n",
       "      <td>15.0</td>\n",
       "      <td>54.0</td>\n",
       "      <td>0.9970</td>\n",
       "      <td>3.26</td>\n",
       "      <td>0.65</td>\n",
       "      <td>9.8</td>\n",
       "      <td>5</td>\n",
       "      <td>1</td>\n",
       "    </tr>\n",
       "    <tr>\n",
       "      <th>3</th>\n",
       "      <td>11.2</td>\n",
       "      <td>0.28</td>\n",
       "      <td>0.56</td>\n",
       "      <td>1.9</td>\n",
       "      <td>0.075</td>\n",
       "      <td>17.0</td>\n",
       "      <td>60.0</td>\n",
       "      <td>0.9980</td>\n",
       "      <td>3.16</td>\n",
       "      <td>0.58</td>\n",
       "      <td>9.8</td>\n",
       "      <td>6</td>\n",
       "      <td>1</td>\n",
       "    </tr>\n",
       "    <tr>\n",
       "      <th>4</th>\n",
       "      <td>7.4</td>\n",
       "      <td>0.70</td>\n",
       "      <td>0.00</td>\n",
       "      <td>1.9</td>\n",
       "      <td>0.076</td>\n",
       "      <td>11.0</td>\n",
       "      <td>34.0</td>\n",
       "      <td>0.9978</td>\n",
       "      <td>3.51</td>\n",
       "      <td>0.56</td>\n",
       "      <td>9.4</td>\n",
       "      <td>5</td>\n",
       "      <td>1</td>\n",
       "    </tr>\n",
       "  </tbody>\n",
       "</table>\n",
       "</div>"
      ],
      "text/plain": [
       "     0     1     2    3      4     5     6       7     8     9    10  11  12\n",
       "0   7.4  0.70  0.00  1.9  0.076  11.0  34.0  0.9978  3.51  0.56  9.4   5   1\n",
       "1   7.8  0.88  0.00  2.6  0.098  25.0  67.0  0.9968  3.20  0.68  9.8   5   1\n",
       "2   7.8  0.76  0.04  2.3  0.092  15.0  54.0  0.9970  3.26  0.65  9.8   5   1\n",
       "3  11.2  0.28  0.56  1.9  0.075  17.0  60.0  0.9980  3.16  0.58  9.8   6   1\n",
       "4   7.4  0.70  0.00  1.9  0.076  11.0  34.0  0.9978  3.51  0.56  9.4   5   1"
      ]
     },
     "execution_count": 49,
     "metadata": {},
     "output_type": "execute_result"
    }
   ],
   "source": [
    "df = pd.read_csv('wine.csv', header = None)\n",
    "# 첫 줄이 컬럼의 제목이 아니기 때문에 header를 None값을 줌\n",
    "df.head()"
   ]
  },
  {
   "cell_type": "code",
   "execution_count": 51,
   "id": "e43eb47f",
   "metadata": {},
   "outputs": [],
   "source": [
    "# train_test_split을 사용하기 때문에 섞지 않아도 됨\n",
    "# df = df.sample(frac = 1)\n",
    "# df.head()"
   ]
  },
  {
   "cell_type": "code",
   "execution_count": 52,
   "id": "de0594bd",
   "metadata": {},
   "outputs": [
    {
     "name": "stdout",
     "output_type": "stream",
     "text": [
      "<class 'pandas.core.frame.DataFrame'>\n",
      "RangeIndex: 6497 entries, 0 to 6496\n",
      "Data columns (total 13 columns):\n",
      " #   Column  Non-Null Count  Dtype  \n",
      "---  ------  --------------  -----  \n",
      " 0   0       6497 non-null   float64\n",
      " 1   1       6497 non-null   float64\n",
      " 2   2       6497 non-null   float64\n",
      " 3   3       6497 non-null   float64\n",
      " 4   4       6497 non-null   float64\n",
      " 5   5       6497 non-null   float64\n",
      " 6   6       6497 non-null   float64\n",
      " 7   7       6497 non-null   float64\n",
      " 8   8       6497 non-null   float64\n",
      " 9   9       6497 non-null   float64\n",
      " 10  10      6497 non-null   float64\n",
      " 11  11      6497 non-null   int64  \n",
      " 12  12      6497 non-null   int64  \n",
      "dtypes: float64(11), int64(2)\n",
      "memory usage: 660.0 KB\n"
     ]
    }
   ],
   "source": [
    "df.info()"
   ]
  },
  {
   "cell_type": "code",
   "execution_count": 54,
   "id": "b3d514a6",
   "metadata": {},
   "outputs": [],
   "source": [
    "X = df.iloc[:,:12]\n",
    "y = df.iloc[:,12]"
   ]
  },
  {
   "cell_type": "code",
   "execution_count": 55,
   "id": "9e6e2bc5",
   "metadata": {},
   "outputs": [
    {
     "name": "stdout",
     "output_type": "stream",
     "text": [
      "4872 1625 4872 1625\n"
     ]
    }
   ],
   "source": [
    "train_X, test_X, train_y, test_y = train_test_split(X,y)\n",
    "print(len(train_X),len(test_X), len(train_y), len(test_y))"
   ]
  },
  {
   "cell_type": "code",
   "execution_count": 60,
   "id": "55491e92",
   "metadata": {},
   "outputs": [
    {
     "data": {
      "text/plain": [
       "[3, 4, 5, 6, 7, 8, 9]"
      ]
     },
     "execution_count": 60,
     "metadata": {},
     "output_type": "execute_result"
    }
   ],
   "source": [
    "sorted(df[11].unique())"
   ]
  },
  {
   "cell_type": "code",
   "execution_count": 62,
   "id": "37053dbd",
   "metadata": {},
   "outputs": [
    {
     "name": "stdout",
     "output_type": "stream",
     "text": [
      "Model: \"sequential_2\"\n",
      "_________________________________________________________________\n",
      " Layer (type)                Output Shape              Param #   \n",
      "=================================================================\n",
      " dense_6 (Dense)             (None, 30)                390       \n",
      "                                                                 \n",
      " dense_7 (Dense)             (None, 16)                496       \n",
      "                                                                 \n",
      " dense_8 (Dense)             (None, 8)                 136       \n",
      "                                                                 \n",
      " dense_9 (Dense)             (None, 1)                 9         \n",
      "                                                                 \n",
      "=================================================================\n",
      "Total params: 1,031\n",
      "Trainable params: 1,031\n",
      "Non-trainable params: 0\n",
      "_________________________________________________________________\n"
     ]
    }
   ],
   "source": [
    "model = Sequential()\n",
    "model.add(Dense(30, activation = 'relu', input_dim = 12))\n",
    "model.add(Dense(16, activation = 'relu'))\n",
    "model.add(Dense(8, activation = 'relu'))\n",
    "model.add(Dense(1, activation = 'sigmoid'))\n",
    "model.summary()"
   ]
  },
  {
   "cell_type": "code",
   "execution_count": 63,
   "id": "0ff630b2",
   "metadata": {
    "scrolled": true
   },
   "outputs": [
    {
     "name": "stdout",
     "output_type": "stream",
     "text": [
      "Epoch 1/200\n",
      "25/25 [==============================] - 0s 4ms/step - loss: 1.0522 - acc: 0.7198\n",
      "Epoch 2/200\n",
      "25/25 [==============================] - 0s 4ms/step - loss: 0.3879 - acc: 0.8147\n",
      "Epoch 3/200\n",
      "25/25 [==============================] - 0s 3ms/step - loss: 0.2477 - acc: 0.9099\n",
      "Epoch 4/200\n",
      "25/25 [==============================] - 0s 3ms/step - loss: 0.2113 - acc: 0.9273\n",
      "Epoch 5/200\n",
      "25/25 [==============================] - 0s 3ms/step - loss: 0.2060 - acc: 0.9284\n",
      "Epoch 6/200\n",
      "25/25 [==============================] - 0s 3ms/step - loss: 0.2018 - acc: 0.9302\n",
      "Epoch 7/200\n",
      "25/25 [==============================] - 0s 3ms/step - loss: 0.1979 - acc: 0.9337\n",
      "Epoch 8/200\n",
      "25/25 [==============================] - 0s 3ms/step - loss: 0.1949 - acc: 0.9335\n",
      "Epoch 9/200\n",
      "25/25 [==============================] - 0s 3ms/step - loss: 0.1907 - acc: 0.9341\n",
      "Epoch 10/200\n",
      "25/25 [==============================] - 0s 3ms/step - loss: 0.1893 - acc: 0.9366\n",
      "Epoch 11/200\n",
      "25/25 [==============================] - 0s 3ms/step - loss: 0.1865 - acc: 0.9345\n",
      "Epoch 12/200\n",
      "25/25 [==============================] - 0s 3ms/step - loss: 0.1822 - acc: 0.9382\n",
      "Epoch 13/200\n",
      "25/25 [==============================] - 0s 3ms/step - loss: 0.1815 - acc: 0.9390\n",
      "Epoch 14/200\n",
      "25/25 [==============================] - 0s 3ms/step - loss: 0.1784 - acc: 0.9388\n",
      "Epoch 15/200\n",
      "25/25 [==============================] - 0s 3ms/step - loss: 0.1758 - acc: 0.9397\n",
      "Epoch 16/200\n",
      "25/25 [==============================] - 0s 3ms/step - loss: 0.1732 - acc: 0.9405\n",
      "Epoch 17/200\n",
      "25/25 [==============================] - 0s 3ms/step - loss: 0.1692 - acc: 0.9419\n",
      "Epoch 18/200\n",
      "25/25 [==============================] - 0s 3ms/step - loss: 0.1660 - acc: 0.9431\n",
      "Epoch 19/200\n",
      "25/25 [==============================] - 0s 3ms/step - loss: 0.1642 - acc: 0.9419\n",
      "Epoch 20/200\n",
      "25/25 [==============================] - 0s 3ms/step - loss: 0.1610 - acc: 0.9446\n",
      "Epoch 21/200\n",
      "25/25 [==============================] - 0s 3ms/step - loss: 0.1590 - acc: 0.9470\n",
      "Epoch 22/200\n",
      "25/25 [==============================] - 0s 3ms/step - loss: 0.1610 - acc: 0.9460\n",
      "Epoch 23/200\n",
      "25/25 [==============================] - 0s 3ms/step - loss: 0.1559 - acc: 0.9460\n",
      "Epoch 24/200\n",
      "25/25 [==============================] - 0s 3ms/step - loss: 0.1509 - acc: 0.9483\n",
      "Epoch 25/200\n",
      "25/25 [==============================] - 0s 3ms/step - loss: 0.1517 - acc: 0.9446\n",
      "Epoch 26/200\n",
      "25/25 [==============================] - 0s 3ms/step - loss: 0.1456 - acc: 0.9489\n",
      "Epoch 27/200\n",
      "25/25 [==============================] - 0s 3ms/step - loss: 0.1435 - acc: 0.9491\n",
      "Epoch 28/200\n",
      "25/25 [==============================] - 0s 3ms/step - loss: 0.1389 - acc: 0.9528\n",
      "Epoch 29/200\n",
      "25/25 [==============================] - 0s 3ms/step - loss: 0.1353 - acc: 0.9530\n",
      "Epoch 30/200\n",
      "25/25 [==============================] - 0s 3ms/step - loss: 0.1331 - acc: 0.9530\n",
      "Epoch 31/200\n",
      "25/25 [==============================] - 0s 3ms/step - loss: 0.1313 - acc: 0.9522\n",
      "Epoch 32/200\n",
      "25/25 [==============================] - 0s 3ms/step - loss: 0.1317 - acc: 0.9540\n",
      "Epoch 33/200\n",
      "25/25 [==============================] - 0s 3ms/step - loss: 0.1345 - acc: 0.9544\n",
      "Epoch 34/200\n",
      "25/25 [==============================] - 0s 3ms/step - loss: 0.1347 - acc: 0.9546\n",
      "Epoch 35/200\n",
      "25/25 [==============================] - 0s 3ms/step - loss: 0.1234 - acc: 0.9559\n",
      "Epoch 36/200\n",
      "25/25 [==============================] - 0s 3ms/step - loss: 0.1155 - acc: 0.9585\n",
      "Epoch 37/200\n",
      "25/25 [==============================] - 0s 3ms/step - loss: 0.1128 - acc: 0.9596\n",
      "Epoch 38/200\n",
      "25/25 [==============================] - 0s 3ms/step - loss: 0.1127 - acc: 0.9633\n",
      "Epoch 39/200\n",
      "25/25 [==============================] - 0s 4ms/step - loss: 0.1087 - acc: 0.9641\n",
      "Epoch 40/200\n",
      "25/25 [==============================] - 0s 3ms/step - loss: 0.1068 - acc: 0.9633\n",
      "Epoch 41/200\n",
      "25/25 [==============================] - 0s 3ms/step - loss: 0.1054 - acc: 0.9667\n",
      "Epoch 42/200\n",
      "25/25 [==============================] - 0s 3ms/step - loss: 0.1048 - acc: 0.9653\n",
      "Epoch 43/200\n",
      "25/25 [==============================] - 0s 3ms/step - loss: 0.1008 - acc: 0.9661\n",
      "Epoch 44/200\n",
      "25/25 [==============================] - 0s 4ms/step - loss: 0.1081 - acc: 0.9622\n",
      "Epoch 45/200\n",
      "25/25 [==============================] - 0s 3ms/step - loss: 0.0990 - acc: 0.9700\n",
      "Epoch 46/200\n",
      "25/25 [==============================] - 0s 3ms/step - loss: 0.0945 - acc: 0.9713\n",
      "Epoch 47/200\n",
      "25/25 [==============================] - 0s 4ms/step - loss: 0.0948 - acc: 0.9713\n",
      "Epoch 48/200\n",
      "25/25 [==============================] - 0s 4ms/step - loss: 0.0931 - acc: 0.9702\n",
      "Epoch 49/200\n",
      "25/25 [==============================] - 0s 3ms/step - loss: 0.0904 - acc: 0.9704\n",
      "Epoch 50/200\n",
      "25/25 [==============================] - 0s 4ms/step - loss: 0.0929 - acc: 0.9698\n",
      "Epoch 51/200\n",
      "25/25 [==============================] - 0s 3ms/step - loss: 0.0909 - acc: 0.9729\n",
      "Epoch 52/200\n",
      "25/25 [==============================] - 0s 3ms/step - loss: 0.0857 - acc: 0.9729\n",
      "Epoch 53/200\n",
      "25/25 [==============================] - 0s 3ms/step - loss: 0.0856 - acc: 0.9729\n",
      "Epoch 54/200\n",
      "25/25 [==============================] - 0s 3ms/step - loss: 0.0849 - acc: 0.9739\n",
      "Epoch 55/200\n",
      "25/25 [==============================] - 0s 3ms/step - loss: 0.0909 - acc: 0.9690\n",
      "Epoch 56/200\n",
      "25/25 [==============================] - 0s 3ms/step - loss: 0.0865 - acc: 0.9719\n",
      "Epoch 57/200\n",
      "25/25 [==============================] - 0s 3ms/step - loss: 0.0780 - acc: 0.9772\n",
      "Epoch 58/200\n",
      "25/25 [==============================] - 0s 3ms/step - loss: 0.0801 - acc: 0.9766\n",
      "Epoch 59/200\n",
      "25/25 [==============================] - 0s 3ms/step - loss: 0.0779 - acc: 0.9766\n",
      "Epoch 60/200\n",
      "25/25 [==============================] - 0s 3ms/step - loss: 0.0819 - acc: 0.9754\n",
      "Epoch 61/200\n",
      "25/25 [==============================] - 0s 3ms/step - loss: 0.0766 - acc: 0.9754\n",
      "Epoch 62/200\n",
      "25/25 [==============================] - 0s 3ms/step - loss: 0.0737 - acc: 0.9766\n",
      "Epoch 63/200\n",
      "25/25 [==============================] - 0s 3ms/step - loss: 0.0731 - acc: 0.9768\n",
      "Epoch 64/200\n",
      "25/25 [==============================] - 0s 4ms/step - loss: 0.0746 - acc: 0.9768\n",
      "Epoch 65/200\n",
      "25/25 [==============================] - 0s 3ms/step - loss: 0.0723 - acc: 0.9774\n",
      "Epoch 66/200\n",
      "25/25 [==============================] - 0s 3ms/step - loss: 0.0720 - acc: 0.9782\n",
      "Epoch 67/200\n",
      "25/25 [==============================] - 0s 4ms/step - loss: 0.0718 - acc: 0.9776\n",
      "Epoch 68/200\n",
      "25/25 [==============================] - 0s 3ms/step - loss: 0.0805 - acc: 0.9721\n",
      "Epoch 69/200\n",
      "25/25 [==============================] - 0s 3ms/step - loss: 0.0751 - acc: 0.9766\n",
      "Epoch 70/200\n",
      "25/25 [==============================] - 0s 3ms/step - loss: 0.0785 - acc: 0.9745\n",
      "Epoch 71/200\n",
      "25/25 [==============================] - 0s 3ms/step - loss: 0.0718 - acc: 0.9774\n",
      "Epoch 72/200\n",
      "25/25 [==============================] - 0s 4ms/step - loss: 0.0740 - acc: 0.9762\n",
      "Epoch 73/200\n",
      "25/25 [==============================] - 0s 4ms/step - loss: 0.0672 - acc: 0.9789\n",
      "Epoch 74/200\n",
      "25/25 [==============================] - 0s 3ms/step - loss: 0.0665 - acc: 0.9789\n",
      "Epoch 75/200\n",
      "25/25 [==============================] - 0s 3ms/step - loss: 0.0688 - acc: 0.9799\n",
      "Epoch 76/200\n",
      "25/25 [==============================] - 0s 3ms/step - loss: 0.0652 - acc: 0.9799\n",
      "Epoch 77/200\n",
      "25/25 [==============================] - 0s 3ms/step - loss: 0.0646 - acc: 0.9797\n",
      "Epoch 78/200\n",
      "25/25 [==============================] - 0s 3ms/step - loss: 0.0661 - acc: 0.9809\n",
      "Epoch 79/200\n",
      "25/25 [==============================] - 0s 3ms/step - loss: 0.0630 - acc: 0.9805\n",
      "Epoch 80/200\n",
      "25/25 [==============================] - 0s 3ms/step - loss: 0.0636 - acc: 0.9799\n",
      "Epoch 81/200\n",
      "25/25 [==============================] - 0s 3ms/step - loss: 0.0619 - acc: 0.9821\n",
      "Epoch 82/200\n",
      "25/25 [==============================] - 0s 3ms/step - loss: 0.0633 - acc: 0.9789\n",
      "Epoch 83/200\n",
      "25/25 [==============================] - 0s 3ms/step - loss: 0.0606 - acc: 0.9821\n",
      "Epoch 84/200\n",
      "25/25 [==============================] - 0s 3ms/step - loss: 0.0604 - acc: 0.9819\n",
      "Epoch 85/200\n",
      "25/25 [==============================] - 0s 3ms/step - loss: 0.0605 - acc: 0.9819\n",
      "Epoch 86/200\n",
      "25/25 [==============================] - 0s 3ms/step - loss: 0.0620 - acc: 0.9813\n",
      "Epoch 87/200\n"
     ]
    },
    {
     "name": "stdout",
     "output_type": "stream",
     "text": [
      "25/25 [==============================] - 0s 4ms/step - loss: 0.0648 - acc: 0.9801\n",
      "Epoch 88/200\n",
      "25/25 [==============================] - 0s 3ms/step - loss: 0.0603 - acc: 0.9809\n",
      "Epoch 89/200\n",
      "25/25 [==============================] - 0s 4ms/step - loss: 0.0619 - acc: 0.9809\n",
      "Epoch 90/200\n",
      "25/25 [==============================] - 0s 3ms/step - loss: 0.0600 - acc: 0.9815\n",
      "Epoch 91/200\n",
      "25/25 [==============================] - 0s 3ms/step - loss: 0.0569 - acc: 0.9828\n",
      "Epoch 92/200\n",
      "25/25 [==============================] - 0s 4ms/step - loss: 0.0600 - acc: 0.9830\n",
      "Epoch 93/200\n",
      "25/25 [==============================] - 0s 3ms/step - loss: 0.0610 - acc: 0.9815\n",
      "Epoch 94/200\n",
      "25/25 [==============================] - 0s 4ms/step - loss: 0.0586 - acc: 0.9828\n",
      "Epoch 95/200\n",
      "25/25 [==============================] - 0s 3ms/step - loss: 0.0582 - acc: 0.9817\n",
      "Epoch 96/200\n",
      "25/25 [==============================] - 0s 4ms/step - loss: 0.0658 - acc: 0.9772\n",
      "Epoch 97/200\n",
      "25/25 [==============================] - 0s 3ms/step - loss: 0.0575 - acc: 0.9836\n",
      "Epoch 98/200\n",
      "25/25 [==============================] - 0s 3ms/step - loss: 0.0596 - acc: 0.9815\n",
      "Epoch 99/200\n",
      "25/25 [==============================] - 0s 3ms/step - loss: 0.0693 - acc: 0.9784\n",
      "Epoch 100/200\n",
      "25/25 [==============================] - 0s 3ms/step - loss: 0.0653 - acc: 0.9803\n",
      "Epoch 101/200\n",
      "25/25 [==============================] - 0s 3ms/step - loss: 0.0575 - acc: 0.9828\n",
      "Epoch 102/200\n",
      "25/25 [==============================] - 0s 3ms/step - loss: 0.0551 - acc: 0.9844\n",
      "Epoch 103/200\n",
      "25/25 [==============================] - 0s 3ms/step - loss: 0.0559 - acc: 0.9838\n",
      "Epoch 104/200\n",
      "25/25 [==============================] - 0s 4ms/step - loss: 0.0545 - acc: 0.9840\n",
      "Epoch 105/200\n",
      "25/25 [==============================] - 0s 3ms/step - loss: 0.0552 - acc: 0.9848\n",
      "Epoch 106/200\n",
      "25/25 [==============================] - 0s 4ms/step - loss: 0.0558 - acc: 0.9842\n",
      "Epoch 107/200\n",
      "25/25 [==============================] - 0s 3ms/step - loss: 0.0525 - acc: 0.9858\n",
      "Epoch 108/200\n",
      "25/25 [==============================] - 0s 3ms/step - loss: 0.0522 - acc: 0.9846\n",
      "Epoch 109/200\n",
      "25/25 [==============================] - 0s 3ms/step - loss: 0.0552 - acc: 0.9852\n",
      "Epoch 110/200\n",
      "25/25 [==============================] - 0s 3ms/step - loss: 0.0533 - acc: 0.9844\n",
      "Epoch 111/200\n",
      "25/25 [==============================] - 0s 3ms/step - loss: 0.0572 - acc: 0.9832\n",
      "Epoch 112/200\n",
      "25/25 [==============================] - 0s 3ms/step - loss: 0.0588 - acc: 0.9826\n",
      "Epoch 113/200\n",
      "25/25 [==============================] - 0s 3ms/step - loss: 0.0518 - acc: 0.9850\n",
      "Epoch 114/200\n",
      "25/25 [==============================] - 0s 3ms/step - loss: 0.0536 - acc: 0.9838\n",
      "Epoch 115/200\n",
      "25/25 [==============================] - 0s 4ms/step - loss: 0.0584 - acc: 0.9821\n",
      "Epoch 116/200\n",
      "25/25 [==============================] - 0s 3ms/step - loss: 0.0555 - acc: 0.9834\n",
      "Epoch 117/200\n",
      "25/25 [==============================] - 0s 3ms/step - loss: 0.0511 - acc: 0.9867\n",
      "Epoch 118/200\n",
      "25/25 [==============================] - 0s 3ms/step - loss: 0.0501 - acc: 0.9854\n",
      "Epoch 119/200\n",
      "25/25 [==============================] - 0s 3ms/step - loss: 0.0496 - acc: 0.9854\n",
      "Epoch 120/200\n",
      "25/25 [==============================] - 0s 3ms/step - loss: 0.0517 - acc: 0.9842\n",
      "Epoch 121/200\n",
      "25/25 [==============================] - 0s 4ms/step - loss: 0.0557 - acc: 0.9832\n",
      "Epoch 122/200\n",
      "25/25 [==============================] - 0s 3ms/step - loss: 0.0592 - acc: 0.9838\n",
      "Epoch 123/200\n",
      "25/25 [==============================] - 0s 3ms/step - loss: 0.0559 - acc: 0.9838\n",
      "Epoch 124/200\n",
      "25/25 [==============================] - 0s 3ms/step - loss: 0.0504 - acc: 0.9846\n",
      "Epoch 125/200\n",
      "25/25 [==============================] - 0s 3ms/step - loss: 0.0508 - acc: 0.9834\n",
      "Epoch 126/200\n",
      "25/25 [==============================] - 0s 3ms/step - loss: 0.0575 - acc: 0.9834\n",
      "Epoch 127/200\n",
      "25/25 [==============================] - 0s 3ms/step - loss: 0.0509 - acc: 0.9850\n",
      "Epoch 128/200\n",
      "25/25 [==============================] - 0s 3ms/step - loss: 0.0542 - acc: 0.9834\n",
      "Epoch 129/200\n",
      "25/25 [==============================] - 0s 3ms/step - loss: 0.0530 - acc: 0.9850\n",
      "Epoch 130/200\n",
      "25/25 [==============================] - 0s 3ms/step - loss: 0.0541 - acc: 0.9842\n",
      "Epoch 131/200\n",
      "25/25 [==============================] - 0s 3ms/step - loss: 0.0561 - acc: 0.9850\n",
      "Epoch 132/200\n",
      "25/25 [==============================] - 0s 4ms/step - loss: 0.0482 - acc: 0.9869\n",
      "Epoch 133/200\n",
      "25/25 [==============================] - 0s 3ms/step - loss: 0.0559 - acc: 0.9826\n",
      "Epoch 134/200\n",
      "25/25 [==============================] - 0s 3ms/step - loss: 0.0541 - acc: 0.9846\n",
      "Epoch 135/200\n",
      "25/25 [==============================] - 0s 3ms/step - loss: 0.0638 - acc: 0.9801\n",
      "Epoch 136/200\n",
      "25/25 [==============================] - 0s 3ms/step - loss: 0.0510 - acc: 0.9856\n",
      "Epoch 137/200\n",
      "25/25 [==============================] - 0s 3ms/step - loss: 0.0563 - acc: 0.9830\n",
      "Epoch 138/200\n",
      "25/25 [==============================] - 0s 3ms/step - loss: 0.0478 - acc: 0.9862\n",
      "Epoch 139/200\n",
      "25/25 [==============================] - 0s 4ms/step - loss: 0.0531 - acc: 0.9838\n",
      "Epoch 140/200\n",
      "25/25 [==============================] - 0s 4ms/step - loss: 0.0462 - acc: 0.9860\n",
      "Epoch 141/200\n",
      "25/25 [==============================] - 0s 3ms/step - loss: 0.0461 - acc: 0.9877\n",
      "Epoch 142/200\n",
      "25/25 [==============================] - 0s 3ms/step - loss: 0.0465 - acc: 0.9871\n",
      "Epoch 143/200\n",
      "25/25 [==============================] - 0s 3ms/step - loss: 0.0472 - acc: 0.9871\n",
      "Epoch 144/200\n",
      "25/25 [==============================] - 0s 4ms/step - loss: 0.0495 - acc: 0.9850\n",
      "Epoch 145/200\n",
      "25/25 [==============================] - 0s 4ms/step - loss: 0.0536 - acc: 0.9840\n",
      "Epoch 146/200\n",
      "25/25 [==============================] - 0s 3ms/step - loss: 0.0484 - acc: 0.9854\n",
      "Epoch 147/200\n",
      "25/25 [==============================] - 0s 3ms/step - loss: 0.0451 - acc: 0.9873\n",
      "Epoch 148/200\n",
      "25/25 [==============================] - 0s 3ms/step - loss: 0.0534 - acc: 0.9840\n",
      "Epoch 149/200\n",
      "25/25 [==============================] - 0s 4ms/step - loss: 0.0533 - acc: 0.9842\n",
      "Epoch 150/200\n",
      "25/25 [==============================] - 0s 3ms/step - loss: 0.0669 - acc: 0.9803\n",
      "Epoch 151/200\n",
      "25/25 [==============================] - 0s 3ms/step - loss: 0.0480 - acc: 0.9852\n",
      "Epoch 152/200\n",
      "25/25 [==============================] - 0s 3ms/step - loss: 0.0514 - acc: 0.9852\n",
      "Epoch 153/200\n",
      "25/25 [==============================] - 0s 3ms/step - loss: 0.0463 - acc: 0.9873\n",
      "Epoch 154/200\n",
      "25/25 [==============================] - 0s 3ms/step - loss: 0.0455 - acc: 0.9871\n",
      "Epoch 155/200\n",
      "25/25 [==============================] - 0s 3ms/step - loss: 0.0480 - acc: 0.9865\n",
      "Epoch 156/200\n",
      "25/25 [==============================] - 0s 3ms/step - loss: 0.0451 - acc: 0.9858\n",
      "Epoch 157/200\n",
      "25/25 [==============================] - 0s 3ms/step - loss: 0.0458 - acc: 0.9875\n",
      "Epoch 158/200\n",
      "25/25 [==============================] - 0s 4ms/step - loss: 0.0459 - acc: 0.9869\n",
      "Epoch 159/200\n",
      "25/25 [==============================] - 0s 3ms/step - loss: 0.0462 - acc: 0.9873\n",
      "Epoch 160/200\n",
      "25/25 [==============================] - 0s 4ms/step - loss: 0.0481 - acc: 0.9854\n",
      "Epoch 161/200\n",
      "25/25 [==============================] - 0s 4ms/step - loss: 0.0449 - acc: 0.9856\n",
      "Epoch 162/200\n",
      "25/25 [==============================] - 0s 3ms/step - loss: 0.0460 - acc: 0.9862\n",
      "Epoch 163/200\n",
      "25/25 [==============================] - 0s 3ms/step - loss: 0.0467 - acc: 0.9858\n",
      "Epoch 164/200\n",
      "25/25 [==============================] - 0s 3ms/step - loss: 0.0510 - acc: 0.9850\n",
      "Epoch 165/200\n",
      "25/25 [==============================] - 0s 4ms/step - loss: 0.0448 - acc: 0.9867\n",
      "Epoch 166/200\n",
      "25/25 [==============================] - 0s 3ms/step - loss: 0.0496 - acc: 0.9846\n",
      "Epoch 167/200\n",
      "25/25 [==============================] - 0s 3ms/step - loss: 0.0470 - acc: 0.9850\n",
      "Epoch 168/200\n",
      "25/25 [==============================] - 0s 4ms/step - loss: 0.0465 - acc: 0.9856\n",
      "Epoch 169/200\n",
      "25/25 [==============================] - 0s 4ms/step - loss: 0.0450 - acc: 0.9871\n",
      "Epoch 170/200\n",
      "25/25 [==============================] - 0s 3ms/step - loss: 0.0513 - acc: 0.9838\n",
      "Epoch 171/200\n",
      "25/25 [==============================] - 0s 3ms/step - loss: 0.0484 - acc: 0.9846\n",
      "Epoch 172/200\n"
     ]
    },
    {
     "name": "stdout",
     "output_type": "stream",
     "text": [
      "25/25 [==============================] - 0s 3ms/step - loss: 0.0522 - acc: 0.9838\n",
      "Epoch 173/200\n",
      "25/25 [==============================] - 0s 3ms/step - loss: 0.0488 - acc: 0.9854\n",
      "Epoch 174/200\n",
      "25/25 [==============================] - 0s 3ms/step - loss: 0.0495 - acc: 0.9850\n",
      "Epoch 175/200\n",
      "25/25 [==============================] - 0s 3ms/step - loss: 0.0432 - acc: 0.9877\n",
      "Epoch 176/200\n",
      "25/25 [==============================] - 0s 4ms/step - loss: 0.0457 - acc: 0.9867\n",
      "Epoch 177/200\n",
      "25/25 [==============================] - 0s 3ms/step - loss: 0.0447 - acc: 0.9862\n",
      "Epoch 178/200\n",
      "25/25 [==============================] - 0s 3ms/step - loss: 0.0462 - acc: 0.9854\n",
      "Epoch 179/200\n",
      "25/25 [==============================] - 0s 3ms/step - loss: 0.0496 - acc: 0.9846\n",
      "Epoch 180/200\n",
      "25/25 [==============================] - 0s 3ms/step - loss: 0.0453 - acc: 0.9873\n",
      "Epoch 181/200\n",
      "25/25 [==============================] - 0s 3ms/step - loss: 0.0473 - acc: 0.9840\n",
      "Epoch 182/200\n",
      "25/25 [==============================] - 0s 3ms/step - loss: 0.0432 - acc: 0.9875\n",
      "Epoch 183/200\n",
      "25/25 [==============================] - 0s 3ms/step - loss: 0.0422 - acc: 0.9879\n",
      "Epoch 184/200\n",
      "25/25 [==============================] - 0s 3ms/step - loss: 0.0448 - acc: 0.9871\n",
      "Epoch 185/200\n",
      "25/25 [==============================] - 0s 3ms/step - loss: 0.0473 - acc: 0.9871\n",
      "Epoch 186/200\n",
      "25/25 [==============================] - 0s 3ms/step - loss: 0.0431 - acc: 0.9871\n",
      "Epoch 187/200\n",
      "25/25 [==============================] - 0s 3ms/step - loss: 0.0471 - acc: 0.9862\n",
      "Epoch 188/200\n",
      "25/25 [==============================] - 0s 3ms/step - loss: 0.0490 - acc: 0.9850\n",
      "Epoch 189/200\n",
      "25/25 [==============================] - 0s 3ms/step - loss: 0.0443 - acc: 0.9860\n",
      "Epoch 190/200\n",
      "25/25 [==============================] - 0s 4ms/step - loss: 0.0477 - acc: 0.9865\n",
      "Epoch 191/200\n",
      "25/25 [==============================] - 0s 4ms/step - loss: 0.0526 - acc: 0.9840\n",
      "Epoch 192/200\n",
      "25/25 [==============================] - 0s 4ms/step - loss: 0.0542 - acc: 0.9832\n",
      "Epoch 193/200\n",
      "25/25 [==============================] - 0s 3ms/step - loss: 0.0545 - acc: 0.9842\n",
      "Epoch 194/200\n",
      "25/25 [==============================] - 0s 3ms/step - loss: 0.0441 - acc: 0.9877\n",
      "Epoch 195/200\n",
      "25/25 [==============================] - 0s 3ms/step - loss: 0.0420 - acc: 0.9883\n",
      "Epoch 196/200\n",
      "25/25 [==============================] - 0s 4ms/step - loss: 0.0435 - acc: 0.9875\n",
      "Epoch 197/200\n",
      "25/25 [==============================] - 0s 3ms/step - loss: 0.0425 - acc: 0.9869\n",
      "Epoch 198/200\n",
      "25/25 [==============================] - 0s 3ms/step - loss: 0.0440 - acc: 0.9871\n",
      "Epoch 199/200\n",
      "25/25 [==============================] - 0s 3ms/step - loss: 0.0419 - acc: 0.9879\n",
      "Epoch 200/200\n",
      "25/25 [==============================] - 0s 3ms/step - loss: 0.0430 - acc: 0.9871\n"
     ]
    },
    {
     "data": {
      "text/plain": [
       "<keras.callbacks.History at 0x141d9e37648>"
      ]
     },
     "execution_count": 63,
     "metadata": {},
     "output_type": "execute_result"
    }
   ],
   "source": [
    "model.compile(loss= 'binary_crossentropy', optimizer = 'adam',metrics = ['acc'])\n",
    "model.fit(train_X,train_y,epochs = 200, batch_size = 200)"
   ]
  },
  {
   "cell_type": "code",
   "execution_count": 67,
   "id": "48454a97",
   "metadata": {},
   "outputs": [
    {
     "name": "stdout",
     "output_type": "stream",
     "text": [
      "51/51 [==============================] - 0s 3ms/step - loss: 0.0627 - acc: 0.9809\n",
      "loss : 0.06\n",
      "accuracy : 98.09\n"
     ]
    }
   ],
   "source": [
    "evaluation = model.evaluate(test_X,test_y)\n",
    "print('loss : {:.2f}\\naccuracy : {:.2f}'.format(evaluation[0],evaluation[1]*100))"
   ]
  },
  {
   "cell_type": "code",
   "execution_count": null,
   "id": "67cdd7f6",
   "metadata": {},
   "outputs": [],
   "source": []
  }
 ],
 "metadata": {
  "kernelspec": {
   "display_name": "Python 3 (ipykernel)",
   "language": "python",
   "name": "python3"
  },
  "language_info": {
   "codemirror_mode": {
    "name": "ipython",
    "version": 3
   },
   "file_extension": ".py",
   "mimetype": "text/x-python",
   "name": "python",
   "nbconvert_exporter": "python",
   "pygments_lexer": "ipython3",
   "version": "3.7.4"
  }
 },
 "nbformat": 4,
 "nbformat_minor": 5
}
