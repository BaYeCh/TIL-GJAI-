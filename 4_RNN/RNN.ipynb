{
 "cells": [
  {
   "cell_type": "code",
   "execution_count": 1,
   "id": "51079434",
   "metadata": {},
   "outputs": [],
   "source": [
    "import os\n",
    "path = \"C:/pytest/\"\n",
    "os.chdir(path)"
   ]
  },
  {
   "cell_type": "code",
   "execution_count": 2,
   "id": "8dbf57b2",
   "metadata": {},
   "outputs": [],
   "source": [
    "import pandas as pd\n",
    "import numpy as np\n",
    "import tensorflow as tf"
   ]
  },
  {
   "cell_type": "code",
   "execution_count": 3,
   "id": "cacb831c",
   "metadata": {},
   "outputs": [],
   "source": [
    "train = pd.read_csv('뉴스데이터_train.csv', encoding = 'cp949')\n",
    "test = pd.read_csv('뉴스데이터_test.csv', encoding = 'cp949')"
   ]
  },
  {
   "cell_type": "code",
   "execution_count": 4,
   "id": "abf36734",
   "metadata": {},
   "outputs": [
    {
     "data": {
      "text/plain": [
       "id        0\n",
       "날짜        0\n",
       "분류1       0\n",
       "분류2    2062\n",
       "텍스트       0\n",
       "dtype: int64"
      ]
     },
     "execution_count": 4,
     "metadata": {},
     "output_type": "execute_result"
    }
   ],
   "source": [
    "train.isnull().sum()"
   ]
  },
  {
   "cell_type": "code",
   "execution_count": 5,
   "id": "13d431b3",
   "metadata": {},
   "outputs": [],
   "source": [
    "data1_train = train.loc[:,['id', '날짜','분류1','텍스트']]\n",
    "data1_test = test.loc[:,['id','날짜','분류1','텍스트']]"
   ]
  },
  {
   "cell_type": "code",
   "execution_count": 6,
   "id": "d1d38cdc",
   "metadata": {},
   "outputs": [],
   "source": [
    "data1_train_classes = data1_train['분류1']\n",
    "data1_test_classes = data1_test['분류1']"
   ]
  },
  {
   "cell_type": "code",
   "execution_count": 7,
   "id": "79aa0ef2",
   "metadata": {},
   "outputs": [],
   "source": [
    "data1_train_class = []\n",
    "data1_test_class = []\n",
    "for word in data1_train_classes:\n",
    "    data1_train_class.append(word.split(',')[0])\n",
    "for word in data1_test_classes:\n",
    "    data1_test_class.append(word.split(',')[0])"
   ]
  },
  {
   "cell_type": "code",
   "execution_count": 8,
   "id": "7cea5cf1",
   "metadata": {},
   "outputs": [],
   "source": [
    "data1_train['분류1_상위'] = pd.Series(data1_train_class)\n",
    "data1_test['분류1_상위'] = pd.Series(data1_test_class)"
   ]
  },
  {
   "cell_type": "code",
   "execution_count": 9,
   "id": "e0f2b6dc",
   "metadata": {},
   "outputs": [],
   "source": [
    "data2_train = train.loc[:,['id', '날짜','분류2','텍스트']]\n",
    "data2_test = test.loc[:,['id','날짜','분류2','텍스트']]"
   ]
  },
  {
   "cell_type": "code",
   "execution_count": 10,
   "id": "6cec1881",
   "metadata": {},
   "outputs": [],
   "source": [
    "data2_train.dropna(inplace=True)\n",
    "data2_test.dropna(inplace = True)"
   ]
  },
  {
   "cell_type": "code",
   "execution_count": 11,
   "id": "d6a4052b",
   "metadata": {},
   "outputs": [],
   "source": [
    "data2_train = data2_train.reset_index(drop = True)\n",
    "data2_test = data2_test.reset_index(drop = True)"
   ]
  },
  {
   "cell_type": "code",
   "execution_count": 12,
   "id": "72e5ab83",
   "metadata": {},
   "outputs": [],
   "source": [
    "data2_train_classes = data2_train['분류2']\n",
    "data2_test_classes = data2_test['분류2']\n",
    "data2_train_class = []\n",
    "data2_test_class = []\n",
    "for word in data2_train_classes:\n",
    "    data2_train_class.append(word.split(',')[0])\n",
    "for word in data2_test_classes:\n",
    "    data2_test_class.append(word.split(',')[0])\n",
    "data2_train['분류2_상위'] = pd.Series(data2_train_class)\n",
    "data2_test['분류2_상위'] = pd.Series(data2_test_class)"
   ]
  },
  {
   "cell_type": "code",
   "execution_count": 13,
   "id": "4f632fb0",
   "metadata": {},
   "outputs": [],
   "source": [
    "# data1\n",
    "data1_train_X = data1_train['텍스트']\n",
    "data1_train_y = data1_train['분류1_상위']\n",
    "data1_test_X = data1_test['텍스트']\n",
    "data1_test_y = data1_test['분류1_상위']\n",
    "\n",
    "# data2\n",
    "data2_train_X = data2_train['텍스트']\n",
    "data2_train_y = data2_train['분류2_상위']\n",
    "data2_test_X = data2_test['텍스트']\n",
    "data2_test_y = data2_test['분류2_상위']"
   ]
  },
  {
   "cell_type": "code",
   "execution_count": 14,
   "id": "2d2df07d",
   "metadata": {},
   "outputs": [
    {
     "name": "stdout",
     "output_type": "stream",
     "text": [
      "filepath:  C:\\Anaconda3\\lib\\site-packages\n",
      "classpath:  C:\\Anaconda3\\lib\\site-packages\\rhinoMorph/lib/rhino.jar\n",
      "RHINO started!\n"
     ]
    }
   ],
   "source": [
    "import rhinoMorph\n",
    "rn = rhinoMorph.startRhino()"
   ]
  },
  {
   "cell_type": "code",
   "execution_count": 15,
   "id": "6c322463",
   "metadata": {},
   "outputs": [],
   "source": [
    "from tqdm import tqdm"
   ]
  },
  {
   "cell_type": "code",
   "execution_count": 16,
   "id": "b739c476",
   "metadata": {},
   "outputs": [],
   "source": [
    "def auto_morphed(rn, data_text):\n",
    "    morphed_text = []\n",
    "    for word in tqdm(data_text):\n",
    "        morphed_text_lst = rhinoMorph.onlyMorph_list(rn, word, pos = ['NNP','NNG','VV','VA','XR','IC','MM','MAG','MAJ'], eomi = True)\n",
    "        joined_text = ' '.join(morphed_text_lst)\n",
    "        morphed_text.append(joined_text)\n",
    "        morphed_text_series = pd.Series(morphed_text)\n",
    "    return morphed_text_series"
   ]
  },
  {
   "cell_type": "code",
   "execution_count": 17,
   "id": "5bceaded",
   "metadata": {},
   "outputs": [
    {
     "name": "stderr",
     "output_type": "stream",
     "text": [
      "100%|█████████████████████████████████████████████████████████████████████████████| 6792/6792 [00:10<00:00, 652.59it/s]\n",
      "100%|█████████████████████████████████████████████████████████████████████████████| 4730/4730 [00:05<00:00, 874.18it/s]\n"
     ]
    }
   ],
   "source": [
    "# data1\n",
    "data1_train_X_morphed = auto_morphed(rn, data1_train_X)\n",
    "# dat2\n",
    "data2_train_X_morphed = auto_morphed(rn, data2_train_X)"
   ]
  },
  {
   "cell_type": "code",
   "execution_count": 18,
   "id": "dc60b35c",
   "metadata": {},
   "outputs": [
    {
     "name": "stdout",
     "output_type": "stream",
     "text": [
      "최소길이 : 4\n",
      "최대 길이 : 54\n",
      "평균 길이 : 19.5\n",
      "중위수 길이 : 19.0\n",
      "구간별 최대 길이 : [ 4. 16. 19. 22. 35. 54.]\n"
     ]
    }
   ],
   "source": [
    "text_len = [len(line.split()) for line in data2_train_X_morphed]\n",
    "print('최소길이 : {}\\n최대 길이 : {}\\n평균 길이 : {}\\n중위수 길이 : {}\\n구간별 최대 길이 : {}'.format(np.min(text_len), np.max(text_len), np.round(np.mean(text_len), 1), np.median(text_len), np.percentile(text_len, [0,25,50,75,99,100])))"
   ]
  },
  {
   "cell_type": "code",
   "execution_count": 56,
   "id": "4a46d2dc",
   "metadata": {},
   "outputs": [],
   "source": [
    "# data1_train_total = pd.concat([data1_train_X_morphed, data1_train_y], axis = 1)\n",
    "# data1_train_total.columns = ['텍스트','분류1_상위']\n",
    "# data1_train_total.to_csv('data1_train.csv',encoding = 'cp949', index = False)"
   ]
  },
  {
   "cell_type": "code",
   "execution_count": 57,
   "id": "3564e0f6",
   "metadata": {},
   "outputs": [],
   "source": [
    "# data1_test_total = pd.concat([data1_test_X_morphed, data1_test_y], axis = 1)\n",
    "# data1_test_total.columns = ['텍스트','분류1_상위']\n",
    "# data1_test_total.to_csv('data1_test.csv',encoding = 'cp949', index = False)\n",
    "\n",
    "# data2_test_total = pd.concat([data2_test_X_morphed, data2_test_y], axis = 1)\n",
    "# data2_test_total.columns = ['텍스트','분류2_상위']\n",
    "# data2_test_total.to_csv('data2_test.csv',encoding = 'cp949', index = False)"
   ]
  },
  {
   "cell_type": "code",
   "execution_count": 58,
   "id": "f70b18bf",
   "metadata": {},
   "outputs": [],
   "source": [
    "# data2_train_total = pd.concat([data2_train_X_morphed, data2_train_y], axis = 1)\n",
    "# data2_train_total.columns = ['텍스트','분류2_상위']\n",
    "# data2_train_total.to_csv('data2_train.csv',encoding = 'cp949', index = False)"
   ]
  },
  {
   "cell_type": "code",
   "execution_count": 19,
   "id": "752977b2",
   "metadata": {},
   "outputs": [],
   "source": [
    "max_words = 10000\n",
    "maxlen = 30\n",
    "embedding_dim = 200"
   ]
  },
  {
   "cell_type": "code",
   "execution_count": 20,
   "id": "d6f85b02",
   "metadata": {},
   "outputs": [],
   "source": [
    "from keras.preprocessing.text import Tokenizer\n",
    "tokenizer = Tokenizer(num_words = max_words)\n",
    "tokenizer.fit_on_texts(data1_train_X_morphed)\n",
    "word_index = tokenizer.word_index\n",
    "\n",
    "tokenizer2 = Tokenizer(num_words= max_words)\n",
    "tokenizer2.fit_on_texts(data2_train_X_morphed)"
   ]
  },
  {
   "cell_type": "code",
   "execution_count": 21,
   "id": "d39d92e4",
   "metadata": {},
   "outputs": [],
   "source": [
    "from tensorflow.keras.preprocessing.sequence import pad_sequences"
   ]
  },
  {
   "cell_type": "code",
   "execution_count": 22,
   "id": "4b94d025",
   "metadata": {},
   "outputs": [],
   "source": [
    "# sequencing \n",
    "data1_train_X_sequencing = tokenizer.texts_to_sequences(data1_train_X_morphed)\n",
    "# padding\n",
    "data1_train_X_padding = pad_sequences(data1_train_X_sequencing, maxlen = maxlen)"
   ]
  },
  {
   "cell_type": "code",
   "execution_count": 23,
   "id": "c19f3c5b",
   "metadata": {},
   "outputs": [],
   "source": [
    "# data2 sequencing \n",
    "data2_train_X_sequencing = tokenizer2.texts_to_sequences(data2_train_X_morphed)\n",
    "# padding\n",
    "data2_train_X_padding = pad_sequences(data2_train_X_sequencing, maxlen = maxlen)"
   ]
  },
  {
   "cell_type": "code",
   "execution_count": 24,
   "id": "b6757bc0",
   "metadata": {},
   "outputs": [],
   "source": [
    "from sklearn.preprocessing import LabelEncoder\n",
    "e = LabelEncoder()\n",
    "e.fit(data1_train_y)\n",
    "data1_train_y_labeling = e.transform(data1_train_y)"
   ]
  },
  {
   "cell_type": "code",
   "execution_count": 25,
   "id": "76593b57",
   "metadata": {},
   "outputs": [],
   "source": [
    "# data2\n",
    "e2 = LabelEncoder()\n",
    "e2.fit(data2_train_y)\n",
    "data2_train_y_labeling = e2.transform(data2_train_y)"
   ]
  },
  {
   "cell_type": "code",
   "execution_count": 26,
   "id": "5a12b1df",
   "metadata": {},
   "outputs": [
    {
     "name": "stdout",
     "output_type": "stream",
     "text": [
      "['IT_과학' '경제' '국제' '문화' '미분류' '사회' '스포츠' '정치' '지역'] ['IT_과학' '경제' '국제' '문화' '사회' '스포츠' '정치' '지역']\n"
     ]
    }
   ],
   "source": [
    "print(e.classes_, e2.classes_)"
   ]
  },
  {
   "cell_type": "code",
   "execution_count": 27,
   "id": "92d35f0e",
   "metadata": {},
   "outputs": [],
   "source": [
    "def to_one_hot(sequences, dimension):\n",
    "  results = np.zeros((len(sequences), dimension))\n",
    "  for i, sequence in enumerate(sequences):\n",
    "    results[i, sequence] = 1\n",
    "  return results"
   ]
  },
  {
   "cell_type": "code",
   "execution_count": 28,
   "id": "58f3739c",
   "metadata": {},
   "outputs": [],
   "source": [
    "data1_train_y_1hot = to_one_hot(data1_train_y_labeling, len(e.classes_))"
   ]
  },
  {
   "cell_type": "code",
   "execution_count": 29,
   "id": "8c5fac37",
   "metadata": {},
   "outputs": [],
   "source": [
    "data2_train_y_1hot = to_one_hot(data2_train_y_labeling, len(e2.classes_))"
   ]
  },
  {
   "cell_type": "code",
   "execution_count": 30,
   "id": "c069be06",
   "metadata": {},
   "outputs": [],
   "source": [
    "class_number = len(e.classes_)\n",
    "class_number2 = len(e2.classes_)"
   ]
  },
  {
   "cell_type": "code",
   "execution_count": 86,
   "id": "fe6bdc86",
   "metadata": {},
   "outputs": [
    {
     "name": "stdout",
     "output_type": "stream",
     "text": [
      "Model: \"sequential_10\"\n",
      "_________________________________________________________________\n",
      " Layer (type)                Output Shape              Param #   \n",
      "=================================================================\n",
      " embedding_8 (Embedding)     (None, 30, 200)           2000000   \n",
      "                                                                 \n",
      " lstm_13 (LSTM)              (None, 100)               120400    \n",
      "                                                                 \n",
      " dense_18 (Dense)            (None, 32)                3232      \n",
      "                                                                 \n",
      " dense_19 (Dense)            (None, 9)                 297       \n",
      "                                                                 \n",
      "=================================================================\n",
      "Total params: 2,123,929\n",
      "Trainable params: 2,123,929\n",
      "Non-trainable params: 0\n",
      "_________________________________________________________________\n"
     ]
    }
   ],
   "source": [
    "from keras.models import Sequential\n",
    "from keras import layers, regularizers\n",
    "model = Sequential()\n",
    "model.add(layers.Embedding(input_dim = max_words, output_dim = embedding_dim, input_length = maxlen))\n",
    "# model.add(layers.Bidirectional(layers.LSTM(100,return_sequences = True)))\n",
    "# model.add(layers.Bidirectional(layers.LSTM(100)))\n",
    "# model.add(layers.Dense(32, activation = 'relu'))\n",
    "# model.add(layers.Dense(class_number, activation=  'softmax'))\n",
    "model.add(layers.LSTM(100))\n",
    "model.add(layers.Dense(32, activation = 'relu'))\n",
    "model.add(layers.Dense(class_number, activation=  'softmax'))\n",
    "\n",
    "model.summary()"
   ]
  },
  {
   "cell_type": "code",
   "execution_count": 33,
   "id": "4cf7ca97",
   "metadata": {},
   "outputs": [
    {
     "name": "stdout",
     "output_type": "stream",
     "text": [
      "Model: \"sequential_2\"\n",
      "_________________________________________________________________\n",
      " Layer (type)                Output Shape              Param #   \n",
      "=================================================================\n",
      " embedding_2 (Embedding)     (None, 30, 200)           2000000   \n",
      "                                                                 \n",
      " bidirectional_4 (Bidirectio  (None, 30, 200)          240800    \n",
      " nal)                                                            \n",
      "                                                                 \n",
      " dropout_3 (Dropout)         (None, 30, 200)           0         \n",
      "                                                                 \n",
      " bidirectional_5 (Bidirectio  (None, 200)              240800    \n",
      " nal)                                                            \n",
      "                                                                 \n",
      " dense_2 (Dense)             (None, 32)                6432      \n",
      "                                                                 \n",
      " dropout_4 (Dropout)         (None, 32)                0         \n",
      "                                                                 \n",
      " dense_3 (Dense)             (None, 8)                 264       \n",
      "                                                                 \n",
      "=================================================================\n",
      "Total params: 2,488,296\n",
      "Trainable params: 2,488,296\n",
      "Non-trainable params: 0\n",
      "_________________________________________________________________\n"
     ]
    }
   ],
   "source": [
    "model2 = Sequential()\n",
    "model2.add(layers.Embedding(input_dim = max_words, output_dim = embedding_dim, input_length = maxlen))\n",
    "model2.add(layers.Bidirectional(layers.LSTM(100,return_sequences = True)))\n",
    "model2.add(layers.Dropout(0.5))\n",
    "model2.add(layers.Bidirectional(layers.LSTM(100)))\n",
    "model2.add(layers.Dense(32,kernel_regularizer = regularizers.L2(0.0001), activation = 'relu'))\n",
    "model2.add(layers.Dropout(0.5))\n",
    "model2.add(layers.Dense(class_number2, activation=  'softmax'))\n",
    "model2.summary()"
   ]
  },
  {
   "cell_type": "code",
   "execution_count": 34,
   "id": "e8829104",
   "metadata": {},
   "outputs": [],
   "source": [
    "from tensorflow.keras.callbacks import EarlyStopping\n",
    "es = EarlyStopping(monitor = 'acc', patience = 3)"
   ]
  },
  {
   "cell_type": "code",
   "execution_count": 87,
   "id": "4a66d244",
   "metadata": {
    "scrolled": true
   },
   "outputs": [
    {
     "name": "stdout",
     "output_type": "stream",
     "text": [
      "Epoch 1/10\n",
      "149/149 [==============================] - 5s 15ms/step - loss: 1.4526 - acc: 0.4947 - val_loss: 1.1259 - val_acc: 0.5947\n",
      "Epoch 2/10\n",
      "149/149 [==============================] - 1s 10ms/step - loss: 0.8811 - acc: 0.7005 - val_loss: 1.0852 - val_acc: 0.6173\n",
      "Epoch 3/10\n",
      "149/149 [==============================] - 1s 8ms/step - loss: 0.5534 - acc: 0.8286 - val_loss: 0.9595 - val_acc: 0.6943\n",
      "Epoch 4/10\n",
      "149/149 [==============================] - 1s 8ms/step - loss: 0.3237 - acc: 0.9043 - val_loss: 1.1329 - val_acc: 0.7085\n",
      "Epoch 5/10\n",
      "149/149 [==============================] - 1s 8ms/step - loss: 0.1887 - acc: 0.9430 - val_loss: 1.3768 - val_acc: 0.6963\n",
      "Epoch 6/10\n",
      "149/149 [==============================] - 1s 7ms/step - loss: 0.1182 - acc: 0.9674 - val_loss: 1.3760 - val_acc: 0.7046\n",
      "Epoch 7/10\n",
      "149/149 [==============================] - 1s 7ms/step - loss: 0.0713 - acc: 0.9832 - val_loss: 1.5035 - val_acc: 0.7120\n",
      "Epoch 8/10\n",
      "149/149 [==============================] - 1s 7ms/step - loss: 0.0458 - acc: 0.9876 - val_loss: 1.5763 - val_acc: 0.7022\n",
      "Epoch 9/10\n",
      "149/149 [==============================] - 1s 8ms/step - loss: 0.0264 - acc: 0.9933 - val_loss: 1.8887 - val_acc: 0.7036\n",
      "Epoch 10/10\n",
      "149/149 [==============================] - 1s 8ms/step - loss: 0.0161 - acc: 0.9947 - val_loss: 2.1525 - val_acc: 0.6963\n"
     ]
    }
   ],
   "source": [
    "model.compile(loss= 'categorical_crossentropy',optimizer= 'rmsprop',metrics = ['acc'])\n",
    "history1 = model.fit(data1_train_X_padding, data1_train_y_1hot,epochs = 10, batch_size =32, validation_split= 0.3,verbose = 1)"
   ]
  },
  {
   "cell_type": "code",
   "execution_count": 36,
   "id": "30abde3d",
   "metadata": {
    "scrolled": true
   },
   "outputs": [
    {
     "name": "stdout",
     "output_type": "stream",
     "text": [
      "Epoch 1/100\n",
      "104/104 [==============================] - 13s 35ms/step - loss: 1.7910 - acc: 0.3189 - val_loss: 1.5252 - val_acc: 0.4264\n",
      "Epoch 2/100\n",
      "104/104 [==============================] - 2s 23ms/step - loss: 1.4082 - acc: 0.4745 - val_loss: 1.4123 - val_acc: 0.5060\n",
      "Epoch 3/100\n",
      "104/104 [==============================] - 2s 20ms/step - loss: 1.1090 - acc: 0.6025 - val_loss: 1.4452 - val_acc: 0.5469\n",
      "Epoch 4/100\n",
      "104/104 [==============================] - 2s 20ms/step - loss: 0.8515 - acc: 0.7131 - val_loss: 1.5334 - val_acc: 0.5469\n",
      "Epoch 5/100\n",
      "104/104 [==============================] - 2s 21ms/step - loss: 0.6553 - acc: 0.7883 - val_loss: 1.7221 - val_acc: 0.5462\n",
      "Epoch 6/100\n",
      "104/104 [==============================] - 2s 21ms/step - loss: 0.4977 - acc: 0.8417 - val_loss: 2.1023 - val_acc: 0.5370\n",
      "Epoch 7/100\n",
      "104/104 [==============================] - 2s 20ms/step - loss: 0.3642 - acc: 0.8961 - val_loss: 2.1956 - val_acc: 0.5736\n",
      "Epoch 8/100\n",
      "104/104 [==============================] - 2s 21ms/step - loss: 0.2846 - acc: 0.9230 - val_loss: 2.7204 - val_acc: 0.5525\n",
      "Epoch 9/100\n",
      "104/104 [==============================] - 2s 20ms/step - loss: 0.2215 - acc: 0.9417 - val_loss: 2.5298 - val_acc: 0.5574\n",
      "Epoch 10/100\n",
      "104/104 [==============================] - 2s 20ms/step - loss: 0.1655 - acc: 0.9547 - val_loss: 3.1120 - val_acc: 0.5779\n",
      "Epoch 11/100\n",
      "104/104 [==============================] - 2s 20ms/step - loss: 0.1450 - acc: 0.9662 - val_loss: 3.3256 - val_acc: 0.5490\n",
      "Epoch 12/100\n",
      "104/104 [==============================] - 2s 21ms/step - loss: 0.1324 - acc: 0.9659 - val_loss: 3.5848 - val_acc: 0.5856\n",
      "Epoch 13/100\n",
      "104/104 [==============================] - 2s 21ms/step - loss: 0.1146 - acc: 0.9761 - val_loss: 3.3132 - val_acc: 0.5673\n",
      "Epoch 14/100\n",
      "104/104 [==============================] - 2s 21ms/step - loss: 0.0986 - acc: 0.9822 - val_loss: 4.0171 - val_acc: 0.5490\n",
      "Epoch 15/100\n",
      "104/104 [==============================] - 2s 21ms/step - loss: 0.0984 - acc: 0.9816 - val_loss: 3.6342 - val_acc: 0.5715\n",
      "Epoch 16/100\n",
      "104/104 [==============================] - 2s 20ms/step - loss: 0.0681 - acc: 0.9831 - val_loss: 4.2052 - val_acc: 0.5624\n",
      "Epoch 17/100\n",
      "104/104 [==============================] - 2s 21ms/step - loss: 0.0602 - acc: 0.9837 - val_loss: 4.7298 - val_acc: 0.5807\n",
      "Epoch 18/100\n",
      "104/104 [==============================] - 2s 21ms/step - loss: 0.0580 - acc: 0.9825 - val_loss: 5.4421 - val_acc: 0.5997\n",
      "Epoch 19/100\n",
      "104/104 [==============================] - 2s 20ms/step - loss: 0.0781 - acc: 0.9813 - val_loss: 4.7478 - val_acc: 0.5603\n",
      "Epoch 20/100\n",
      "104/104 [==============================] - 2s 20ms/step - loss: 0.0530 - acc: 0.9879 - val_loss: 5.6338 - val_acc: 0.5673\n",
      "Epoch 21/100\n",
      "104/104 [==============================] - 2s 20ms/step - loss: 0.0515 - acc: 0.9885 - val_loss: 6.5868 - val_acc: 0.5708\n",
      "Epoch 22/100\n",
      "104/104 [==============================] - 2s 21ms/step - loss: 0.0497 - acc: 0.9894 - val_loss: 6.0358 - val_acc: 0.5786\n",
      "Epoch 23/100\n",
      "104/104 [==============================] - 2s 21ms/step - loss: 0.0469 - acc: 0.9888 - val_loss: 6.5339 - val_acc: 0.5518\n",
      "Epoch 24/100\n",
      "104/104 [==============================] - 2s 21ms/step - loss: 0.0540 - acc: 0.9852 - val_loss: 6.1685 - val_acc: 0.5913\n",
      "Epoch 25/100\n",
      "104/104 [==============================] - 2s 21ms/step - loss: 0.0401 - acc: 0.9906 - val_loss: 5.9426 - val_acc: 0.5849\n",
      "Epoch 26/100\n",
      "104/104 [==============================] - 2s 21ms/step - loss: 0.0639 - acc: 0.9867 - val_loss: 5.4894 - val_acc: 0.5765\n",
      "Epoch 27/100\n",
      "104/104 [==============================] - 2s 21ms/step - loss: 0.0411 - acc: 0.9867 - val_loss: 5.8723 - val_acc: 0.5821\n",
      "Epoch 28/100\n",
      "104/104 [==============================] - 2s 20ms/step - loss: 0.0670 - acc: 0.9846 - val_loss: 6.0284 - val_acc: 0.5729\n"
     ]
    },
    {
     "data": {
      "text/plain": [
       "<keras.callbacks.History at 0x1980dbcf448>"
      ]
     },
     "execution_count": 36,
     "metadata": {},
     "output_type": "execute_result"
    }
   ],
   "source": [
    "# model2.compile(loss= 'categorical_crossentropy',optimizer= 'rmsprop',metrics = ['acc'])\n",
    "# model2.fit(data2_train_X_padding, data2_train_y_1hot,epochs = 100, batch_size =32, validation_split= 0.3,verbose = 1,callbacks = [es])"
   ]
  },
  {
   "cell_type": "code",
   "execution_count": 37,
   "id": "2d9dec91",
   "metadata": {},
   "outputs": [
    {
     "name": "stderr",
     "output_type": "stream",
     "text": [
      "100%|█████████████████████████████████████████████████████████████████████████████| 2265/2265 [00:03<00:00, 666.72it/s]\n"
     ]
    }
   ],
   "source": [
    "# data1 test\n",
    "data1_test_X_morphed = auto_morphed(rn, data1_test_X)"
   ]
  },
  {
   "cell_type": "code",
   "execution_count": 38,
   "id": "66b8155c",
   "metadata": {},
   "outputs": [
    {
     "name": "stderr",
     "output_type": "stream",
     "text": [
      "100%|█████████████████████████████████████████████████████████████████████████████| 1593/1593 [00:02<00:00, 756.70it/s]\n"
     ]
    }
   ],
   "source": [
    "# data2 test\n",
    "data2_test_X_morphed = auto_morphed(rn, data2_test_X)"
   ]
  },
  {
   "cell_type": "code",
   "execution_count": 39,
   "id": "df13cd5d",
   "metadata": {},
   "outputs": [],
   "source": [
    "# data1\n",
    "# sequencing\n",
    "data1_test_X_sequencing = tokenizer.texts_to_sequences(data1_test_X_morphed)\n",
    "# padding\n",
    "data1_test_X_padding = pad_sequences(data1_test_X_sequencing, maxlen = maxlen)"
   ]
  },
  {
   "cell_type": "code",
   "execution_count": 40,
   "id": "c7fb2efb",
   "metadata": {},
   "outputs": [],
   "source": [
    "# data2\n",
    "# sequencing\n",
    "data2_test_X_sequencing = tokenizer2.texts_to_sequences(data2_test_X_morphed)\n",
    "# padding\n",
    "data2_test_X_padding = pad_sequences(data2_test_X_sequencing, maxlen = maxlen)"
   ]
  },
  {
   "cell_type": "code",
   "execution_count": 41,
   "id": "f9366076",
   "metadata": {},
   "outputs": [],
   "source": [
    "# data1 test_y\n",
    "data1_test_y_labeling= e.transform(data1_test_y)\n",
    "data1_test_y_1hot = to_one_hot(data1_test_y_labeling, class_number)"
   ]
  },
  {
   "cell_type": "code",
   "execution_count": 42,
   "id": "2363e20a",
   "metadata": {},
   "outputs": [],
   "source": [
    "# data2 test_y\n",
    "data2_test_y_labeling= e2.transform(data2_test_y)\n",
    "data2_test_y_1hot = to_one_hot(data2_test_y_labeling, class_number2)"
   ]
  },
  {
   "cell_type": "code",
   "execution_count": 88,
   "id": "88471aa9",
   "metadata": {},
   "outputs": [
    {
     "name": "stdout",
     "output_type": "stream",
     "text": [
      "71/71 [==============================] - 0s 3ms/step - loss: 1.9883 - acc: 0.7046\n"
     ]
    }
   ],
   "source": [
    "# data1 분류1\n",
    "eval1 = model.evaluate(data1_test_X_padding, data1_test_y_1hot)"
   ]
  },
  {
   "cell_type": "code",
   "execution_count": 74,
   "id": "f6a62b3e",
   "metadata": {},
   "outputs": [
    {
     "data": {
      "text/plain": [
       "[1.816127061843872, 0.693598210811615]"
      ]
     },
     "execution_count": 74,
     "metadata": {},
     "output_type": "execute_result"
    }
   ],
   "source": []
  },
  {
   "cell_type": "code",
   "execution_count": 44,
   "id": "0fcab087",
   "metadata": {},
   "outputs": [
    {
     "name": "stdout",
     "output_type": "stream",
     "text": [
      "50/50 [==============================] - 0s 7ms/step - loss: 5.9999 - acc: 0.5625\n"
     ]
    },
    {
     "data": {
      "text/plain": [
       "[5.999931335449219, 0.5624607801437378]"
      ]
     },
     "execution_count": 44,
     "metadata": {},
     "output_type": "execute_result"
    }
   ],
   "source": [
    "# data2 분류2\n",
    "model2.evaluate(data2_test_X_padding, data2_test_y_1hot)"
   ]
  },
  {
   "cell_type": "code",
   "execution_count": 69,
   "id": "96544835",
   "metadata": {},
   "outputs": [],
   "source": [
    "epochs_range = range(0,10)"
   ]
  },
  {
   "cell_type": "code",
   "execution_count": 89,
   "id": "b2f49984",
   "metadata": {},
   "outputs": [],
   "source": [
    "val_acc1 = history1.history['val_acc']\n",
    "val_loss1 = history1.history['val_loss']\n",
    "val_acc2 = history2.history['val_acc']\n",
    "val_loss2 = history2.history['val_loss']\n",
    "val_acc3 = history3.history['val_acc']\n",
    "val_loss3 = history3.history['val_loss']\n",
    "val_acc4 = history4.history['val_acc']\n",
    "val_loss4 = history4.history['val_loss']\n",
    "val_acc5 = history5.history['val_acc']\n",
    "val_loss5 = history5.history['val_loss']"
   ]
  },
  {
   "cell_type": "code",
   "execution_count": 65,
   "id": "8487e26c",
   "metadata": {},
   "outputs": [],
   "source": [
    "import matplotlib.pyplot as plt"
   ]
  },
  {
   "cell_type": "code",
   "execution_count": 93,
   "id": "f2f6f84d",
   "metadata": {},
   "outputs": [
    {
     "data": {
      "image/png": "[encoded data removed]",
      "text/plain": [
       "<Figure size 1200x900 with 2 Axes>"
      ]
     },
     "metadata": {},
     "output_type": "display_data"
    }
   ],
   "source": [
    "plt.figure(figsize = (12,9))\n",
    "plt.subplot(211)\n",
    "plt.plot(epochs_range, val_acc1,label='Validation Acc of LSTM')\n",
    "plt.plot(epochs_range, val_acc2,label='Validation Acc of LSTM,L2')\n",
    "plt.plot(epochs_range, val_acc3,label='Validation Acc of LSTM,L2,Dropout')\n",
    "plt.plot(epochs_range, val_acc4,label='Validation Acc of Dropout')\n",
    "plt.plot(epochs_range, val_acc5,label='Validation Acc of Bidirectional')\n",
    "plt.legend()\n",
    "plt.subplot(212)\n",
    "plt.plot(epochs_range, val_loss1,label='Validation Loss of LSTM')\n",
    "plt.plot(epochs_range, val_loss2,label='Validation Loss of LSTM,L2')\n",
    "plt.plot(epochs_range, val_loss3,label='Validation Loss of LSTM,L2,Dropout')\n",
    "plt.plot(epochs_range, val_loss4,label='Validation Loss of Dropout')\n",
    "plt.plot(epochs_range, val_loss5,label='Validation Loss of Bidirectional')\n",
    "plt.legend()\n",
    "plt.show()"
   ]
  },
  {
   "cell_type": "code",
   "execution_count": 95,
   "id": "eb83e4ce",
   "metadata": {},
   "outputs": [],
   "source": [
    "eval_lst = [eval1, eval2, eval3,eval4,eval5]"
   ]
  },
  {
   "cell_type": "code",
   "execution_count": 97,
   "id": "37ed4787",
   "metadata": {},
   "outputs": [],
   "source": [
    "eval_lst1 = ['LSTM','LSTM,L2','LSTM,L2,Dropout','Dropout','Bidirectional']"
   ]
  },
  {
   "cell_type": "code",
   "execution_count": 100,
   "id": "21bdecb4",
   "metadata": {},
   "outputs": [
    {
     "data": {
      "text/html": [
       "<div>\n",
       "<style scoped>\n",
       "    .dataframe tbody tr th:only-of-type {\n",
       "        vertical-align: middle;\n",
       "    }\n",
       "\n",
       "    .dataframe tbody tr th {\n",
       "        vertical-align: top;\n",
       "    }\n",
       "\n",
       "    .dataframe thead th {\n",
       "        text-align: right;\n",
       "    }\n",
       "</style>\n",
       "<table border=\"1\" class=\"dataframe\">\n",
       "  <thead>\n",
       "    <tr style=\"text-align: right;\">\n",
       "      <th></th>\n",
       "      <th>model</th>\n",
       "      <th>loss</th>\n",
       "      <th>acc</th>\n",
       "    </tr>\n",
       "  </thead>\n",
       "  <tbody>\n",
       "    <tr>\n",
       "      <th>0</th>\n",
       "      <td>LSTM</td>\n",
       "      <td>1.988298</td>\n",
       "      <td>0.704636</td>\n",
       "    </tr>\n",
       "    <tr>\n",
       "      <th>1</th>\n",
       "      <td>LSTM,L2</td>\n",
       "      <td>1.816127</td>\n",
       "      <td>0.693598</td>\n",
       "    </tr>\n",
       "    <tr>\n",
       "      <th>2</th>\n",
       "      <td>LSTM,L2,Dropout</td>\n",
       "      <td>2.029336</td>\n",
       "      <td>0.700221</td>\n",
       "    </tr>\n",
       "    <tr>\n",
       "      <th>3</th>\n",
       "      <td>Dropout</td>\n",
       "      <td>1.320263</td>\n",
       "      <td>0.717881</td>\n",
       "    </tr>\n",
       "    <tr>\n",
       "      <th>4</th>\n",
       "      <td>Bidirectional</td>\n",
       "      <td>1.874790</td>\n",
       "      <td>0.696247</td>\n",
       "    </tr>\n",
       "  </tbody>\n",
       "</table>\n",
       "</div>"
      ],
      "text/plain": [
       "             model      loss       acc\n",
       "0             LSTM  1.988298  0.704636\n",
       "1          LSTM,L2  1.816127  0.693598\n",
       "2  LSTM,L2,Dropout  2.029336  0.700221\n",
       "3          Dropout  1.320263  0.717881\n",
       "4    Bidirectional  1.874790  0.696247"
      ]
     },
     "execution_count": 100,
     "metadata": {},
     "output_type": "execute_result"
    }
   ],
   "source": [
    "pd.concat([pd.Series(eval_lst1, name = 'model'),pd.DataFrame(eval_lst, columns = ['loss','acc'])], axis =1)"
   ]
  },
  {
   "cell_type": "code",
   "execution_count": null,
   "id": "c75fad2d",
   "metadata": {},
   "outputs": [],
   "source": []
  }
 ],
 "metadata": {
  "kernelspec": {
   "display_name": "Python 3 (ipykernel)",
   "language": "python",
   "name": "python3"
  },
  "language_info": {
   "codemirror_mode": {
    "name": "ipython",
    "version": 3
   },
   "file_extension": ".py",
   "mimetype": "text/x-python",
   "name": "python",
   "nbconvert_exporter": "python",
   "pygments_lexer": "ipython3",
   "version": "3.7.4"
  }
 },
 "nbformat": 4,
 "nbformat_minor": 5
}
