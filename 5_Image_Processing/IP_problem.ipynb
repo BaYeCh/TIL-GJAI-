{
 "cells": [
  {
   "cell_type": "code",
   "execution_count": 1,
   "id": "e7853385",
   "metadata": {},
   "outputs": [],
   "source": [
    "import os\n",
    "path = 'C:/pytest_img/'\n",
    "os.chdir(path)"
   ]
  },
  {
   "cell_type": "code",
   "execution_count": 2,
   "id": "1b01ec6f",
   "metadata": {},
   "outputs": [],
   "source": [
    "import numpy as np\n",
    "import pandas as pd\n",
    "import tensorflow as tf"
   ]
  },
  {
   "cell_type": "code",
   "execution_count": 3,
   "id": "0fa268f3",
   "metadata": {},
   "outputs": [],
   "source": [
    "from tensorflow.keras.preprocessing.image import ImageDataGenerator"
   ]
  },
  {
   "cell_type": "code",
   "execution_count": 4,
   "id": "3b181f62",
   "metadata": {},
   "outputs": [],
   "source": [
    "train_datagen = ImageDataGenerator(\n",
    "    rescale = 1./255,\n",
    "    rotation_range=40,\n",
    "    width_shift_range=0.2,\n",
    "    height_shift_range=0.2,\n",
    "    shear_range=0.2,\n",
    "    zoom_range=0.2,\n",
    "    horizontal_flip=True)\n",
    "validation_datagen = ImageDataGenerator(rescale = 1./255)\n",
    "test_datagen = ImageDataGenerator(rescale = 1./255)"
   ]
  },
  {
   "cell_type": "code",
   "execution_count": 5,
   "id": "06db98a2",
   "metadata": {},
   "outputs": [],
   "source": [
    "train_dir = 'C:/pytest_img/seg_train/'\n",
    "validation_dir = \"C:/pytest_img/seg_validation/\"\n",
    "test_dir = \"C:/pytest_img/seg_test/\""
   ]
  },
  {
   "cell_type": "code",
   "execution_count": 6,
   "id": "a3ff6452",
   "metadata": {},
   "outputs": [
    {
     "name": "stdout",
     "output_type": "stream",
     "text": [
      "Found 11634 images belonging to 6 classes.\n",
      "Found 2400 images belonging to 6 classes.\n",
      "Found 3000 images belonging to 6 classes.\n"
     ]
    }
   ],
   "source": [
    "train_generator = train_datagen.flow_from_directory(\n",
    "    train_dir, target_size=(20,20), batch_size =100, class_mode='categorical',\n",
    "    classes = ['buildings','forest','glacier','mountain','sea','street'])\n",
    "validation_generator = validation_datagen.flow_from_directory(\n",
    "    validation_dir,target_size = (20,20), batch_size = 100, class_mode = 'categorical',\n",
    "    classes = ['buildings','forest','glacier','mountain','sea','street'])\n",
    "test_generator = test_datagen.flow_from_directory(\n",
    "    test_dir, target_size= (20,20), batch_size= 100, class_mode= 'categorical',\n",
    "    classes = ['buildings','forest','glacier','mountain','sea','street'])"
   ]
  },
  {
   "cell_type": "code",
   "execution_count": 7,
   "id": "4071ef78",
   "metadata": {},
   "outputs": [
    {
     "name": "stdout",
     "output_type": "stream",
     "text": [
      "Model: \"sequential\"\n",
      "_________________________________________________________________\n",
      " Layer (type)                Output Shape              Param #   \n",
      "=================================================================\n",
      " conv2d (Conv2D)             (None, 18, 18, 32)        896       \n",
      "                                                                 \n",
      " conv2d_1 (Conv2D)           (None, 16, 16, 64)        18496     \n",
      "                                                                 \n",
      " max_pooling2d (MaxPooling2D  (None, 8, 8, 64)         0         \n",
      " )                                                               \n",
      "                                                                 \n",
      " dropout (Dropout)           (None, 8, 8, 64)          0         \n",
      "                                                                 \n",
      " flatten (Flatten)           (None, 4096)              0         \n",
      "                                                                 \n",
      " dense (Dense)               (None, 64)                262208    \n",
      "                                                                 \n",
      " dropout_1 (Dropout)         (None, 64)                0         \n",
      "                                                                 \n",
      " dense_1 (Dense)             (None, 6)                 390       \n",
      "                                                                 \n",
      "=================================================================\n",
      "Total params: 281,990\n",
      "Trainable params: 281,990\n",
      "Non-trainable params: 0\n",
      "_________________________________________________________________\n"
     ]
    }
   ],
   "source": [
    "from tensorflow.keras import models\n",
    "from tensorflow.keras import layers\n",
    "\n",
    "model = models.Sequential()\n",
    "model.add(layers.Conv2D(32, kernel_size = (3,3), input_shape = (20,20,3), activation = 'relu'))\n",
    "model.add(layers.Conv2D(64, kernel_size = (3,3), activation = 'relu'))\n",
    "model.add(layers.MaxPooling2D(pool_size = 2))\n",
    "model.add(layers.Dropout(0.4))\n",
    "model.add(layers.Flatten())\n",
    "model.add(layers.Dense(64, activation = 'relu'))\n",
    "model.add(layers.Dropout(0.4))\n",
    "model.add(layers.Dense(6, activation = 'softmax'))\n",
    "model.summary()"
   ]
  },
  {
   "cell_type": "code",
   "execution_count": 8,
   "id": "2e924a15",
   "metadata": {},
   "outputs": [],
   "source": [
    "model.compile(loss= 'categorical_crossentropy', optimizer = 'adam', metrics = ['acc'])"
   ]
  },
  {
   "cell_type": "code",
   "execution_count": 9,
   "id": "3f70da77",
   "metadata": {},
   "outputs": [
    {
     "data": {
      "text/plain": [
       "117"
      ]
     },
     "execution_count": 9,
     "metadata": {},
     "output_type": "execute_result"
    }
   ],
   "source": [
    "len(train_generator)"
   ]
  },
  {
   "cell_type": "code",
   "execution_count": 11,
   "id": "058fc5b6",
   "metadata": {},
   "outputs": [
    {
     "name": "stdout",
     "output_type": "stream",
     "text": [
      "Epoch 1/100\n",
      "117/117 [==============================] - 20s 163ms/step - loss: 1.4317 - acc: 0.4279 - val_loss: 1.1478 - val_acc: 0.5404\n",
      "Epoch 2/100\n",
      "117/117 [==============================] - 15s 132ms/step - loss: 1.2077 - acc: 0.5292 - val_loss: 1.1027 - val_acc: 0.5775\n",
      "Epoch 3/100\n",
      "117/117 [==============================] - 16s 135ms/step - loss: 1.1488 - acc: 0.5650 - val_loss: 0.9952 - val_acc: 0.6125\n",
      "Epoch 4/100\n",
      "117/117 [==============================] - 16s 136ms/step - loss: 1.0949 - acc: 0.5771 - val_loss: 0.8982 - val_acc: 0.6562\n",
      "Epoch 5/100\n",
      "117/117 [==============================] - 16s 139ms/step - loss: 1.0628 - acc: 0.6016 - val_loss: 0.9936 - val_acc: 0.6225\n",
      "Epoch 6/100\n",
      "117/117 [==============================] - 16s 135ms/step - loss: 1.0407 - acc: 0.6076 - val_loss: 0.9022 - val_acc: 0.6625\n",
      "Epoch 7/100\n",
      "117/117 [==============================] - 16s 136ms/step - loss: 1.0353 - acc: 0.6094 - val_loss: 0.8859 - val_acc: 0.6658\n",
      "Epoch 8/100\n",
      "117/117 [==============================] - 16s 137ms/step - loss: 1.0065 - acc: 0.6241 - val_loss: 0.8306 - val_acc: 0.6783\n",
      "Epoch 9/100\n",
      "117/117 [==============================] - 16s 137ms/step - loss: 0.9965 - acc: 0.6258 - val_loss: 0.8867 - val_acc: 0.6621\n",
      "Epoch 10/100\n",
      "117/117 [==============================] - 16s 139ms/step - loss: 0.9870 - acc: 0.6308 - val_loss: 0.8391 - val_acc: 0.6854\n",
      "Epoch 11/100\n",
      "117/117 [==============================] - 17s 142ms/step - loss: 0.9663 - acc: 0.6351 - val_loss: 0.8950 - val_acc: 0.6637\n",
      "Epoch 12/100\n",
      "117/117 [==============================] - 16s 140ms/step - loss: 0.9670 - acc: 0.6433 - val_loss: 0.8524 - val_acc: 0.6800\n",
      "Epoch 13/100\n",
      "117/117 [==============================] - 16s 138ms/step - loss: 0.9631 - acc: 0.6453 - val_loss: 0.8423 - val_acc: 0.6754\n",
      "Epoch 14/100\n",
      "117/117 [==============================] - 16s 136ms/step - loss: 0.9403 - acc: 0.6528 - val_loss: 0.8086 - val_acc: 0.7033\n",
      "Epoch 15/100\n",
      "117/117 [==============================] - 16s 137ms/step - loss: 0.9213 - acc: 0.6527 - val_loss: 0.8093 - val_acc: 0.6992\n",
      "Epoch 16/100\n",
      "117/117 [==============================] - 16s 136ms/step - loss: 0.9256 - acc: 0.6570 - val_loss: 0.7882 - val_acc: 0.7088\n",
      "Epoch 17/100\n",
      "117/117 [==============================] - 16s 136ms/step - loss: 0.9311 - acc: 0.6492 - val_loss: 0.7775 - val_acc: 0.7150\n",
      "Epoch 18/100\n",
      "117/117 [==============================] - 16s 138ms/step - loss: 0.9223 - acc: 0.6634 - val_loss: 0.7737 - val_acc: 0.7183\n",
      "Epoch 19/100\n",
      "117/117 [==============================] - 16s 136ms/step - loss: 0.9043 - acc: 0.6641 - val_loss: 0.7545 - val_acc: 0.7217\n",
      "Epoch 20/100\n",
      "117/117 [==============================] - 16s 137ms/step - loss: 0.8994 - acc: 0.6682 - val_loss: 0.7760 - val_acc: 0.7125\n",
      "Epoch 21/100\n",
      "117/117 [==============================] - 16s 137ms/step - loss: 0.9027 - acc: 0.6672 - val_loss: 0.7491 - val_acc: 0.7300\n",
      "Epoch 22/100\n",
      "117/117 [==============================] - 16s 138ms/step - loss: 0.8773 - acc: 0.6752 - val_loss: 0.8046 - val_acc: 0.7029\n",
      "Epoch 23/100\n",
      "117/117 [==============================] - 16s 136ms/step - loss: 0.8952 - acc: 0.6688 - val_loss: 0.7526 - val_acc: 0.7246\n",
      "Epoch 24/100\n",
      "117/117 [==============================] - 16s 138ms/step - loss: 0.8801 - acc: 0.6783 - val_loss: 0.7562 - val_acc: 0.7217\n",
      "Epoch 25/100\n",
      "117/117 [==============================] - 16s 139ms/step - loss: 0.8783 - acc: 0.6783 - val_loss: 0.7987 - val_acc: 0.7096\n",
      "Epoch 26/100\n",
      "117/117 [==============================] - 16s 137ms/step - loss: 0.8743 - acc: 0.6818 - val_loss: 0.7085 - val_acc: 0.7404\n",
      "Epoch 27/100\n",
      "117/117 [==============================] - 17s 143ms/step - loss: 0.8594 - acc: 0.6824 - val_loss: 0.7624 - val_acc: 0.7217\n",
      "Epoch 28/100\n",
      "117/117 [==============================] - 16s 134ms/step - loss: 0.8649 - acc: 0.6802 - val_loss: 0.7382 - val_acc: 0.7362\n",
      "Epoch 29/100\n",
      "117/117 [==============================] - 16s 134ms/step - loss: 0.8555 - acc: 0.6905 - val_loss: 0.7595 - val_acc: 0.7196\n",
      "Epoch 30/100\n",
      "117/117 [==============================] - 16s 135ms/step - loss: 0.8552 - acc: 0.6892 - val_loss: 0.7562 - val_acc: 0.7200\n",
      "Epoch 31/100\n",
      "117/117 [==============================] - 16s 135ms/step - loss: 0.8586 - acc: 0.6880 - val_loss: 0.7252 - val_acc: 0.7433\n",
      "Epoch 32/100\n",
      "117/117 [==============================] - 16s 137ms/step - loss: 0.8610 - acc: 0.6825 - val_loss: 0.7159 - val_acc: 0.7462\n",
      "Epoch 33/100\n",
      "117/117 [==============================] - 16s 139ms/step - loss: 0.8505 - acc: 0.6889 - val_loss: 0.7253 - val_acc: 0.7375\n",
      "Epoch 34/100\n",
      "117/117 [==============================] - 17s 144ms/step - loss: 0.8347 - acc: 0.6905 - val_loss: 0.6831 - val_acc: 0.7579\n",
      "Epoch 35/100\n",
      "117/117 [==============================] - 16s 139ms/step - loss: 0.8410 - acc: 0.6917 - val_loss: 0.6768 - val_acc: 0.7571\n",
      "Epoch 36/100\n",
      "117/117 [==============================] - 16s 139ms/step - loss: 0.8358 - acc: 0.6964 - val_loss: 0.7065 - val_acc: 0.7383\n",
      "Epoch 37/100\n",
      "117/117 [==============================] - 17s 143ms/step - loss: 0.8372 - acc: 0.6955 - val_loss: 0.6909 - val_acc: 0.7496\n",
      "Epoch 38/100\n",
      "117/117 [==============================] - 16s 135ms/step - loss: 0.8365 - acc: 0.6937 - val_loss: 0.7421 - val_acc: 0.7321\n",
      "Epoch 39/100\n",
      "117/117 [==============================] - 16s 134ms/step - loss: 0.8276 - acc: 0.6950 - val_loss: 0.6992 - val_acc: 0.7504\n",
      "Epoch 40/100\n",
      "117/117 [==============================] - 16s 139ms/step - loss: 0.8251 - acc: 0.6956 - val_loss: 0.7056 - val_acc: 0.7504\n",
      "Epoch 41/100\n",
      "117/117 [==============================] - 16s 133ms/step - loss: 0.8183 - acc: 0.7035 - val_loss: 0.6885 - val_acc: 0.7533\n",
      "Epoch 42/100\n",
      "117/117 [==============================] - 16s 137ms/step - loss: 0.8219 - acc: 0.7006 - val_loss: 0.7426 - val_acc: 0.7337\n",
      "Epoch 43/100\n",
      "117/117 [==============================] - 16s 137ms/step - loss: 0.8218 - acc: 0.6958 - val_loss: 0.6539 - val_acc: 0.7633\n",
      "Epoch 44/100\n",
      "117/117 [==============================] - 16s 137ms/step - loss: 0.8153 - acc: 0.7077 - val_loss: 0.7270 - val_acc: 0.7342\n",
      "Epoch 45/100\n",
      "117/117 [==============================] - 16s 133ms/step - loss: 0.8293 - acc: 0.6990 - val_loss: 0.7155 - val_acc: 0.7437\n",
      "Epoch 46/100\n",
      "117/117 [==============================] - 15s 132ms/step - loss: 0.8056 - acc: 0.7074 - val_loss: 0.6664 - val_acc: 0.7600\n",
      "Epoch 47/100\n",
      "117/117 [==============================] - 15s 132ms/step - loss: 0.8178 - acc: 0.6999 - val_loss: 0.7117 - val_acc: 0.7450\n",
      "Epoch 48/100\n",
      "117/117 [==============================] - 16s 134ms/step - loss: 0.8143 - acc: 0.7061 - val_loss: 0.7118 - val_acc: 0.7387\n",
      "Epoch 49/100\n",
      "117/117 [==============================] - 16s 136ms/step - loss: 0.8156 - acc: 0.7073 - val_loss: 0.6830 - val_acc: 0.7525\n",
      "Epoch 50/100\n",
      "117/117 [==============================] - 16s 133ms/step - loss: 0.8153 - acc: 0.6998 - val_loss: 0.7057 - val_acc: 0.7508\n",
      "Epoch 51/100\n",
      "117/117 [==============================] - 16s 133ms/step - loss: 0.7968 - acc: 0.7091 - val_loss: 0.7079 - val_acc: 0.7446\n",
      "Epoch 52/100\n",
      "117/117 [==============================] - 15s 132ms/step - loss: 0.8118 - acc: 0.7039 - val_loss: 0.7003 - val_acc: 0.7529\n",
      "Epoch 53/100\n",
      "117/117 [==============================] - 16s 140ms/step - loss: 0.8026 - acc: 0.7089 - val_loss: 0.6801 - val_acc: 0.7529\n",
      "Epoch 54/100\n",
      "117/117 [==============================] - 16s 135ms/step - loss: 0.8028 - acc: 0.7094 - val_loss: 0.6542 - val_acc: 0.7671\n",
      "Epoch 55/100\n",
      "117/117 [==============================] - 16s 136ms/step - loss: 0.7970 - acc: 0.7089 - val_loss: 0.6959 - val_acc: 0.7567\n",
      "Epoch 56/100\n",
      "117/117 [==============================] - 16s 140ms/step - loss: 0.7975 - acc: 0.7058 - val_loss: 0.6993 - val_acc: 0.7542\n",
      "Epoch 57/100\n",
      "117/117 [==============================] - 16s 134ms/step - loss: 0.7884 - acc: 0.7151 - val_loss: 0.6558 - val_acc: 0.7696\n",
      "Epoch 58/100\n",
      "117/117 [==============================] - 16s 140ms/step - loss: 0.7888 - acc: 0.7136 - val_loss: 0.6943 - val_acc: 0.7425\n",
      "Epoch 59/100\n",
      "117/117 [==============================] - 16s 133ms/step - loss: 0.8049 - acc: 0.7062 - val_loss: 0.6815 - val_acc: 0.7575\n",
      "Epoch 60/100\n",
      "117/117 [==============================] - 16s 133ms/step - loss: 0.7841 - acc: 0.7119 - val_loss: 0.6797 - val_acc: 0.7642\n"
     ]
    },
    {
     "name": "stdout",
     "output_type": "stream",
     "text": [
      "Epoch 61/100\n",
      "117/117 [==============================] - 15s 132ms/step - loss: 0.7876 - acc: 0.7147 - val_loss: 0.6999 - val_acc: 0.7525\n",
      "Epoch 62/100\n",
      "117/117 [==============================] - 15s 132ms/step - loss: 0.7836 - acc: 0.7163 - val_loss: 0.7144 - val_acc: 0.7429\n",
      "Epoch 63/100\n",
      "117/117 [==============================] - 16s 135ms/step - loss: 0.7886 - acc: 0.7109 - val_loss: 0.7164 - val_acc: 0.7475\n",
      "Epoch 64/100\n",
      "117/117 [==============================] - 16s 134ms/step - loss: 0.7804 - acc: 0.7182 - val_loss: 0.6807 - val_acc: 0.7583\n",
      "Epoch 65/100\n",
      "117/117 [==============================] - 16s 138ms/step - loss: 0.7869 - acc: 0.7119 - val_loss: 0.6874 - val_acc: 0.7483\n",
      "Epoch 66/100\n",
      "117/117 [==============================] - 16s 138ms/step - loss: 0.7752 - acc: 0.7188 - val_loss: 0.6967 - val_acc: 0.7571\n",
      "Epoch 67/100\n",
      "117/117 [==============================] - 16s 136ms/step - loss: 0.7910 - acc: 0.7113 - val_loss: 0.6457 - val_acc: 0.7725\n",
      "Epoch 68/100\n",
      "117/117 [==============================] - 16s 133ms/step - loss: 0.7731 - acc: 0.7186 - val_loss: 0.7264 - val_acc: 0.7358\n",
      "Epoch 69/100\n",
      "117/117 [==============================] - 16s 133ms/step - loss: 0.7784 - acc: 0.7147 - val_loss: 0.6712 - val_acc: 0.7588\n",
      "Epoch 70/100\n",
      "117/117 [==============================] - 16s 134ms/step - loss: 0.7866 - acc: 0.7145 - val_loss: 0.6861 - val_acc: 0.7517\n",
      "Epoch 71/100\n",
      "117/117 [==============================] - 16s 133ms/step - loss: 0.7840 - acc: 0.7197 - val_loss: 0.7077 - val_acc: 0.7513\n",
      "Epoch 72/100\n",
      "117/117 [==============================] - 16s 134ms/step - loss: 0.7726 - acc: 0.7228 - val_loss: 0.6474 - val_acc: 0.7704\n",
      "Epoch 73/100\n",
      "117/117 [==============================] - 16s 134ms/step - loss: 0.7774 - acc: 0.7122 - val_loss: 0.6632 - val_acc: 0.7658\n",
      "Epoch 74/100\n",
      "117/117 [==============================] - 15s 132ms/step - loss: 0.7757 - acc: 0.7160 - val_loss: 0.6696 - val_acc: 0.7608\n",
      "Epoch 75/100\n",
      "117/117 [==============================] - 17s 142ms/step - loss: 0.7742 - acc: 0.7134 - val_loss: 0.6477 - val_acc: 0.7646\n",
      "Epoch 76/100\n",
      "117/117 [==============================] - 17s 141ms/step - loss: 0.7810 - acc: 0.7105 - val_loss: 0.7213 - val_acc: 0.7400\n",
      "Epoch 77/100\n",
      "117/117 [==============================] - 16s 137ms/step - loss: 0.7622 - acc: 0.7199 - val_loss: 0.6701 - val_acc: 0.7633\n",
      "Epoch 78/100\n",
      "117/117 [==============================] - 16s 135ms/step - loss: 0.7677 - acc: 0.7234 - val_loss: 0.7219 - val_acc: 0.7379\n",
      "Epoch 79/100\n",
      "117/117 [==============================] - 16s 137ms/step - loss: 0.7567 - acc: 0.7237 - val_loss: 0.6492 - val_acc: 0.7679\n",
      "Epoch 80/100\n",
      "117/117 [==============================] - 16s 134ms/step - loss: 0.7728 - acc: 0.7173 - val_loss: 0.6722 - val_acc: 0.7558\n",
      "Epoch 81/100\n",
      "117/117 [==============================] - 16s 135ms/step - loss: 0.7569 - acc: 0.7240 - val_loss: 0.6522 - val_acc: 0.7704\n",
      "Epoch 82/100\n",
      "117/117 [==============================] - 15s 132ms/step - loss: 0.7672 - acc: 0.7186 - val_loss: 0.6543 - val_acc: 0.7771\n",
      "Epoch 83/100\n",
      "117/117 [==============================] - 16s 138ms/step - loss: 0.7611 - acc: 0.7195 - val_loss: 0.6331 - val_acc: 0.7783\n",
      "Epoch 84/100\n",
      "117/117 [==============================] - 17s 142ms/step - loss: 0.7576 - acc: 0.7231 - val_loss: 0.6773 - val_acc: 0.7646\n",
      "Epoch 85/100\n",
      "117/117 [==============================] - 16s 133ms/step - loss: 0.7557 - acc: 0.7238 - val_loss: 0.6602 - val_acc: 0.7738\n",
      "Epoch 86/100\n",
      "117/117 [==============================] - 15s 132ms/step - loss: 0.7590 - acc: 0.7204 - val_loss: 0.6730 - val_acc: 0.7642\n",
      "Epoch 87/100\n",
      "117/117 [==============================] - 16s 134ms/step - loss: 0.7514 - acc: 0.7251 - val_loss: 0.7221 - val_acc: 0.7379\n",
      "Epoch 88/100\n",
      "117/117 [==============================] - 15s 131ms/step - loss: 0.7590 - acc: 0.7226 - val_loss: 0.7219 - val_acc: 0.7458\n",
      "Epoch 89/100\n",
      "117/117 [==============================] - 15s 132ms/step - loss: 0.7621 - acc: 0.7245 - val_loss: 0.6663 - val_acc: 0.7667\n",
      "Epoch 90/100\n",
      "117/117 [==============================] - 16s 133ms/step - loss: 0.7440 - acc: 0.7287 - val_loss: 0.6540 - val_acc: 0.7625\n",
      "Epoch 91/100\n",
      "117/117 [==============================] - 15s 132ms/step - loss: 0.7530 - acc: 0.7269 - val_loss: 0.6294 - val_acc: 0.7746\n",
      "Epoch 92/100\n",
      "117/117 [==============================] - 16s 133ms/step - loss: 0.7468 - acc: 0.7288 - val_loss: 0.6381 - val_acc: 0.7767\n",
      "Epoch 93/100\n",
      "117/117 [==============================] - 16s 133ms/step - loss: 0.7519 - acc: 0.7235 - val_loss: 0.6836 - val_acc: 0.7550\n",
      "Epoch 94/100\n",
      "117/117 [==============================] - 15s 131ms/step - loss: 0.7538 - acc: 0.7269 - val_loss: 0.6399 - val_acc: 0.7646\n",
      "Epoch 95/100\n",
      "117/117 [==============================] - 16s 133ms/step - loss: 0.7630 - acc: 0.7234 - val_loss: 0.6736 - val_acc: 0.7588\n",
      "Epoch 96/100\n",
      "117/117 [==============================] - 16s 133ms/step - loss: 0.7616 - acc: 0.7230 - val_loss: 0.6465 - val_acc: 0.7642\n",
      "Epoch 97/100\n",
      "117/117 [==============================] - 15s 130ms/step - loss: 0.7451 - acc: 0.7308 - val_loss: 0.6888 - val_acc: 0.7492\n",
      "Epoch 98/100\n",
      "117/117 [==============================] - 15s 132ms/step - loss: 0.7450 - acc: 0.7297 - val_loss: 0.6288 - val_acc: 0.7800\n",
      "Epoch 99/100\n",
      "117/117 [==============================] - 16s 133ms/step - loss: 0.7457 - acc: 0.7270 - val_loss: 0.6073 - val_acc: 0.7908\n",
      "Epoch 100/100\n",
      "117/117 [==============================] - 15s 132ms/step - loss: 0.7530 - acc: 0.7223 - val_loss: 0.6359 - val_acc: 0.7733\n"
     ]
    }
   ],
   "source": [
    "with tf.device('/CPU:0'):\n",
    "    history = model.fit(\n",
    "        train_generator,\n",
    "        steps_per_epoch=len(train_generator),\n",
    "        epochs = 100,\n",
    "        validation_data = validation_generator,\n",
    "        validation_steps = len(validation_generator)\n",
    "    )"
   ]
  },
  {
   "cell_type": "code",
   "execution_count": 12,
   "id": "046e82bb",
   "metadata": {},
   "outputs": [
    {
     "name": "stdout",
     "output_type": "stream",
     "text": [
      "30/30 [==============================] - 3s 90ms/step - loss: 0.6546 - acc: 0.7637\n"
     ]
    }
   ],
   "source": [
    "with tf.device('/CPU:0'):\n",
    "    test_eval = model.evaluate(test_generator)"
   ]
  },
  {
   "cell_type": "code",
   "execution_count": 28,
   "id": "d08c85e8",
   "metadata": {},
   "outputs": [],
   "source": [
    "import matplotlib.pyplot as plt"
   ]
  },
  {
   "cell_type": "code",
   "execution_count": 31,
   "id": "71aa87c6",
   "metadata": {},
   "outputs": [],
   "source": [
    "epochs = range(1,len(history.history['acc'])+1)"
   ]
  },
  {
   "cell_type": "code",
   "execution_count": 32,
   "id": "f47c554c",
   "metadata": {},
   "outputs": [
    {
     "data": {
      "image/png": "[encoded data removed]",
      "text/plain": [
       "<Figure size 640x480 with 2 Axes>"
      ]
     },
     "metadata": {},
     "output_type": "display_data"
    }
   ],
   "source": [
    "plt.subplot(211)\n",
    "plt.plot(epochs, history.history['acc'], 'bo', label = 'Training Acc')\n",
    "plt.plot(epochs, history.history['val_acc'], 'b', label = 'Validation Acc')\n",
    "plt.legend()\n",
    "\n",
    "plt.subplot(212)\n",
    "plt.plot(epochs, history.history['loss'], 'bo', label = 'Training Loss')\n",
    "plt.plot(epochs, history.history['val_loss'], 'b', label = 'Validation Loss')\n",
    "plt.legend()\n",
    "\n",
    "plt.show()"
   ]
  },
  {
   "cell_type": "code",
   "execution_count": 14,
   "id": "53f55702",
   "metadata": {},
   "outputs": [],
   "source": [
    "pred_folder ='C:/pytest_img/seg_pred/'\n",
    "files = [f for f in os.listdir(pred_folder) if os.path.isfile(os.path.join(pred_folder, f))]"
   ]
  },
  {
   "cell_type": "code",
   "execution_count": 16,
   "id": "03e4a634",
   "metadata": {},
   "outputs": [],
   "source": [
    "dataset = np.ndarray(shape = (len(files), 20,20,3), dtype = np.int32)"
   ]
  },
  {
   "cell_type": "code",
   "execution_count": 22,
   "id": "036c5479",
   "metadata": {},
   "outputs": [
    {
     "name": "stderr",
     "output_type": "stream",
     "text": [
      "7301it [00:06, 1143.79it/s]\n"
     ]
    }
   ],
   "source": [
    "from PIL import Image\n",
    "from tensorflow.keras.preprocessing.image import array_to_img, img_to_array, load_img\n",
    "from tqdm import tqdm\n",
    "for count, item in tqdm(enumerate(files)):\n",
    "    img = load_img(pred_folder+files[count])\n",
    "    img = img.resize((20,20))\n",
    "    img_array = img_to_array(img)\n",
    "    dataset[count] = img_array"
   ]
  },
  {
   "cell_type": "code",
   "execution_count": 23,
   "id": "a3384a41",
   "metadata": {},
   "outputs": [
    {
     "name": "stdout",
     "output_type": "stream",
     "text": [
      "229/229 [==============================] - 1s 5ms/step\n"
     ]
    }
   ],
   "source": [
    "with tf.device('/CPU:0'):\n",
    "    prediction = model.predict(dataset)"
   ]
  },
  {
   "cell_type": "code",
   "execution_count": 24,
   "id": "961c1aec",
   "metadata": {},
   "outputs": [
    {
     "data": {
      "text/plain": [
       "array([[0., 0., 0., 0., 0., 1.],\n",
       "       [1., 0., 0., 0., 0., 0.],\n",
       "       [0., 0., 0., 0., 0., 1.],\n",
       "       ...,\n",
       "       [1., 0., 0., 0., 0., 0.],\n",
       "       [1., 0., 0., 0., 0., 0.],\n",
       "       [1., 0., 0., 0., 0., 0.]], dtype=float32)"
      ]
     },
     "execution_count": 24,
     "metadata": {},
     "output_type": "execute_result"
    }
   ],
   "source": [
    "prediction"
   ]
  },
  {
   "cell_type": "code",
   "execution_count": 25,
   "id": "195af65a",
   "metadata": {},
   "outputs": [],
   "source": [
    "folder = 'C:/pytest_img/'"
   ]
  },
  {
   "cell_type": "code",
   "execution_count": 26,
   "id": "e7d6c66e",
   "metadata": {},
   "outputs": [],
   "source": [
    "if not os.path.exists(os.path.join(folder, 'seg_new/')):\n",
    "    os.makedirs(os.path.join(folder, 'seg_new/'))"
   ]
  },
  {
   "cell_type": "code",
   "execution_count": 42,
   "id": "698190ad",
   "metadata": {},
   "outputs": [],
   "source": [
    "classes = ['buildings','forest','glacier','mountain','sea','street']\n",
    "for i, word in enumerate(prediction):\n",
    "    img_original = load_img(pred_folder+files[i])\n",
    "    img_original.save(fp = os.path.join(folder,'seg_new/')+classes[word.argmax()]+files[i])"
   ]
  },
  {
   "cell_type": "code",
   "execution_count": 40,
   "id": "37fc4901",
   "metadata": {},
   "outputs": [
    {
     "data": {
      "text/plain": [
       "'10005.jpg'"
      ]
     },
     "execution_count": 40,
     "metadata": {},
     "output_type": "execute_result"
    }
   ],
   "source": [
    "files[1]"
   ]
  },
  {
   "cell_type": "code",
   "execution_count": null,
   "id": "75496b11",
   "metadata": {},
   "outputs": [],
   "source": []
  }
 ],
 "metadata": {
  "kernelspec": {
   "display_name": "Python 3 (ipykernel)",
   "language": "python",
   "name": "python3"
  },
  "language_info": {
   "codemirror_mode": {
    "name": "ipython",
    "version": 3
   },
   "file_extension": ".py",
   "mimetype": "text/x-python",
   "name": "python",
   "nbconvert_exporter": "python",
   "pygments_lexer": "ipython3",
   "version": "3.7.4"
  }
 },
 "nbformat": 4,
 "nbformat_minor": 5
}
