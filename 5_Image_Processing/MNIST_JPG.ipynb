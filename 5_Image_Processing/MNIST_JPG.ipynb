{
 "cells": [
  {
   "cell_type": "code",
   "execution_count": 1,
   "id": "9448dc20",
   "metadata": {},
   "outputs": [],
   "source": [
    "import os\n",
    "path = \"C:/pytest_img/\"\n",
    "os.chdir(path)"
   ]
  },
  {
   "cell_type": "code",
   "execution_count": 2,
   "id": "8e28429c",
   "metadata": {},
   "outputs": [],
   "source": [
    "import sys\n",
    "from IPython.display import display\n",
    "from IPython.display import Image as _Imgdis\n",
    "from PIL import Image\n",
    "import numpy as np\n",
    "import tensorflow as tf"
   ]
  },
  {
   "cell_type": "code",
   "execution_count": 3,
   "id": "12541b62",
   "metadata": {},
   "outputs": [
    {
     "name": "stdout",
     "output_type": "stream",
     "text": [
      "60000\n"
     ]
    }
   ],
   "source": [
    "folder = 'C:/pytest_img/mnist_jpg/'\n",
    "files = [f for f in os.listdir(folder) if os.path.isfile(os.path.join(folder, f))]\n",
    "print(len(files))"
   ]
  },
  {
   "cell_type": "code",
   "execution_count": 4,
   "id": "e8f127a7",
   "metadata": {},
   "outputs": [
    {
     "name": "stdout",
     "output_type": "stream",
     "text": [
      "img_0_ (1).jpg\n"
     ]
    },
    {
     "data": {
      "image/jpeg": "[encoded data removed]",
      "text/plain": [
       "<IPython.core.display.Image object>"
      ]
     },
     "metadata": {
      "image/jpeg": {
       "height": 40,
       "width": 30
      }
     },
     "output_type": "display_data"
    },
    {
     "name": "stdout",
     "output_type": "stream",
     "text": [
      "img_0_ (10).jpg\n"
     ]
    },
    {
     "data": {
      "image/jpeg": "[encoded data removed]",
      "text/plain": [
       "<IPython.core.display.Image object>"
      ]
     },
     "metadata": {
      "image/jpeg": {
       "height": 40,
       "width": 30
      }
     },
     "output_type": "display_data"
    }
   ],
   "source": [
    "for i in range(0,2):\n",
    "    print(files[i])\n",
    "    display(_Imgdis(filename= folder+files[i], width = 30, height = 40))"
   ]
  },
  {
   "cell_type": "code",
   "execution_count": 5,
   "id": "f6d3d81b",
   "metadata": {},
   "outputs": [
    {
     "name": "stdout",
     "output_type": "stream",
     "text": [
      "60000\n"
     ]
    }
   ],
   "source": [
    "from tensorflow.keras.preprocessing.image import array_to_img, img_to_array, load_img\n",
    "file_names = []\n",
    "file_labels = []\n",
    "\n",
    "for _file in files:\n",
    "    file_names.append(_file)\n",
    "    label_start = _file.find(\"_\") +1\n",
    "    label_end = _file.find(\"_ (\")\n",
    "    file_labels.append(int(_file[label_start:label_end]))\n",
    "print(len(file_names))"
   ]
  },
  {
   "cell_type": "code",
   "execution_count": 6,
   "id": "a93f9260",
   "metadata": {},
   "outputs": [
    {
     "name": "stdout",
     "output_type": "stream",
     "text": [
      "Orginal :  <class 'PIL.Image.Image'>\n",
      "<class 'numpy.ndarray'>\n",
      "float32\n",
      "(28, 28, 3)\n"
     ]
    }
   ],
   "source": [
    "os.chdir('C:/pytest_img/mnist_jpg')\n",
    "# 한 개 파일 로드\n",
    "img = load_img(file_names[0])\n",
    "print(\"Orginal : \", type(img))\n",
    "# PIL 파일을 넘파이 배열로 변환\n",
    "img_array = img_to_array(img)\n",
    "print(type(img_array), img_array.dtype,img_array.shape, sep = '\\n')"
   ]
  },
  {
   "cell_type": "code",
   "execution_count": 7,
   "id": "4e7de0e5",
   "metadata": {},
   "outputs": [],
   "source": [
    "# 이미지의 shape 확인\n",
    "image_height = img_array.shape[0]\n",
    "image_width = img_array.shape[1]\n",
    "channels = img_array.shape[2]\n",
    "\n",
    "dataset = np.ndarray(shape=(len(file_names), image_height, image_width, channels), dtype = np.int32)"
   ]
  },
  {
   "cell_type": "code",
   "execution_count": 8,
   "id": "afd03585",
   "metadata": {},
   "outputs": [
    {
     "data": {
      "text/plain": [
       "(60000, 28, 28, 3)"
      ]
     },
     "execution_count": 8,
     "metadata": {},
     "output_type": "execute_result"
    }
   ],
   "source": [
    "dataset.shape"
   ]
  },
  {
   "cell_type": "code",
   "execution_count": 9,
   "id": "9be7d078",
   "metadata": {},
   "outputs": [
    {
     "name": "stdout",
     "output_type": "stream",
     "text": [
      "0\n",
      "5000\n",
      "10000\n",
      "15000\n",
      "20000\n",
      "25000\n",
      "30000\n",
      "35000\n",
      "40000\n",
      "45000\n",
      "50000\n",
      "55000\n",
      "END\n"
     ]
    }
   ],
   "source": [
    "# 모든 파일을 넘파이 배열로 변환\n",
    "for count, item in enumerate(file_names):\n",
    "    img = load_img(file_names[count])\n",
    "    img_array = img_to_array(img)\n",
    "    img_array = img_array.reshape((28,28,3))\n",
    "    dataset[count] = img_array\n",
    "    if count % 5000 == 0:\n",
    "        print(count)\n",
    "print('END')"
   ]
  },
  {
   "cell_type": "code",
   "execution_count": 10,
   "id": "bb52fadf",
   "metadata": {},
   "outputs": [
    {
     "name": "stdout",
     "output_type": "stream",
     "text": [
      "8\n"
     ]
    }
   ],
   "source": [
    "print(file_labels[50000])"
   ]
  },
  {
   "cell_type": "code",
   "execution_count": 11,
   "id": "813b62dc",
   "metadata": {},
   "outputs": [
    {
     "data": {
      "image/jpeg": "[encoded data removed]",
      "text/plain": [
       "<IPython.core.display.Image object>"
      ]
     },
     "metadata": {
      "image/jpeg": {
       "height": 40,
       "width": 30
      }
     },
     "output_type": "display_data"
    }
   ],
   "source": [
    "display(_Imgdis(filename= folder + files[50000], width = 30, height = 40))"
   ]
  },
  {
   "cell_type": "code",
   "execution_count": 12,
   "id": "0981fd35",
   "metadata": {},
   "outputs": [
    {
     "name": "stdout",
     "output_type": "stream",
     "text": [
      "[[  0   0   0   0   0   0   0   0   0   7   3   0   6   8   0   3   0   0   0   0   0   0   0   0   0   0   0   0]\n",
      " [  0   0   0   0   0   0   0   0  18   0   0   8   2   0   3   0   0   0   0   0   0   0   0   0   0   0   0   0]\n",
      " [  0   0   0   0   0   0   0   0   0   4   4   0   0   6  14   0   0   0   0   0   0   0   0   0   0   0   0   0]\n",
      " [  0   0   0   0   0   0   0   0   0   0  11   2  10   0   0   0   0   0   0   0   0   0   0   0   0   0   0   0]\n",
      " [  0   0   0   0   0   0   0   0   3   0   8   1   0  88 170  69   0   0   0   0   0   0   0   0   0   0   0   0]\n",
      " [  0   0   0   0   0   0   0   0   0  16   0   0  52 205 205   0   0   0   0   0   0   0   0   0   0   0   0   0]\n",
      " [  0   0   0   0   0   0   0   0   0  11   4 145 255 234 102   0   0   0   0   0   0   0   0   0   0   0   0   0]\n",
      " [  0   0   0   0   0   0   0   0   3   6  37 240 255 113   0   6   0   0   0   0   0   0   0   0   0   0   0   0]\n",
      " [  0   0   0   0   0   0   0   0   0   7 212 255 137  11   7  12   0  10   0   1   0   7   3   4   0   0   0   0]\n",
      " [  0   0   0   0   0   0   0   0  12  92 252 239  26  89 194 226 180 106  50   0   5   0   0   0   0   0   0   0]\n",
      " [  0   0   0   0   0   0   0   0   0 140 255  87  81 246 252 255 249 255 215  41   0  17   2  10   0   0   0   0]\n",
      " [  0   0   0   0   0   0   0   0   0 181 244  89 185 244 206  77  91  91 192 175   5   0   6   0   0   0   0   0]\n",
      " [  0   0   0   0   0   0   0   0  11  80 244 255 241 255 155   0   0   0  14  37   0   0   8   4   0   0   0   0]\n",
      " [  0   0   0   0   0   0   0   0   0   1  31 175 255 239 255 255 173  71  12  11  16   0   9   0   0   0   0   0]\n",
      " [  0   0   0   0   0   0   0   0   0   9   7  23 255 162 106 239 240 255 178  11   0   2   1   0   0   0   0   0]\n",
      " [  0   0   0   0   0   0   0   0   0   0   5   0 255 138   5   4 134 226 255 139   0   4   0   8   0   0   0   0]\n",
      " [  0   0   0   0   0   0   0   0   7   6   0  47 255 140   0   0   0  61 248 195   5   7   0   5   0   0   0   0]\n",
      " [  0   0   0   0   0   0   0   0   0   5   3  68 246 156   0   7   2   5 136 253  96   0   0  10   0   0   0   0]\n",
      " [  0   0   0   0   0   0   0   0   4   6   0  24 255 163  16   0   0   0 132 249  60   3  12   0   0   0   0   0]\n",
      " [  0   0   0   0   0   0   0   0   0   0  15  16 195 255  18  16   9   0 224 255  19   0   0   0   0   0   0   0]\n",
      " [  0   0   0   0   0   0   0   0   3   0   4   0 159 247 158   0   4  27 237 191   8   4   3   8   0   0   0   0]\n",
      " [  0   0   0   0   0   0   0   0  16   0   0   1  26 229 238  85   5 173 255 122   7   0   0   0   0   0   0   0]\n",
      " [  0   0   0   0   0   0   0   0   0   4  13  14   0  80 234 248 255 255 131   8   0   0   3   0   0   0   0   0]\n",
      " [  0   0   0   0   0   0   0   0  13   0   0   1   0  15  35 241 246 169  39   0   0   1   0   3   0   0   0   0]\n",
      " [  0   0   0   0   0   0   0   0   0   0   0   0   0   0   0   0   0   0   0   0   0   0   0   0   0   0   0   0]\n",
      " [  0   0   0   0   0   0   0   0   0   0   0   0   0   0   0   0   0   0   0   0   0   0   0   0   0   0   0   0]\n",
      " [  0   0   0   0   0   0   0   0   0   0   0   0   0   0   0   0   0   0   0   0   0   0   0   0   0   0   0   0]\n",
      " [  0   0   0   0   0   0   0   0   0   0   0   0   0   0   0   0   0   0   0   0   0   0   0   0   0   0   0   0]]\n"
     ]
    }
   ],
   "source": [
    "np.set_printoptions(linewidth=np.inf)\n",
    "print(dataset[50000,:,:,0])"
   ]
  },
  {
   "cell_type": "code",
   "execution_count": 13,
   "id": "ba0da966",
   "metadata": {},
   "outputs": [],
   "source": [
    "from sklearn.model_selection import train_test_split\n",
    "train_imgs, test_imgs, train_labels, test_labels = train_test_split(dataset, file_labels, test_size = 0.2)"
   ]
  },
  {
   "cell_type": "code",
   "execution_count": 14,
   "id": "6add34a0",
   "metadata": {},
   "outputs": [],
   "source": [
    "from keras import models\n",
    "from keras import layers\n",
    "model = models.Sequential()\n",
    "model.add(layers.Conv2D(32, kernel_size = (3,3), input_shape = (28,28,3), activation = 'relu'))\n",
    "model.add(layers.Conv2D(64, kernel_size = (3,3), activation = 'relu'))\n",
    "model.add(layers.MaxPooling2D(pool_size = 2))\n",
    "model.add(layers.Dropout(0.25))\n",
    "model.add(layers.Flatten())\n",
    "model.add(layers.Dense(128, activation = 'relu'))\n",
    "model.add(layers.Dropout(0.25))\n",
    "model.add(layers.Dense(10, activation = 'softmax'))"
   ]
  },
  {
   "cell_type": "code",
   "execution_count": 15,
   "id": "4203d044",
   "metadata": {},
   "outputs": [
    {
     "name": "stdout",
     "output_type": "stream",
     "text": [
      "Model: \"sequential\"\n",
      "_________________________________________________________________\n",
      " Layer (type)                Output Shape              Param #   \n",
      "=================================================================\n",
      " conv2d (Conv2D)             (None, 26, 26, 32)        896       \n",
      "                                                                 \n",
      " conv2d_1 (Conv2D)           (None, 24, 24, 64)        18496     \n",
      "                                                                 \n",
      " max_pooling2d (MaxPooling2D  (None, 12, 12, 64)       0         \n",
      " )                                                               \n",
      "                                                                 \n",
      " dropout (Dropout)           (None, 12, 12, 64)        0         \n",
      "                                                                 \n",
      " flatten (Flatten)           (None, 9216)              0         \n",
      "                                                                 \n",
      " dense (Dense)               (None, 128)               1179776   \n",
      "                                                                 \n",
      " dropout_1 (Dropout)         (None, 128)               0         \n",
      "                                                                 \n",
      " dense_1 (Dense)             (None, 10)                1290      \n",
      "                                                                 \n",
      "=================================================================\n",
      "Total params: 1,200,458\n",
      "Trainable params: 1,200,458\n",
      "Non-trainable params: 0\n",
      "_________________________________________________________________\n"
     ]
    }
   ],
   "source": [
    "model.summary()"
   ]
  },
  {
   "cell_type": "code",
   "execution_count": 16,
   "id": "20e4718d",
   "metadata": {},
   "outputs": [],
   "source": [
    "model.compile(loss= 'categorical_crossentropy', optimizer = 'rmsprop', metrics = ['acc'])"
   ]
  },
  {
   "cell_type": "code",
   "execution_count": 17,
   "id": "2e62014f",
   "metadata": {},
   "outputs": [],
   "source": [
    "train_imgs = train_imgs.reshape((len(train_imgs), 28, 28,3))\n",
    "train_imgs = train_imgs.astype('float32')/255\n",
    "\n",
    "test_imgs = test_imgs.reshape((len(test_imgs),28,28,3))\n",
    "test_imgs = test_imgs.astype('float32')/255"
   ]
  },
  {
   "cell_type": "code",
   "execution_count": 18,
   "id": "1a2902db",
   "metadata": {},
   "outputs": [],
   "source": [
    "from tensorflow.keras.utils import to_categorical\n",
    "train_labels = to_categorical(train_labels)\n",
    "test_labels = to_categorical(test_labels)"
   ]
  },
  {
   "cell_type": "code",
   "execution_count": 20,
   "id": "0884111d",
   "metadata": {},
   "outputs": [
    {
     "name": "stdout",
     "output_type": "stream",
     "text": [
      "Epoch 1/5\n",
      "375/375 [==============================] - 48s 127ms/step - loss: 0.1999 - acc: 0.9385 - val_loss: 0.0549 - val_acc: 0.9829\n",
      "Epoch 2/5\n",
      "375/375 [==============================] - 46s 122ms/step - loss: 0.0595 - acc: 0.9825 - val_loss: 0.0378 - val_acc: 0.9882\n",
      "Epoch 3/5\n",
      "375/375 [==============================] - 46s 123ms/step - loss: 0.0417 - acc: 0.9872 - val_loss: 0.0414 - val_acc: 0.9870\n",
      "Epoch 4/5\n",
      "375/375 [==============================] - 46s 123ms/step - loss: 0.0324 - acc: 0.9898 - val_loss: 0.0338 - val_acc: 0.9904\n",
      "Epoch 5/5\n",
      "375/375 [==============================] - 46s 124ms/step - loss: 0.0257 - acc: 0.9919 - val_loss: 0.0387 - val_acc: 0.9893\n"
     ]
    }
   ],
   "source": [
    "with tf.device('/CPU:0'):\n",
    "    history = model.fit(train_imgs, train_labels, epochs = 5, batch_size = 128, validation_data = (test_imgs, test_labels))"
   ]
  },
  {
   "cell_type": "code",
   "execution_count": 21,
   "id": "a811cc6d",
   "metadata": {},
   "outputs": [
    {
     "name": "stdout",
     "output_type": "stream",
     "text": [
      "375/375 [==============================] - 3s 8ms/step - loss: 0.0387 - acc: 0.9893\n"
     ]
    }
   ],
   "source": [
    "with tf.device('/CPU:0'):\n",
    "    model.evaluate(test_imgs, test_labels)"
   ]
  },
  {
   "cell_type": "code",
   "execution_count": 22,
   "id": "98fe8d9b",
   "metadata": {},
   "outputs": [],
   "source": [
    "import matplotlib.pyplot as plt"
   ]
  },
  {
   "cell_type": "code",
   "execution_count": 23,
   "id": "73494c24",
   "metadata": {},
   "outputs": [],
   "source": [
    "epochs = range(0,5)"
   ]
  },
  {
   "cell_type": "code",
   "execution_count": 27,
   "id": "719bb2dd",
   "metadata": {},
   "outputs": [
    {
     "data": {
      "image/png": "[encoded data removed]",
      "text/plain": [
       "<Figure size 640x480 with 2 Axes>"
      ]
     },
     "metadata": {},
     "output_type": "display_data"
    }
   ],
   "source": [
    "plt.subplot(121)\n",
    "plt.plot(epochs, history.history['acc'], 'bo', label = 'Training Acc')\n",
    "plt.plot(epochs, history.history['val_acc'],'b', label = 'Validation Acc')\n",
    "plt.title('Training and Validation Accuracy')\n",
    "plt.legend()\n",
    "plt.subplot(122)\n",
    "plt.plot(epochs, history.history['loss'], 'bo', label = 'Training Loss')\n",
    "plt.plot(epochs, history.history['val_loss'],'b', label = 'Validation Loss')\n",
    "plt.title('Training and Validation Loss')\n",
    "plt.legend()\n",
    "plt.show()"
   ]
  },
  {
   "cell_type": "code",
   "execution_count": null,
   "id": "3966449a",
   "metadata": {},
   "outputs": [],
   "source": []
  }
 ],
 "metadata": {
  "kernelspec": {
   "display_name": "Python 3 (ipykernel)",
   "language": "python",
   "name": "python3"
  },
  "language_info": {
   "codemirror_mode": {
    "name": "ipython",
    "version": 3
   },
   "file_extension": ".py",
   "mimetype": "text/x-python",
   "name": "python",
   "nbconvert_exporter": "python",
   "pygments_lexer": "ipython3",
   "version": "3.7.4"
  }
 },
 "nbformat": 4,
 "nbformat_minor": 5
}
