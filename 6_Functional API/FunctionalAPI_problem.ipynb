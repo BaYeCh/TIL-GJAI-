{
 "cells": [
  {
   "cell_type": "markdown",
   "id": "fc4cba52",
   "metadata": {},
   "source": [
    "# 연습문제\n",
    "1. 현재 데이터를 4D로 형변환 하세요. (모델의 시작은 Conv2D)\n",
    "2. _labels 값을 이용하여 홀수와 짝수 구분만 하는 동일한 순서의 배열을 생성하시오.\n",
    "3. _images 데이터를 입력으로 하고, 이미지와 홀짝 여부를 판별하는 모델을 만드시오.\n",
    "4. model.evaluate()함수를 사용하여 test_데이터를 평가하면 5개의 결과가 나오는데 각 수치가 무엇을 의미하는지 텐서플로 문서를 확인하여 파악하시오.\n",
    "5. 4D로 변환된 테스트 데이터 1개를 넣어 예측된 숫자와 홀짝 여부를 출력하시오. 이결과를 mnist다중출력 연습문제에 업로드하시오."
   ]
  },
  {
   "cell_type": "code",
   "execution_count": 1,
   "id": "66a81547",
   "metadata": {},
   "outputs": [],
   "source": [
    "from keras.datasets import mnist\n",
    "(train_images, train_labels), (test_images, test_labels) = mnist.load_data()"
   ]
  },
  {
   "cell_type": "code",
   "execution_count": 45,
   "id": "229b49b6",
   "metadata": {},
   "outputs": [],
   "source": [
    "# train_images_ed = np.expand_dims(train_images, axis = -1)"
   ]
  },
  {
   "cell_type": "code",
   "execution_count": 46,
   "id": "fbc84a4a",
   "metadata": {},
   "outputs": [],
   "source": [
    "# train_images_scaled = train_images_ed.astype('float32')/255"
   ]
  },
  {
   "cell_type": "code",
   "execution_count": 2,
   "id": "4ab524c9",
   "metadata": {},
   "outputs": [],
   "source": [
    "train_images_reshape = train_images.reshape((len(train_images),28,28,1))\n",
    "train_images_scaled = train_images_reshape.astype('float32')/255"
   ]
  },
  {
   "cell_type": "code",
   "execution_count": 3,
   "id": "a7ce2ca1",
   "metadata": {},
   "outputs": [],
   "source": [
    "test_images_reshape = test_images.reshape((len(test_images),28,28,1))\n",
    "test_images_scaled = test_images_reshape.astype('float32')/255"
   ]
  },
  {
   "cell_type": "code",
   "execution_count": 4,
   "id": "97460848",
   "metadata": {},
   "outputs": [],
   "source": [
    "train_labels_evenodd = train_labels % 2\n",
    "test_labels_evenodd = test_labels % 2"
   ]
  },
  {
   "cell_type": "code",
   "execution_count": 5,
   "id": "87cab3b0",
   "metadata": {},
   "outputs": [],
   "source": [
    "import numpy as np"
   ]
  },
  {
   "cell_type": "code",
   "execution_count": 6,
   "id": "410a3fb9",
   "metadata": {},
   "outputs": [],
   "source": [
    "train_labels_evenodd = np.array(train_labels_evenodd)\n",
    "test_labels_evenodd = np.array(test_labels_evenodd)"
   ]
  },
  {
   "cell_type": "code",
   "execution_count": 7,
   "id": "1c4d483c",
   "metadata": {},
   "outputs": [],
   "source": [
    "from keras import layers\n",
    "from keras import Input\n",
    "from keras.models import Model"
   ]
  },
  {
   "cell_type": "code",
   "execution_count": 8,
   "id": "04701ace",
   "metadata": {},
   "outputs": [],
   "source": [
    "images_input = Input(shape = (28,28,1), dtype = 'float32', name = 'images')\n",
    "x = layers.Conv2D(filters = 64, kernel_size = (3,3), activation = 'relu')(images_input)\n",
    "x = layers.Conv2D(filters = 128, kernel_size = (3,3),activation = 'relu')(x)\n",
    "x = layers.MaxPooling2D(pool_size = 2)(x)\n",
    "x = layers.Flatten()(x)\n",
    "x = layers.Dropout(0.4)(x)\n",
    "x = layers.Dense(128, activation = 'relu')(x)\n",
    "x = layers.Dropout(0.4)(x)"
   ]
  },
  {
   "cell_type": "code",
   "execution_count": 9,
   "id": "7bf016a6",
   "metadata": {},
   "outputs": [],
   "source": [
    "# images\n",
    "pred_images = layers.Dense(10, activation = 'softmax', name = 'number')(x)\n",
    "\n",
    "# evenodd\n",
    "pred_evenodd = layers.Dense(1,activation = 'sigmoid', name = 'evenodd')(x)"
   ]
  },
  {
   "cell_type": "code",
   "execution_count": 10,
   "id": "d6e5ce3f",
   "metadata": {},
   "outputs": [],
   "source": [
    "model = Model(images_input, [pred_images, pred_evenodd])"
   ]
  },
  {
   "cell_type": "code",
   "execution_count": 11,
   "id": "b6e6a83b",
   "metadata": {},
   "outputs": [],
   "source": [
    "model.compile(optimizer = 'adam',\n",
    "             loss = {'number':'sparse_categorical_crossentropy',\n",
    "                     'evenodd': 'binary_crossentropy'},\n",
    "             metrics = ['acc'])"
   ]
  },
  {
   "cell_type": "code",
   "execution_count": 12,
   "id": "7069a094",
   "metadata": {},
   "outputs": [],
   "source": [
    "import tensorflow as tf"
   ]
  },
  {
   "cell_type": "code",
   "execution_count": 13,
   "id": "1f2fae59",
   "metadata": {},
   "outputs": [
    {
     "name": "stdout",
     "output_type": "stream",
     "text": [
      "Model: \"model\"\n",
      "__________________________________________________________________________________________________\n",
      " Layer (type)                   Output Shape         Param #     Connected to                     \n",
      "==================================================================================================\n",
      " images (InputLayer)            [(None, 28, 28, 1)]  0           []                               \n",
      "                                                                                                  \n",
      " conv2d (Conv2D)                (None, 26, 26, 64)   640         ['images[0][0]']                 \n",
      "                                                                                                  \n",
      " conv2d_1 (Conv2D)              (None, 24, 24, 128)  73856       ['conv2d[0][0]']                 \n",
      "                                                                                                  \n",
      " max_pooling2d (MaxPooling2D)   (None, 12, 12, 128)  0           ['conv2d_1[0][0]']               \n",
      "                                                                                                  \n",
      " flatten (Flatten)              (None, 18432)        0           ['max_pooling2d[0][0]']          \n",
      "                                                                                                  \n",
      " dropout (Dropout)              (None, 18432)        0           ['flatten[0][0]']                \n",
      "                                                                                                  \n",
      " dense (Dense)                  (None, 128)          2359424     ['dropout[0][0]']                \n",
      "                                                                                                  \n",
      " dropout_1 (Dropout)            (None, 128)          0           ['dense[0][0]']                  \n",
      "                                                                                                  \n",
      " number (Dense)                 (None, 10)           1290        ['dropout_1[0][0]']              \n",
      "                                                                                                  \n",
      " evenodd (Dense)                (None, 1)            129         ['dropout_1[0][0]']              \n",
      "                                                                                                  \n",
      "==================================================================================================\n",
      "Total params: 2,435,339\n",
      "Trainable params: 2,435,339\n",
      "Non-trainable params: 0\n",
      "__________________________________________________________________________________________________\n"
     ]
    }
   ],
   "source": [
    "model.summary()"
   ]
  },
  {
   "cell_type": "code",
   "execution_count": 14,
   "id": "68bb02c9",
   "metadata": {},
   "outputs": [
    {
     "name": "stdout",
     "output_type": "stream",
     "text": [
      "Epoch 1/5\n",
      "1875/1875 [==============================] - 140s 75ms/step - loss: 0.2505 - number_loss: 0.1729 - evenodd_loss: 0.0776 - number_acc: 0.9485 - evenodd_acc: 0.9716\n",
      "Epoch 2/5\n",
      "1875/1875 [==============================] - 139s 74ms/step - loss: 0.1091 - number_loss: 0.0743 - evenodd_loss: 0.0348 - number_acc: 0.9784 - evenodd_acc: 0.9882\n",
      "Epoch 3/5\n",
      "1875/1875 [==============================] - 140s 75ms/step - loss: 0.0847 - number_loss: 0.0579 - evenodd_loss: 0.0267 - number_acc: 0.9828 - evenodd_acc: 0.9908\n",
      "Epoch 4/5\n",
      "1875/1875 [==============================] - 139s 74ms/step - loss: 0.0676 - number_loss: 0.0459 - evenodd_loss: 0.0218 - number_acc: 0.9862 - evenodd_acc: 0.9928\n",
      "Epoch 5/5\n",
      "1875/1875 [==============================] - 139s 74ms/step - loss: 0.0591 - number_loss: 0.0410 - evenodd_loss: 0.0181 - number_acc: 0.9879 - evenodd_acc: 0.9941\n"
     ]
    }
   ],
   "source": [
    "with tf.device('/CPU:0'):\n",
    "    model.fit(train_images_scaled, [train_labels,train_labels_evenodd], epochs = 5, batch_size = 32)"
   ]
  },
  {
   "cell_type": "code",
   "execution_count": 15,
   "id": "465835cb",
   "metadata": {},
   "outputs": [
    {
     "name": "stdout",
     "output_type": "stream",
     "text": [
      "313/313 [==============================] - 5s 16ms/step - loss: 0.0414 - number_loss: 0.0283 - evenodd_loss: 0.0132 - number_acc: 0.9914 - evenodd_acc: 0.9955\n"
     ]
    }
   ],
   "source": [
    "with tf.device('/CPU:0'):\n",
    "    model_eval = model.evaluate(test_images_scaled, [test_labels, test_labels_evenodd])"
   ]
  },
  {
   "cell_type": "code",
   "execution_count": 16,
   "id": "78d6c72f",
   "metadata": {},
   "outputs": [],
   "source": [
    "import pandas as pd"
   ]
  },
  {
   "cell_type": "code",
   "execution_count": 17,
   "id": "db75082d",
   "metadata": {},
   "outputs": [],
   "source": [
    "eval_df = pd.DataFrame(model_eval).T\n",
    "eval_df.columns = ['loss','number_loss','even/odd_loss','number_acc','even/odd_acc']"
   ]
  },
  {
   "cell_type": "code",
   "execution_count": 18,
   "id": "98d06a99",
   "metadata": {},
   "outputs": [
    {
     "data": {
      "text/html": [
       "<div>\n",
       "<style scoped>\n",
       "    .dataframe tbody tr th:only-of-type {\n",
       "        vertical-align: middle;\n",
       "    }\n",
       "\n",
       "    .dataframe tbody tr th {\n",
       "        vertical-align: top;\n",
       "    }\n",
       "\n",
       "    .dataframe thead th {\n",
       "        text-align: right;\n",
       "    }\n",
       "</style>\n",
       "<table border=\"1\" class=\"dataframe\">\n",
       "  <thead>\n",
       "    <tr style=\"text-align: right;\">\n",
       "      <th></th>\n",
       "      <th>loss</th>\n",
       "      <th>number_loss</th>\n",
       "      <th>even/odd_loss</th>\n",
       "      <th>number_acc</th>\n",
       "      <th>even/odd_acc</th>\n",
       "    </tr>\n",
       "  </thead>\n",
       "  <tbody>\n",
       "    <tr>\n",
       "      <th>0</th>\n",
       "      <td>0.041446</td>\n",
       "      <td>0.028254</td>\n",
       "      <td>0.013192</td>\n",
       "      <td>0.9914</td>\n",
       "      <td>0.9955</td>\n",
       "    </tr>\n",
       "  </tbody>\n",
       "</table>\n",
       "</div>"
      ],
      "text/plain": [
       "       loss  number_loss  even/odd_loss  number_acc  even/odd_acc\n",
       "0  0.041446     0.028254       0.013192      0.9914        0.9955"
      ]
     },
     "execution_count": 18,
     "metadata": {},
     "output_type": "execute_result"
    }
   ],
   "source": [
    "eval_df"
   ]
  },
  {
   "cell_type": "code",
   "execution_count": 47,
   "id": "b9f5dd6f",
   "metadata": {},
   "outputs": [],
   "source": [
    "test_images_1 = test_images_scaled[2500].reshape((-1,28,28,1))"
   ]
  },
  {
   "cell_type": "code",
   "execution_count": 48,
   "id": "ee033e1c",
   "metadata": {},
   "outputs": [
    {
     "name": "stdout",
     "output_type": "stream",
     "text": [
      "1/1 [==============================] - 0s 27ms/step\n"
     ]
    }
   ],
   "source": [
    "with tf.device('/CPU:0'):\n",
    "    prediction = model.predict(test_images_1)"
   ]
  },
  {
   "cell_type": "code",
   "execution_count": 49,
   "id": "94288fc5",
   "metadata": {},
   "outputs": [],
   "source": [
    "import matplotlib.pyplot as plt"
   ]
  },
  {
   "cell_type": "code",
   "execution_count": 50,
   "id": "094a0c81",
   "metadata": {},
   "outputs": [
    {
     "name": "stdout",
     "output_type": "stream",
     "text": [
      "test 1개 예측 결과 : 2, 홀수\n"
     ]
    },
    {
     "data": {
      "image/png": "[encoded data removed]",
      "text/plain": [
       "<Figure size 640x480 with 1 Axes>"
      ]
     },
     "metadata": {},
     "output_type": "display_data"
    }
   ],
   "source": [
    "plt.imshow(test_images[2500])\n",
    "even_odd = ''\n",
    "if prediction[1] == 0:\n",
    "    even_odd = '짝수'\n",
    "else:\n",
    "    even_odd = '홀수'\n",
    "print('test 1개 예측 결과 : {}, {}'.format(np.argmax(prediction[0]), even_odd))"
   ]
  },
  {
   "cell_type": "code",
   "execution_count": 23,
   "id": "3f0cb3fe",
   "metadata": {},
   "outputs": [
    {
     "data": {
      "text/plain": [
       "array([[0., 0., 0., 0., 0., 0., 0., 1., 0., 0.]], dtype=float32)"
      ]
     },
     "execution_count": 23,
     "metadata": {},
     "output_type": "execute_result"
    }
   ],
   "source": [
    "np.round(prediction[0],3)"
   ]
  },
  {
   "cell_type": "code",
   "execution_count": null,
   "id": "cfef36fb",
   "metadata": {},
   "outputs": [],
   "source": []
  }
 ],
 "metadata": {
  "kernelspec": {
   "display_name": "Python 3 (ipykernel)",
   "language": "python",
   "name": "python3"
  },
  "language_info": {
   "codemirror_mode": {
    "name": "ipython",
    "version": 3
   },
   "file_extension": ".py",
   "mimetype": "text/x-python",
   "name": "python",
   "nbconvert_exporter": "python",
   "pygments_lexer": "ipython3",
   "version": "3.7.4"
  }
 },
 "nbformat": 4,
 "nbformat_minor": 5
}
