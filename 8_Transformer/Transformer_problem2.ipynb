{
 "cells": [
  {
   "cell_type": "code",
   "execution_count": 1,
   "id": "7ed4e4da",
   "metadata": {},
   "outputs": [],
   "source": [
    "import os\n",
    "path = \"C:/pytest/\"\n",
    "os.chdir(path)"
   ]
  },
  {
   "cell_type": "code",
   "execution_count": 2,
   "id": "4e3ce429",
   "metadata": {},
   "outputs": [],
   "source": [
    "import numpy as np\n",
    "import pandas as pd\n",
    "import tensorflow as tf"
   ]
  },
  {
   "cell_type": "code",
   "execution_count": 3,
   "id": "58309ccd",
   "metadata": {},
   "outputs": [],
   "source": [
    "sent_part1 = pd.read_excel('./감성대화말뭉치/감성대화말뭉치(최종데이터)_Training.xlsx')"
   ]
  },
  {
   "cell_type": "code",
   "execution_count": 4,
   "id": "6b0f985e",
   "metadata": {},
   "outputs": [],
   "source": [
    "sent_part2 = pd.read_excel('./감성대화말뭉치/감성대화말뭉치(최종데이터)_Validation.xlsx')"
   ]
  },
  {
   "cell_type": "code",
   "execution_count": 25,
   "id": "e7d831b9",
   "metadata": {},
   "outputs": [],
   "source": [
    "data_tot = pd.concat(\n",
    "    [sent_part1.loc[:,['사람문장1','시스템응답1']].reset_index(drop=True).rename(columns= {'사람문장1' :'Q','시스템응답1': 'A'}),\n",
    "     sent_part1.loc[:,['사람문장2','시스템응답2']].reset_index(drop=True).rename(columns= {'사람문장2' :'Q','시스템응답2': 'A'}),\n",
    "     sent_part1.loc[:,['사람문장3','시스템응답3']].reset_index(drop=True).rename(columns= {'사람문장3' :'Q','시스템응답3': 'A'}),\n",
    "     sent_part1.loc[:,['사람문장4','시스템응답4']].reset_index(drop=True).rename(columns= {'사람문장4' :'Q','시스템응답4': 'A'}),\n",
    "     sent_part2.loc[:,['사람문장1','시스템응답1']].reset_index(drop=True).rename(columns= {'사람문장1' :'Q','시스템응답1': 'A'}),\n",
    "     sent_part2.loc[:,['사람문장2','시스템응답2']].reset_index(drop=True).rename(columns= {'사람문장2' :'Q','시스템응답2': 'A'}),\n",
    "     sent_part2.loc[:,['사람문장3','시스템응답3']].reset_index(drop=True).rename(columns= {'사람문장3' :'Q','시스템응답3': 'A'}),\n",
    "     sent_part2.loc[:,['사람문장4','시스템응답4']].reset_index(drop=True).rename(columns= {'사람문장4' :'Q','시스템응답4': 'A'})])"
   ]
  },
  {
   "cell_type": "code",
   "execution_count": 45,
   "id": "210ae63b",
   "metadata": {},
   "outputs": [],
   "source": [
    "data_tot.to_csv('transformerQA.csv',index=False, encoding='utf-8')"
   ]
  },
  {
   "cell_type": "code",
   "execution_count": 28,
   "id": "49635a0b",
   "metadata": {},
   "outputs": [],
   "source": [
    "# data_tot.dropna(inplace = True)"
   ]
  },
  {
   "cell_type": "code",
   "execution_count": 40,
   "id": "40341b8c",
   "metadata": {},
   "outputs": [],
   "source": [
    "data_df = data_tot.reset_index(drop = True)\n",
    "data_df = data_df[:10000]"
   ]
  },
  {
   "cell_type": "code",
   "execution_count": 41,
   "id": "3941d122",
   "metadata": {},
   "outputs": [
    {
     "name": "stdout",
     "output_type": "stream",
     "text": [
      "['아내가 드디어 출산하게 되어서 정말 신이 나.', '당뇨랑 합병증 때문에 먹어야 할 약이 열 가지가 넘어가니까 스트레스야.', '고등학교에 올라오니 중학교 때보다 수업이 갑자기 어려워져서 당황스러워.', '재취업이 돼서 받게 된 첫 월급으로 온 가족이 외식을 할 예정이야. 너무 행복해.', '빚을 드디어 다 갚게 되어서 이제야 안도감이 들어.', '이제 곧 은퇴할 시기가 되었어. 내가 먼저 은퇴를 하고 육 개월 후에 남편도 은퇴를 하고. 그러면 둘이 하루 종일 함께 있겠네. 생각만 해도 숨이 막혀.', '사십 대에 접어들면서 머리카락이 많이 빠져 고민이야.', '이제 돈이라면 지긋지긋해.', '친구들이 나를 괴롭혀. 부모님과 선생님께 얘기했는데도 믿어주지 않아.', '친구 때문에 눈물 나.']\n",
      "['아내분이 출산을 하시는군요. 정말 축하드려요.', '약 종류가 많아 번거로우시겠어요.', '고등학교 수업이 중학교 때와는 다르게 갑자기 어려워서 당황스러우시군요.', '재취업 후 첫 월급이라 정말 기쁘시겠어요.', '기분 좋으시겠어요. 앞으로는 어떻게 하실 생각이신가요?', '그러시군요. 은퇴 후 남편분과 함께 집에 있을 생각을 하니 막막한 기분이 드시는군요.', '머리카락이 빠져서 걱정이 많으시겠어요.', '무슨 일 있으셨나요?', '괴롭힘을 당해 힘든데도 부모님과 선생님께서 믿어주지 않아서 정말 마음 아프겠네요.', '친구 때문에 눈물이 나시는군요. 무슨 일이세요? ']\n"
     ]
    }
   ],
   "source": [
    "inputs, outputs = list(data_df['Q']), list(data_df['A'])\n",
    "print(inputs[:10], outputs[:10], sep = '\\n')"
   ]
  },
  {
   "cell_type": "code",
   "execution_count": 42,
   "id": "2b6bc5d5",
   "metadata": {},
   "outputs": [],
   "source": [
    "outputs_input = data_df.A.apply(lambda x: '<SOS> '+ x + ' <EOS>')\n",
    "outputs_target = data_df.A.apply(lambda x : x + ' <EOS>')"
   ]
  },
  {
   "cell_type": "code",
   "execution_count": 43,
   "id": "05f8d14a",
   "metadata": {},
   "outputs": [
    {
     "name": "stdout",
     "output_type": "stream",
     "text": [
      "27478\n"
     ]
    }
   ],
   "source": [
    "from tensorflow.keras.preprocessing.text import Tokenizer\n",
    "inputs_series = pd.Series(inputs)\n",
    "inputs_outputs = pd.concat([inputs_series, outputs_input], axis = 0)\n",
    "\n",
    "tokenizer = Tokenizer(num_words= None, char_level= False, lower= False)\n",
    "tokenizer.fit_on_texts(inputs_outputs)\n",
    "word_index = tokenizer.word_index\n",
    "print(len(word_index))"
   ]
  },
  {
   "cell_type": "code",
   "execution_count": 39,
   "id": "faf5b22c",
   "metadata": {},
   "outputs": [
    {
     "data": {
      "text/plain": [
       "1"
      ]
     },
     "execution_count": 39,
     "metadata": {},
     "output_type": "execute_result"
    }
   ],
   "source": [
    "import pickle\n",
    "\n",
    "if os.path.exists('C:/pytest/data/transformer/problem2'):\n",
    "    print('already exists')\n",
    "else:\n",
    "    os.makedirs('C:/pytest/data/transformer/problem2', exist_ok = True)\n",
    "    print('create complete')\n",
    "\n",
    "with open('C:/pytest/data/transformer/problem2/transformer.')"
   ]
  },
  {
   "cell_type": "code",
   "execution_count": null,
   "id": "77c5f5c8",
   "metadata": {},
   "outputs": [],
   "source": []
  }
 ],
 "metadata": {
  "kernelspec": {
   "display_name": "Python 3 (ipykernel)",
   "language": "python",
   "name": "python3"
  },
  "language_info": {
   "codemirror_mode": {
    "name": "ipython",
    "version": 3
   },
   "file_extension": ".py",
   "mimetype": "text/x-python",
   "name": "python",
   "nbconvert_exporter": "python",
   "pygments_lexer": "ipython3",
   "version": "3.7.4"
  }
 },
 "nbformat": 4,
 "nbformat_minor": 5
}
