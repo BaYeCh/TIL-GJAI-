{
 "cells": [
  {
   "cell_type": "markdown",
   "id": "7dabc53a",
   "metadata": {},
   "source": [
    "# 오차역전파"
   ]
  },
  {
   "cell_type": "code",
   "execution_count": 6,
   "id": "44b3fb83",
   "metadata": {},
   "outputs": [],
   "source": [
    "class MulLayer:\n",
    "    # 객체를 만드는 순간 실행 함수\n",
    "    def __init__(self):\n",
    "        self.x = None\n",
    "        self.y = None\n",
    "    \n",
    "    def forward(self, a, b):\n",
    "        self.x = a\n",
    "        self.y = b\n",
    "        out = self.x * self.y\n",
    "        \n",
    "        return out\n",
    "    \n",
    "    # 앞 단계의 미분 결과를 받아서 현 단계의 x와 y를 바꾼 후 곱해서 넘겨줌\n",
    "    def backward(self, dout):\n",
    "        dx = dout * self.y\n",
    "        dy = dout * self.x\n",
    "        return dx, dy"
   ]
  },
  {
   "cell_type": "code",
   "execution_count": 7,
   "id": "a174982c",
   "metadata": {},
   "outputs": [
    {
     "name": "stdout",
     "output_type": "stream",
     "text": [
      "220.00000000000003\n"
     ]
    }
   ],
   "source": [
    "price_apple = 100\n",
    "apple_num = 2\n",
    "tax = 1.1\n",
    "\n",
    "mul_apple_layer = MulLayer()\n",
    "mul_tax_layer = MulLayer()\n",
    "\n",
    "price_apple_num = mul_apple_layer.forward(price_apple, apple_num)\n",
    "price_apple_tax = mul_tax_layer.forward(price_apple_num, tax)\n",
    "\n",
    "print(price_apple_tax)"
   ]
  },
  {
   "cell_type": "code",
   "execution_count": 8,
   "id": "147c93eb",
   "metadata": {},
   "outputs": [
    {
     "name": "stdout",
     "output_type": "stream",
     "text": [
      "200 2.2 110.00000000000001\n"
     ]
    }
   ],
   "source": [
    "# 역전파\n",
    "dprice = 1\n",
    "\n",
    "dprice_apple_num, dtax = mul_tax_layer.backward(dprice)\n",
    "dprice_apple, dapple_num = mul_apple_layer.backward(dprice_apple_num)\n",
    "\n",
    "print(dtax, dprice_apple, dapple_num)"
   ]
  },
  {
   "cell_type": "markdown",
   "id": "7dea79d9",
   "metadata": {},
   "source": [
    "## 덧셈 계층 구현하기"
   ]
  },
  {
   "cell_type": "code",
   "execution_count": 9,
   "id": "a1866083",
   "metadata": {},
   "outputs": [],
   "source": [
    "class AddLayer:\n",
    "    def __init__(self):\n",
    "        pass\n",
    "    \n",
    "    def forward(self, x, y):\n",
    "        out = x+y\n",
    "        return out\n",
    "    \n",
    "    def backward(self, dout):\n",
    "        dx = dout * 1\n",
    "        dy = dout * 1\n",
    "        return dx, dy"
   ]
  },
  {
   "cell_type": "code",
   "execution_count": 11,
   "id": "1dc6c1a6",
   "metadata": {},
   "outputs": [],
   "source": [
    "price_apple = 100\n",
    "apple_num = 2\n",
    "price_orange = 150\n",
    "orange_num = 3\n",
    "tax = 1.1\n",
    "\n",
    "mul_apple_layer = MulLayer()\n",
    "mul_orange_layer = MulLayer()\n",
    "add_apple_orange_layer = AddLayer()\n",
    "mul_tax_layer = MulLayer()"
   ]
  },
  {
   "cell_type": "code",
   "execution_count": 12,
   "id": "03215dc2",
   "metadata": {},
   "outputs": [
    {
     "name": "stdout",
     "output_type": "stream",
     "text": [
      "715.0000000000001\n"
     ]
    }
   ],
   "source": [
    "# 순전파\n",
    "price_apple_num = mul_apple_layer.forward(price_apple, apple_num)\n",
    "price_orange_num  = mul_orange_layer.forward(price_orange, orange_num)\n",
    "price_all_num = add_apple_orange_layer.forward(price_apple_num, price_orange_num)\n",
    "price_all_tax = mul_tax_layer.forward(price_all_num, tax)\n",
    "\n",
    "print(price_all_tax)"
   ]
  },
  {
   "cell_type": "code",
   "execution_count": 14,
   "id": "b1de07a3",
   "metadata": {},
   "outputs": [
    {
     "name": "stdout",
     "output_type": "stream",
     "text": [
      "650\n",
      "2.2\n",
      "110.00000000000001\n",
      "3.3000000000000003\n",
      "165.0\n"
     ]
    }
   ],
   "source": [
    "# 역전파\n",
    "dprice = 1\n",
    "dprice_all_num, dtax = mul_tax_layer.backward(dprice)\n",
    "dprice_apple_num, dprice_orange_num = add_apple_orange_layer.backward(dprice_all_num)\n",
    "dprice_orange, dorange_num = mul_orange_layer.backward(dprice_orange_num)\n",
    "dprice_apple, dapple_num = mul_apple_layer.backward(dprice_apple_num)\n",
    "\n",
    "print(dtax, dprice_apple, dapple_num, dprice_orange, dorange_num,sep = \"\\n\")"
   ]
  },
  {
   "cell_type": "code",
   "execution_count": null,
   "id": "8a9b8066",
   "metadata": {},
   "outputs": [],
   "source": []
  }
 ],
 "metadata": {
  "kernelspec": {
   "display_name": "Python 3 (ipykernel)",
   "language": "python",
   "name": "python3"
  },
  "language_info": {
   "codemirror_mode": {
    "name": "ipython",
    "version": 3
   },
   "file_extension": ".py",
   "mimetype": "text/x-python",
   "name": "python",
   "nbconvert_exporter": "python",
   "pygments_lexer": "ipython3",
   "version": "3.7.4"
  }
 },
 "nbformat": 4,
 "nbformat_minor": 5
}
