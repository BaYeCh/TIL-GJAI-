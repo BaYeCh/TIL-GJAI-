{
 "cells": [
  {
   "cell_type": "code",
   "execution_count": 1,
   "id": "86ba7903",
   "metadata": {},
   "outputs": [],
   "source": [
    "import os\n",
    "import sys\n",
    "sys.path.append(\"./dataset\")\n",
    "import pickle\n",
    "from dataset.mnist import load_mnist"
   ]
  },
  {
   "cell_type": "code",
   "execution_count": 2,
   "id": "a3503574",
   "metadata": {},
   "outputs": [],
   "source": [
    "import warnings\n",
    "warnings.filterwarnings('ignore')"
   ]
  },
  {
   "cell_type": "code",
   "execution_count": 3,
   "id": "f8a91ee7",
   "metadata": {},
   "outputs": [],
   "source": [
    "import numpy as np"
   ]
  },
  {
   "cell_type": "code",
   "execution_count": 4,
   "id": "b37312c7",
   "metadata": {},
   "outputs": [
    {
     "name": "stdout",
     "output_type": "stream",
     "text": [
      "(60000, 784) (60000,) (10000, 784) (10000,)\n"
     ]
    }
   ],
   "source": [
    "(train_image, train_label),(test_image, test_label) = load_mnist(flatten = True, normalize = False)\n",
    "print(train_image.shape, train_label.shape, test_image.shape, test_label.shape)"
   ]
  },
  {
   "cell_type": "code",
   "execution_count": 5,
   "id": "2b769407",
   "metadata": {},
   "outputs": [],
   "source": [
    "def softmax(a):\n",
    "    c = np.max(a)\n",
    "    exp_a = np.exp(a -c)\n",
    "    sum_exp_a = np.sum(exp_a)\n",
    "    y = exp_a / sum_exp_a\n",
    "    return y"
   ]
  },
  {
   "cell_type": "code",
   "execution_count": 6,
   "id": "59619b65",
   "metadata": {},
   "outputs": [],
   "source": [
    "def sigmoid(x):\n",
    "    return 1 / (1+np.exp(-x))"
   ]
  },
  {
   "cell_type": "code",
   "execution_count": 7,
   "id": "25bc4275",
   "metadata": {},
   "outputs": [],
   "source": [
    "def init_network():\n",
    "    with open('sample_weight.pkl','rb') as f:\n",
    "        network = pickle.load(f)\n",
    "    return network\n",
    "def predict(network, x):\n",
    "    W1, W2, W3 = network['W1'], network['W2'], network['W3']\n",
    "    b1, b2, b3 = network['b1'], network['b2'], network['b3']\n",
    "    \n",
    "    h1 = np.dot(x, W1)+ b1\n",
    "    o1 = sigmoid(h1)\n",
    "    \n",
    "    h2 = np.dot(o1, W2) + b2\n",
    "    o2 = sigmoid(h2)\n",
    "    \n",
    "    out = np.dot(o2, W3) + b3\n",
    "    y = softmax(out)\n",
    "    return y"
   ]
  },
  {
   "cell_type": "code",
   "execution_count": 8,
   "id": "e343116f",
   "metadata": {},
   "outputs": [],
   "source": [
    "network = init_network()"
   ]
  },
  {
   "cell_type": "code",
   "execution_count": 9,
   "id": "3bfcd5bf",
   "metadata": {},
   "outputs": [],
   "source": [
    "images = test_image\n",
    "labels = test_label"
   ]
  },
  {
   "cell_type": "code",
   "execution_count": 10,
   "id": "5967bfdc",
   "metadata": {},
   "outputs": [
    {
     "name": "stdout",
     "output_type": "stream",
     "text": [
      "Accuracy : 0.9207\n"
     ]
    }
   ],
   "source": [
    "accuracy_cnt = 0\n",
    "for i in range(len(images)):\n",
    "    y = predict(network, images[i])\n",
    "    max_y = np.argmax(y)\n",
    "    if max_y == labels[i]:\n",
    "        accuracy_cnt += 1\n",
    "print(\"Accuracy :\", float(accuracy_cnt)/ len(images))"
   ]
  },
  {
   "cell_type": "code",
   "execution_count": 11,
   "id": "5de2fa2e",
   "metadata": {},
   "outputs": [
    {
     "name": "stdout",
     "output_type": "stream",
     "text": [
      "Accuracy : 0.9207\n"
     ]
    }
   ],
   "source": [
    "batch_size = 100\n",
    "accuracy_cnt = 0\n",
    "\n",
    "for i in range(0, len(images), batch_size): # batch_size 만큼씩 증가\n",
    "    x_batch = images[i:i+batch_size]\n",
    "    y_batch = predict(network, x_batch)\n",
    "    max_y_batch = np.argmax(y_batch, axis = 1) # 1번째 차원에서의 최댓값 인덱스\n",
    "                                               # 각 열에서 최댓값\n",
    "    accuracy_cnt += np.sum(max_y_batch == labels[i:i+batch_size])\n",
    "    \n",
    "print(\"Accuracy :\", accuracy_cnt / len(images))"
   ]
  },
  {
   "cell_type": "code",
   "execution_count": null,
   "id": "bc782951",
   "metadata": {},
   "outputs": [],
   "source": []
  }
 ],
 "metadata": {
  "kernelspec": {
   "display_name": "Python 3 (ipykernel)",
   "language": "python",
   "name": "python3"
  },
  "language_info": {
   "codemirror_mode": {
    "name": "ipython",
    "version": 3
   },
   "file_extension": ".py",
   "mimetype": "text/x-python",
   "name": "python",
   "nbconvert_exporter": "python",
   "pygments_lexer": "ipython3",
   "version": "3.7.4"
  }
 },
 "nbformat": 4,
 "nbformat_minor": 5
}
