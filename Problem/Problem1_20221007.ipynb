{
 "cells": [
  {
   "cell_type": "markdown",
   "id": "682f0502",
   "metadata": {},
   "source": [
    "# 연습문제"
   ]
  },
  {
   "cell_type": "code",
   "execution_count": 1,
   "id": "6748c02b",
   "metadata": {},
   "outputs": [],
   "source": [
    "import os\n",
    "path = \"C:/pytest/\"\n",
    "os.chdir(path)"
   ]
  },
  {
   "cell_type": "code",
   "execution_count": 2,
   "id": "4572c4be",
   "metadata": {},
   "outputs": [],
   "source": [
    "import pandas as pd\n",
    "import numpy as np"
   ]
  },
  {
   "cell_type": "code",
   "execution_count": 3,
   "id": "6bb51b95",
   "metadata": {},
   "outputs": [
    {
     "data": {
      "text/html": [
       "<div>\n",
       "<style scoped>\n",
       "    .dataframe tbody tr th:only-of-type {\n",
       "        vertical-align: middle;\n",
       "    }\n",
       "\n",
       "    .dataframe tbody tr th {\n",
       "        vertical-align: top;\n",
       "    }\n",
       "\n",
       "    .dataframe thead th {\n",
       "        text-align: right;\n",
       "    }\n",
       "</style>\n",
       "<table border=\"1\" class=\"dataframe\">\n",
       "  <thead>\n",
       "    <tr style=\"text-align: right;\">\n",
       "      <th></th>\n",
       "      <th>Content</th>\n",
       "      <th>Label</th>\n",
       "    </tr>\n",
       "  </thead>\n",
       "  <tbody>\n",
       "    <tr>\n",
       "      <th>0</th>\n",
       "      <td>그라나다 할부 조건 시간 전국 어디 중고차 할부 가능 여부 서비스 상담 신청 양식 ...</td>\n",
       "      <td>class0</td>\n",
       "    </tr>\n",
       "    <tr>\n",
       "      <th>1</th>\n",
       "      <td>광고 광고 올해 통신 인터넷 보이스 피싱 메모리 해킹 사기 피해 건수 피해액 최민희...</td>\n",
       "      <td>class0</td>\n",
       "    </tr>\n",
       "    <tr>\n",
       "      <th>2</th>\n",
       "      <td>춘천 연합뉴스 이해 기자 강원도 교육청 올해 보급 예정 교과서 전자 보이스 피싱 사...</td>\n",
       "      <td>class0</td>\n",
       "    </tr>\n",
       "    <tr>\n",
       "      <th>3</th>\n",
       "      <td>조선족 보이스 피싱</td>\n",
       "      <td>class0</td>\n",
       "    </tr>\n",
       "    <tr>\n",
       "      <th>4</th>\n",
       "      <td>조선족 보이스 피싱</td>\n",
       "      <td>class0</td>\n",
       "    </tr>\n",
       "  </tbody>\n",
       "</table>\n",
       "</div>"
      ],
      "text/plain": [
       "                                             Content   Label\n",
       "0  그라나다 할부 조건 시간 전국 어디 중고차 할부 가능 여부 서비스 상담 신청 양식 ...  class0\n",
       "1  광고 광고 올해 통신 인터넷 보이스 피싱 메모리 해킹 사기 피해 건수 피해액 최민희...  class0\n",
       "2  춘천 연합뉴스 이해 기자 강원도 교육청 올해 보급 예정 교과서 전자 보이스 피싱 사...  class0\n",
       "3                                         조선족 보이스 피싱  class0\n",
       "4                                         조선족 보이스 피싱  class0"
      ]
     },
     "execution_count": 3,
     "metadata": {},
     "output_type": "execute_result"
    }
   ],
   "source": [
    "loan_o = pd.read_csv('./불법_대부업_데이터/class0(대출_합법).csv', encoding = 'cp949')\n",
    "loan_o.head()"
   ]
  },
  {
   "cell_type": "code",
   "execution_count": 4,
   "id": "770c162b",
   "metadata": {},
   "outputs": [
    {
     "data": {
      "text/html": [
       "<div>\n",
       "<style scoped>\n",
       "    .dataframe tbody tr th:only-of-type {\n",
       "        vertical-align: middle;\n",
       "    }\n",
       "\n",
       "    .dataframe tbody tr th {\n",
       "        vertical-align: top;\n",
       "    }\n",
       "\n",
       "    .dataframe thead th {\n",
       "        text-align: right;\n",
       "    }\n",
       "</style>\n",
       "<table border=\"1\" class=\"dataframe\">\n",
       "  <thead>\n",
       "    <tr style=\"text-align: right;\">\n",
       "      <th></th>\n",
       "      <th>Content</th>\n",
       "      <th>Label</th>\n",
       "    </tr>\n",
       "  </thead>\n",
       "  <tbody>\n",
       "    <tr>\n",
       "      <th>0</th>\n",
       "      <td>저지 레드 다중 과다 채무자 증가 카드 대출 연체 증가</td>\n",
       "      <td>class1</td>\n",
       "    </tr>\n",
       "    <tr>\n",
       "      <th>1</th>\n",
       "      <td>히트 로드 채팅 싸이트 은행 신협 고객 연체 이자 부담</td>\n",
       "      <td>class1</td>\n",
       "    </tr>\n",
       "    <tr>\n",
       "      <th>2</th>\n",
       "      <td>보이스 피싱 아우 짜증 이제 그쪽 전화 보이스 피싱 진드기 사람 매트리스 사용</td>\n",
       "      <td>class1</td>\n",
       "    </tr>\n",
       "    <tr>\n",
       "      <th>3</th>\n",
       "      <td>보이스 피싱 아우 짜증 이제 그쪽 전화 보이스 피싱 진드기 사람 매트리스 사용</td>\n",
       "      <td>class1</td>\n",
       "    </tr>\n",
       "    <tr>\n",
       "      <th>4</th>\n",
       "      <td>보이스 피싱 아우 짜증 이제 그쪽 전화 보이스 피싱 진드기 사람 매트리스</td>\n",
       "      <td>class1</td>\n",
       "    </tr>\n",
       "  </tbody>\n",
       "</table>\n",
       "</div>"
      ],
      "text/plain": [
       "                                       Content   Label\n",
       "0               저지 레드 다중 과다 채무자 증가 카드 대출 연체 증가  class1\n",
       "1               히트 로드 채팅 싸이트 은행 신협 고객 연체 이자 부담  class1\n",
       "2  보이스 피싱 아우 짜증 이제 그쪽 전화 보이스 피싱 진드기 사람 매트리스 사용  class1\n",
       "3  보이스 피싱 아우 짜증 이제 그쪽 전화 보이스 피싱 진드기 사람 매트리스 사용  class1\n",
       "4     보이스 피싱 아우 짜증 이제 그쪽 전화 보이스 피싱 진드기 사람 매트리스  class1"
      ]
     },
     "execution_count": 4,
     "metadata": {},
     "output_type": "execute_result"
    }
   ],
   "source": [
    "loan_x = pd.read_csv('./불법_대부업_데이터/class1(대출_불법).csv', encoding = 'cp949')\n",
    "loan_x.head()"
   ]
  },
  {
   "cell_type": "code",
   "execution_count": 5,
   "id": "a90db948",
   "metadata": {},
   "outputs": [
    {
     "data": {
      "text/html": [
       "<div>\n",
       "<style scoped>\n",
       "    .dataframe tbody tr th:only-of-type {\n",
       "        vertical-align: middle;\n",
       "    }\n",
       "\n",
       "    .dataframe tbody tr th {\n",
       "        vertical-align: top;\n",
       "    }\n",
       "\n",
       "    .dataframe thead th {\n",
       "        text-align: right;\n",
       "    }\n",
       "</style>\n",
       "<table border=\"1\" class=\"dataframe\">\n",
       "  <thead>\n",
       "    <tr style=\"text-align: right;\">\n",
       "      <th></th>\n",
       "      <th>Content</th>\n",
       "      <th>Label</th>\n",
       "    </tr>\n",
       "  </thead>\n",
       "  <tbody>\n",
       "    <tr>\n",
       "      <th>0</th>\n",
       "      <td>그라나다 할부 조건 시간 전국 어디 중고차 할부 가능 여부 서비스 상담 신청 양식 ...</td>\n",
       "      <td>class0</td>\n",
       "    </tr>\n",
       "    <tr>\n",
       "      <th>1</th>\n",
       "      <td>광고 광고 올해 통신 인터넷 보이스 피싱 메모리 해킹 사기 피해 건수 피해액 최민희...</td>\n",
       "      <td>class0</td>\n",
       "    </tr>\n",
       "    <tr>\n",
       "      <th>2</th>\n",
       "      <td>춘천 연합뉴스 이해 기자 강원도 교육청 올해 보급 예정 교과서 전자 보이스 피싱 사...</td>\n",
       "      <td>class0</td>\n",
       "    </tr>\n",
       "    <tr>\n",
       "      <th>3</th>\n",
       "      <td>조선족 보이스 피싱</td>\n",
       "      <td>class0</td>\n",
       "    </tr>\n",
       "    <tr>\n",
       "      <th>4</th>\n",
       "      <td>조선족 보이스 피싱</td>\n",
       "      <td>class0</td>\n",
       "    </tr>\n",
       "  </tbody>\n",
       "</table>\n",
       "</div>"
      ],
      "text/plain": [
       "                                             Content   Label\n",
       "0  그라나다 할부 조건 시간 전국 어디 중고차 할부 가능 여부 서비스 상담 신청 양식 ...  class0\n",
       "1  광고 광고 올해 통신 인터넷 보이스 피싱 메모리 해킹 사기 피해 건수 피해액 최민희...  class0\n",
       "2  춘천 연합뉴스 이해 기자 강원도 교육청 올해 보급 예정 교과서 전자 보이스 피싱 사...  class0\n",
       "3                                         조선족 보이스 피싱  class0\n",
       "4                                         조선족 보이스 피싱  class0"
      ]
     },
     "execution_count": 5,
     "metadata": {},
     "output_type": "execute_result"
    }
   ],
   "source": [
    "loan = pd.concat([loan_o,loan_x])\n",
    "loan.head()"
   ]
  },
  {
   "cell_type": "code",
   "execution_count": 6,
   "id": "f8d94d91",
   "metadata": {},
   "outputs": [],
   "source": [
    "X = loan['Content']\n",
    "y = loan['Label']"
   ]
  },
  {
   "cell_type": "code",
   "execution_count": 7,
   "id": "98e3f0ce",
   "metadata": {},
   "outputs": [],
   "source": [
    "text_len = [len(line.split(' ')) for line in X]"
   ]
  },
  {
   "cell_type": "code",
   "execution_count": 8,
   "id": "359cde9d",
   "metadata": {},
   "outputs": [
    {
     "name": "stdout",
     "output_type": "stream",
     "text": [
      "최소길이 : 1\n",
      "최대길이 : 20\n",
      "평균길이 : 12.7\n",
      "중위수길이 : 11.0\n",
      "구간별 최대 길이 : [ 1.  8. 11. 20. 20. 20.]\n",
      "최소길이 문장 : 225                                                   충동\n",
      "225    중고 중고 스마트폰 스마트폰 전기 연체 미납 해지 사용 경기 수도 인천 서울 고가 ...\n",
      "Name: Content, dtype: object\n",
      "최대길이 문장 : 0    그라나다 할부 조건 시간 전국 어디 중고차 할부 가능 여부 서비스 상담 신청 양식 ...\n",
      "0                       저지 레드 다중 과다 채무자 증가 카드 대출 연체 증가\n",
      "Name: Content, dtype: object\n"
     ]
    }
   ],
   "source": [
    "print('최소길이 : {}\\n최대길이 : {}\\n평균길이 : {}\\n중위수길이 : {}\\n구간별 최대 길이 : {}\\n최소길이 문장 : {}\\n최대길이 문장 : {}'.format(np.min(text_len),np.max(text_len),np.round(np.mean(text_len),1), np.median(text_len), np.percentile(text_len, [0,25,50,75,99,100]), X[np.argmin(text_len)], X[np.argmax(text_len)]))"
   ]
  },
  {
   "cell_type": "code",
   "execution_count": 9,
   "id": "4c9e58e0",
   "metadata": {},
   "outputs": [],
   "source": [
    "from sklearn.model_selection import train_test_split\n",
    "train_X, test_X, train_y, test_y = train_test_split(X,y)"
   ]
  },
  {
   "cell_type": "code",
   "execution_count": 10,
   "id": "251c786c",
   "metadata": {},
   "outputs": [
    {
     "data": {
      "text/plain": [
       "array([0, 1, 0, ..., 0, 0, 0])"
      ]
     },
     "execution_count": 10,
     "metadata": {},
     "output_type": "execute_result"
    }
   ],
   "source": [
    "from sklearn.preprocessing import LabelEncoder\n",
    "e = LabelEncoder()\n",
    "e.fit(train_y)\n",
    "train_y = e.transform(train_y)\n",
    "train_y"
   ]
  },
  {
   "cell_type": "markdown",
   "id": "440e6e5a",
   "metadata": {},
   "source": [
    "# Tokenizing"
   ]
  },
  {
   "cell_type": "code",
   "execution_count": 11,
   "id": "2501db7b",
   "metadata": {},
   "outputs": [],
   "source": [
    "from keras.preprocessing.text import Tokenizer\n",
    "from tensorflow.keras.preprocessing.sequence import pad_sequences"
   ]
  },
  {
   "cell_type": "code",
   "execution_count": 12,
   "id": "d819bf67",
   "metadata": {},
   "outputs": [],
   "source": [
    "max_words = 5000\n",
    "maxlen = 20"
   ]
  },
  {
   "cell_type": "code",
   "execution_count": 13,
   "id": "eac0996f",
   "metadata": {},
   "outputs": [],
   "source": [
    "tokenizer = Tokenizer(num_words= max_words)\n",
    "tokenizer.fit_on_texts(train_X)"
   ]
  },
  {
   "cell_type": "code",
   "execution_count": 14,
   "id": "48f383b8",
   "metadata": {},
   "outputs": [],
   "source": [
    "data_sequencing = tokenizer.texts_to_sequences(train_X)"
   ]
  },
  {
   "cell_type": "markdown",
   "id": "d4d7b3f4",
   "metadata": {},
   "source": [
    "# Padding"
   ]
  },
  {
   "cell_type": "code",
   "execution_count": 15,
   "id": "eac67ad6",
   "metadata": {},
   "outputs": [],
   "source": [
    "data_padding = pad_sequences(data_sequencing, maxlen= maxlen)"
   ]
  },
  {
   "cell_type": "code",
   "execution_count": 16,
   "id": "b80973d0",
   "metadata": {},
   "outputs": [],
   "source": [
    "import math"
   ]
  },
  {
   "cell_type": "code",
   "execution_count": 17,
   "id": "c733a0e4",
   "metadata": {},
   "outputs": [],
   "source": [
    "def to_one_hot(sequences, dimension):\n",
    "    results = np.zeros((len(sequences),dimension))\n",
    "    for i, sequence in enumerate(sequences):\n",
    "        results[i, sequence] = 1\n",
    "    return results"
   ]
  },
  {
   "cell_type": "code",
   "execution_count": 18,
   "id": "2166ce89",
   "metadata": {},
   "outputs": [],
   "source": [
    "data_1hot = to_one_hot(data_padding, dimension= max_words)\n",
    "labels = np.array(train_y).astype('float32')"
   ]
  },
  {
   "cell_type": "markdown",
   "id": "afe1197b",
   "metadata": {},
   "source": [
    "# 모델 설계"
   ]
  },
  {
   "cell_type": "code",
   "execution_count": 19,
   "id": "49286461",
   "metadata": {},
   "outputs": [],
   "source": [
    "from tensorflow.keras.models import Sequential\n",
    "from tensorflow.keras.layers import Dense"
   ]
  },
  {
   "cell_type": "code",
   "execution_count": 20,
   "id": "72129f47",
   "metadata": {},
   "outputs": [
    {
     "name": "stdout",
     "output_type": "stream",
     "text": [
      "Model: \"sequential\"\n",
      "_________________________________________________________________\n",
      " Layer (type)                Output Shape              Param #   \n",
      "=================================================================\n",
      " dense (Dense)               (None, 64)                320064    \n",
      "                                                                 \n",
      " dense_1 (Dense)             (None, 32)                2080      \n",
      "                                                                 \n",
      " dense_2 (Dense)             (None, 16)                528       \n",
      "                                                                 \n",
      " dense_3 (Dense)             (None, 8)                 136       \n",
      "                                                                 \n",
      " dense_4 (Dense)             (None, 1)                 9         \n",
      "                                                                 \n",
      "=================================================================\n",
      "Total params: 322,817\n",
      "Trainable params: 322,817\n",
      "Non-trainable params: 0\n",
      "_________________________________________________________________\n"
     ]
    }
   ],
   "source": [
    "model = Sequential()\n",
    "model.add(Dense(64, activation = 'relu',input_dim =max_words))\n",
    "model.add(Dense(32, activation = 'relu'))\n",
    "model.add(Dense(16, activation = 'relu'))\n",
    "model.add(Dense(8, activation = 'relu'))\n",
    "model.add(Dense(1, activation = 'sigmoid'))\n",
    "model.summary()"
   ]
  },
  {
   "cell_type": "code",
   "execution_count": 21,
   "id": "8c82af87",
   "metadata": {},
   "outputs": [],
   "source": [
    "# os.makedirs('C:/pytest/Problem/Problem1_20221007/')"
   ]
  },
  {
   "cell_type": "code",
   "execution_count": 22,
   "id": "e71737ac",
   "metadata": {},
   "outputs": [],
   "source": [
    "from keras.callbacks import ModelCheckpoint\n",
    "callbacks = ModelCheckpoint(\n",
    "                    filepath = 'C:/pytest/Problem/Problem1_20221007/Problem1_model01.h5',\n",
    "                    monitor = 'val_loss', verbose = 1, save_best_only= True)"
   ]
  },
  {
   "cell_type": "code",
   "execution_count": 23,
   "id": "029c7d2c",
   "metadata": {},
   "outputs": [
    {
     "name": "stdout",
     "output_type": "stream",
     "text": [
      "Epoch 1/10\n",
      " 89/104 [========================>.....] - ETA: 0s - loss: 0.3403 - acc: 0.9505WARNING:tensorflow:Can save best model only with val_loss available, skipping.\n",
      "104/104 [==============================] - 2s 3ms/step - loss: 0.3041 - acc: 0.9539\n",
      "Epoch 2/10\n",
      "101/104 [============================>.] - ETA: 0s - loss: 0.0266 - acc: 0.9910WARNING:tensorflow:Can save best model only with val_loss available, skipping.\n",
      "104/104 [==============================] - 0s 3ms/step - loss: 0.0271 - acc: 0.9906\n",
      "Epoch 3/10\n",
      " 87/104 [========================>.....] - ETA: 0s - loss: 0.0072 - acc: 0.9975WARNING:tensorflow:Can save best model only with val_loss available, skipping.\n",
      "104/104 [==============================] - 0s 3ms/step - loss: 0.0068 - acc: 0.9976\n",
      "Epoch 4/10\n",
      " 92/104 [=========================>....] - ETA: 0s - loss: 0.0024 - acc: 0.9993WARNING:tensorflow:Can save best model only with val_loss available, skipping.\n",
      "104/104 [==============================] - 0s 3ms/step - loss: 0.0024 - acc: 0.9994\n",
      "Epoch 5/10\n",
      " 93/104 [=========================>....] - ETA: 0s - loss: 8.3760e-04 - acc: 1.0000WARNING:tensorflow:Can save best model only with val_loss available, skipping.\n",
      "104/104 [==============================] - 0s 3ms/step - loss: 8.3352e-04 - acc: 1.0000\n",
      "Epoch 6/10\n",
      "104/104 [==============================] - ETA: 0s - loss: 4.5936e-04 - acc: 1.0000WARNING:tensorflow:Can save best model only with val_loss available, skipping.\n",
      "104/104 [==============================] - 0s 4ms/step - loss: 4.5936e-04 - acc: 1.0000\n",
      "Epoch 7/10\n",
      " 94/104 [==========================>...] - ETA: 0s - loss: 3.0876e-04 - acc: 1.0000WARNING:tensorflow:Can save best model only with val_loss available, skipping.\n",
      "104/104 [==============================] - 0s 3ms/step - loss: 3.0198e-04 - acc: 1.0000\n",
      "Epoch 8/10\n",
      " 89/104 [========================>.....] - ETA: 0s - loss: 2.2737e-04 - acc: 1.0000WARNING:tensorflow:Can save best model only with val_loss available, skipping.\n",
      "104/104 [==============================] - 0s 3ms/step - loss: 2.0936e-04 - acc: 1.0000\n",
      "Epoch 9/10\n",
      " 91/104 [=========================>....] - ETA: 0s - loss: 1.5038e-04 - acc: 1.0000WARNING:tensorflow:Can save best model only with val_loss available, skipping.\n",
      "104/104 [==============================] - 0s 3ms/step - loss: 1.5178e-04 - acc: 1.0000\n",
      "Epoch 10/10\n",
      "103/104 [============================>.] - ETA: 0s - loss: 1.1216e-04 - acc: 1.0000WARNING:tensorflow:Can save best model only with val_loss available, skipping.\n",
      "104/104 [==============================] - 0s 3ms/step - loss: 1.1209e-04 - acc: 1.0000\n"
     ]
    }
   ],
   "source": [
    "model.compile(loss= 'binary_crossentropy', optimizer = 'adam', metrics = ['acc'])\n",
    "history = model.fit(data_1hot, labels, epochs = 10, batch_size = 32, callbacks = [callbacks])\n",
    "history_dict = history.history"
   ]
  },
  {
   "cell_type": "code",
   "execution_count": null,
   "id": "4f5d7855",
   "metadata": {},
   "outputs": [],
   "source": []
  },
  {
   "cell_type": "code",
   "execution_count": null,
   "id": "5e277870",
   "metadata": {},
   "outputs": [],
   "source": []
  }
 ],
 "metadata": {
  "kernelspec": {
   "display_name": "Python 3 (ipykernel)",
   "language": "python",
   "name": "python3"
  },
  "language_info": {
   "codemirror_mode": {
    "name": "ipython",
    "version": 3
   },
   "file_extension": ".py",
   "mimetype": "text/x-python",
   "name": "python",
   "nbconvert_exporter": "python",
   "pygments_lexer": "ipython3",
   "version": "3.7.4"
  }
 },
 "nbformat": 4,
 "nbformat_minor": 5
}
