{
 "cells": [
  {
   "cell_type": "markdown",
   "id": "a094f515",
   "metadata": {},
   "source": [
    "# 연습문제 2"
   ]
  },
  {
   "cell_type": "code",
   "execution_count": 1,
   "id": "a5f3d400",
   "metadata": {},
   "outputs": [],
   "source": [
    "import os\n",
    "path = \"C:/pytest/감성대화말뭉치/\"\n",
    "os.chdir(path)"
   ]
  },
  {
   "cell_type": "code",
   "execution_count": 2,
   "id": "8551c22d",
   "metadata": {},
   "outputs": [],
   "source": [
    "import pandas as pd\n",
    "import numpy as np"
   ]
  },
  {
   "cell_type": "code",
   "execution_count": 3,
   "id": "17476bb1",
   "metadata": {
    "scrolled": true
   },
   "outputs": [
    {
     "data": {
      "text/html": [
       "<div>\n",
       "<style scoped>\n",
       "    .dataframe tbody tr th:only-of-type {\n",
       "        vertical-align: middle;\n",
       "    }\n",
       "\n",
       "    .dataframe tbody tr th {\n",
       "        vertical-align: top;\n",
       "    }\n",
       "\n",
       "    .dataframe thead th {\n",
       "        text-align: right;\n",
       "    }\n",
       "</style>\n",
       "<table border=\"1\" class=\"dataframe\">\n",
       "  <thead>\n",
       "    <tr style=\"text-align: right;\">\n",
       "      <th></th>\n",
       "      <th>번호</th>\n",
       "      <th>연령</th>\n",
       "      <th>성별</th>\n",
       "      <th>상황키워드</th>\n",
       "      <th>신체질환</th>\n",
       "      <th>감정_대분류</th>\n",
       "      <th>감정_소분류</th>\n",
       "      <th>사람문장1</th>\n",
       "      <th>시스템응답1</th>\n",
       "      <th>사람문장2</th>\n",
       "      <th>시스템응답2</th>\n",
       "      <th>사람문장3</th>\n",
       "      <th>시스템응답3</th>\n",
       "      <th>사람문장4</th>\n",
       "      <th>시스템응답4</th>\n",
       "    </tr>\n",
       "  </thead>\n",
       "  <tbody>\n",
       "    <tr>\n",
       "      <th>0</th>\n",
       "      <td>44164</td>\n",
       "      <td>청년</td>\n",
       "      <td>남성</td>\n",
       "      <td>연애, 결혼, 출산</td>\n",
       "      <td>해당없음</td>\n",
       "      <td>기쁨</td>\n",
       "      <td>신이 난</td>\n",
       "      <td>아내가 드디어 출산하게 되어서 정말 신이 나.</td>\n",
       "      <td>아내분이 출산을 하시는군요. 정말 축하드려요.</td>\n",
       "      <td>아 지금 정말 신이 나.</td>\n",
       "      <td>잘 된 일이네요.</td>\n",
       "      <td>아기가 점점 클게 벌써 기대가 되네. 내가 많이 놀아줘야지.</td>\n",
       "      <td>좋은 아빠가 되실 거 같아요. 진심으로 축하드려요.</td>\n",
       "      <td>NaN</td>\n",
       "      <td>NaN</td>\n",
       "    </tr>\n",
       "    <tr>\n",
       "      <th>1</th>\n",
       "      <td>3926</td>\n",
       "      <td>노년</td>\n",
       "      <td>남성</td>\n",
       "      <td>건강, 죽음</td>\n",
       "      <td>만성질환 유</td>\n",
       "      <td>불안</td>\n",
       "      <td>스트레스 받는</td>\n",
       "      <td>당뇨랑 합병증 때문에 먹어야 할 약이 열 가지가 넘어가니까 스트레스야.</td>\n",
       "      <td>약 종류가 많아 번거로우시겠어요.</td>\n",
       "      <td>건강할 때 관리 좀 잘할걸 하는 생각이 들더라고.</td>\n",
       "      <td>현재 상황에서 변화를 주기 위해 어떻게 하면 될까요?</td>\n",
       "      <td>약을 잘 챙겨 먹고 나을 수 있도록 노력해야지.</td>\n",
       "      <td>약을 잘 챙겨 먹어 건강해지시길 바랄게요.</td>\n",
       "      <td>NaN</td>\n",
       "      <td>NaN</td>\n",
       "    </tr>\n",
       "    <tr>\n",
       "      <th>2</th>\n",
       "      <td>50882</td>\n",
       "      <td>청소년</td>\n",
       "      <td>여성</td>\n",
       "      <td>학업 및 진로</td>\n",
       "      <td>해당없음</td>\n",
       "      <td>당황</td>\n",
       "      <td>당황</td>\n",
       "      <td>고등학교에 올라오니 중학교 때보다 수업이 갑자기 어려워져서 당황스러워.</td>\n",
       "      <td>고등학교 수업이 중학교 때와는 다르게 갑자기 어려워서 당황스러우시군요.</td>\n",
       "      <td>아직 학기 초인데 내가 수업에 잘 따라갈 수 있을지 걱정돼.</td>\n",
       "      <td>이 상황에서 할 수 있는 게 어떤 것이 있을까요?</td>\n",
       "      <td>중학교 수업을 들을 때보다 훨씬 더 열심히 할 거야.</td>\n",
       "      <td>수업을 어떤 방식으로 열심히 듣는게 좋을까요?</td>\n",
       "      <td>선생님이 강조하신 부분을 필기하고 집에서 매일 수업 내용을 복습하려고 해.</td>\n",
       "      <td>열심히 해서 좋은 결과가 있었으면 좋겠어요.</td>\n",
       "    </tr>\n",
       "    <tr>\n",
       "      <th>3</th>\n",
       "      <td>31303</td>\n",
       "      <td>노년</td>\n",
       "      <td>남성</td>\n",
       "      <td>재정</td>\n",
       "      <td>만성질환 무</td>\n",
       "      <td>기쁨</td>\n",
       "      <td>신이 난</td>\n",
       "      <td>재취업이 돼서 받게 된 첫 월급으로 온 가족이 외식을 할 예정이야. 너무 행복해.</td>\n",
       "      <td>재취업 후 첫 월급이라 정말 기쁘시겠어요.</td>\n",
       "      <td>퇴직 후 다시는 돈을 못 벌 줄 알았는데 이렇게 월급으로 가족에게 맛있는 밥을 살 ...</td>\n",
       "      <td>이 기분을 유지하려면 어떻게 해야 할까요?</td>\n",
       "      <td>회사생활을 열심히 해서 계속 월급을 받을거야!</td>\n",
       "      <td>계속 원하시는 대로 회사생활이 이어지길 바랄게요.</td>\n",
       "      <td>NaN</td>\n",
       "      <td>NaN</td>\n",
       "    </tr>\n",
       "    <tr>\n",
       "      <th>4</th>\n",
       "      <td>47200</td>\n",
       "      <td>노년</td>\n",
       "      <td>여성</td>\n",
       "      <td>재정</td>\n",
       "      <td>만성질환 유</td>\n",
       "      <td>기쁨</td>\n",
       "      <td>안도</td>\n",
       "      <td>빚을 드디어 다 갚게 되어서 이제야 안도감이 들어.</td>\n",
       "      <td>기분 좋으시겠어요. 앞으로는 어떻게 하실 생각이신가요?</td>\n",
       "      <td>빚도 다 갚았으니 당분간은 아무 생각도 안 하며 살고 싶어.</td>\n",
       "      <td>빚도 다 갚았으니 당분간은 아무 생각도 안 하며 살고 싶으시군요.</td>\n",
       "      <td>NaN</td>\n",
       "      <td>NaN</td>\n",
       "      <td>NaN</td>\n",
       "      <td>NaN</td>\n",
       "    </tr>\n",
       "  </tbody>\n",
       "</table>\n",
       "</div>"
      ],
      "text/plain": [
       "      번호   연령  성별       상황키워드    신체질환 감정_대분류   감정_소분류  \\\n",
       "0  44164   청년  남성  연애, 결혼, 출산    해당없음     기쁨     신이 난   \n",
       "1   3926   노년  남성      건강, 죽음  만성질환 유     불안  스트레스 받는   \n",
       "2  50882  청소년  여성     학업 및 진로    해당없음     당황       당황   \n",
       "3  31303   노년  남성          재정  만성질환 무     기쁨     신이 난   \n",
       "4  47200   노년  여성          재정  만성질환 유     기쁨       안도   \n",
       "\n",
       "                                           사람문장1  \\\n",
       "0                      아내가 드디어 출산하게 되어서 정말 신이 나.   \n",
       "1        당뇨랑 합병증 때문에 먹어야 할 약이 열 가지가 넘어가니까 스트레스야.   \n",
       "2        고등학교에 올라오니 중학교 때보다 수업이 갑자기 어려워져서 당황스러워.   \n",
       "3  재취업이 돼서 받게 된 첫 월급으로 온 가족이 외식을 할 예정이야. 너무 행복해.   \n",
       "4                   빚을 드디어 다 갚게 되어서 이제야 안도감이 들어.   \n",
       "\n",
       "                                    시스템응답1  \\\n",
       "0                아내분이 출산을 하시는군요. 정말 축하드려요.   \n",
       "1                       약 종류가 많아 번거로우시겠어요.   \n",
       "2  고등학교 수업이 중학교 때와는 다르게 갑자기 어려워서 당황스러우시군요.   \n",
       "3                  재취업 후 첫 월급이라 정말 기쁘시겠어요.   \n",
       "4           기분 좋으시겠어요. 앞으로는 어떻게 하실 생각이신가요?   \n",
       "\n",
       "                                               사람문장2  \\\n",
       "0                                      아 지금 정말 신이 나.   \n",
       "1                        건강할 때 관리 좀 잘할걸 하는 생각이 들더라고.   \n",
       "2                  아직 학기 초인데 내가 수업에 잘 따라갈 수 있을지 걱정돼.   \n",
       "3  퇴직 후 다시는 돈을 못 벌 줄 알았는데 이렇게 월급으로 가족에게 맛있는 밥을 살 ...   \n",
       "4                  빚도 다 갚았으니 당분간은 아무 생각도 안 하며 살고 싶어.   \n",
       "\n",
       "                                 시스템응답2                               사람문장3  \\\n",
       "0                             잘 된 일이네요.  아기가 점점 클게 벌써 기대가 되네. 내가 많이 놀아줘야지.    \n",
       "1         현재 상황에서 변화를 주기 위해 어떻게 하면 될까요?          약을 잘 챙겨 먹고 나을 수 있도록 노력해야지.   \n",
       "2           이 상황에서 할 수 있는 게 어떤 것이 있을까요?       중학교 수업을 들을 때보다 훨씬 더 열심히 할 거야.   \n",
       "3               이 기분을 유지하려면 어떻게 해야 할까요?           회사생활을 열심히 해서 계속 월급을 받을거야!   \n",
       "4  빚도 다 갚았으니 당분간은 아무 생각도 안 하며 살고 싶으시군요.                                 NaN   \n",
       "\n",
       "                         시스템응답3                                      사람문장4  \\\n",
       "0  좋은 아빠가 되실 거 같아요. 진심으로 축하드려요.                                        NaN   \n",
       "1       약을 잘 챙겨 먹어 건강해지시길 바랄게요.                                        NaN   \n",
       "2    수업을 어떤 방식으로 열심히 듣는게 좋을까요?   선생님이 강조하신 부분을 필기하고 집에서 매일 수업 내용을 복습하려고 해.   \n",
       "3   계속 원하시는 대로 회사생활이 이어지길 바랄게요.                                        NaN   \n",
       "4                           NaN                                        NaN   \n",
       "\n",
       "                     시스템응답4  \n",
       "0                       NaN  \n",
       "1                       NaN  \n",
       "2  열심히 해서 좋은 결과가 있었으면 좋겠어요.  \n",
       "3                       NaN  \n",
       "4                       NaN  "
      ]
     },
     "execution_count": 3,
     "metadata": {},
     "output_type": "execute_result"
    }
   ],
   "source": [
    "df = pd.read_excel('감성대화말뭉치(최종데이터)_Training.xlsx')\n",
    "df.head()"
   ]
  },
  {
   "cell_type": "code",
   "execution_count": 4,
   "id": "53b19b67",
   "metadata": {},
   "outputs": [
    {
     "data": {
      "text/html": [
       "<div>\n",
       "<style scoped>\n",
       "    .dataframe tbody tr th:only-of-type {\n",
       "        vertical-align: middle;\n",
       "    }\n",
       "\n",
       "    .dataframe tbody tr th {\n",
       "        vertical-align: top;\n",
       "    }\n",
       "\n",
       "    .dataframe thead th {\n",
       "        text-align: right;\n",
       "    }\n",
       "</style>\n",
       "<table border=\"1\" class=\"dataframe\">\n",
       "  <thead>\n",
       "    <tr style=\"text-align: right;\">\n",
       "      <th></th>\n",
       "      <th>성별</th>\n",
       "      <th>사람문장1</th>\n",
       "      <th>사람문장2</th>\n",
       "      <th>사람문장3</th>\n",
       "      <th>사람문장4</th>\n",
       "    </tr>\n",
       "  </thead>\n",
       "  <tbody>\n",
       "    <tr>\n",
       "      <th>0</th>\n",
       "      <td>남성</td>\n",
       "      <td>아내가 드디어 출산하게 되어서 정말 신이 나.</td>\n",
       "      <td>아 지금 정말 신이 나.</td>\n",
       "      <td>아기가 점점 클게 벌써 기대가 되네. 내가 많이 놀아줘야지.</td>\n",
       "      <td>NaN</td>\n",
       "    </tr>\n",
       "    <tr>\n",
       "      <th>1</th>\n",
       "      <td>남성</td>\n",
       "      <td>당뇨랑 합병증 때문에 먹어야 할 약이 열 가지가 넘어가니까 스트레스야.</td>\n",
       "      <td>건강할 때 관리 좀 잘할걸 하는 생각이 들더라고.</td>\n",
       "      <td>약을 잘 챙겨 먹고 나을 수 있도록 노력해야지.</td>\n",
       "      <td>NaN</td>\n",
       "    </tr>\n",
       "    <tr>\n",
       "      <th>2</th>\n",
       "      <td>여성</td>\n",
       "      <td>고등학교에 올라오니 중학교 때보다 수업이 갑자기 어려워져서 당황스러워.</td>\n",
       "      <td>아직 학기 초인데 내가 수업에 잘 따라갈 수 있을지 걱정돼.</td>\n",
       "      <td>중학교 수업을 들을 때보다 훨씬 더 열심히 할 거야.</td>\n",
       "      <td>선생님이 강조하신 부분을 필기하고 집에서 매일 수업 내용을 복습하려고 해.</td>\n",
       "    </tr>\n",
       "    <tr>\n",
       "      <th>3</th>\n",
       "      <td>남성</td>\n",
       "      <td>재취업이 돼서 받게 된 첫 월급으로 온 가족이 외식을 할 예정이야. 너무 행복해.</td>\n",
       "      <td>퇴직 후 다시는 돈을 못 벌 줄 알았는데 이렇게 월급으로 가족에게 맛있는 밥을 살 ...</td>\n",
       "      <td>회사생활을 열심히 해서 계속 월급을 받을거야!</td>\n",
       "      <td>NaN</td>\n",
       "    </tr>\n",
       "    <tr>\n",
       "      <th>4</th>\n",
       "      <td>여성</td>\n",
       "      <td>빚을 드디어 다 갚게 되어서 이제야 안도감이 들어.</td>\n",
       "      <td>빚도 다 갚았으니 당분간은 아무 생각도 안 하며 살고 싶어.</td>\n",
       "      <td>NaN</td>\n",
       "      <td>NaN</td>\n",
       "    </tr>\n",
       "  </tbody>\n",
       "</table>\n",
       "</div>"
      ],
      "text/plain": [
       "   성별                                          사람문장1  \\\n",
       "0  남성                      아내가 드디어 출산하게 되어서 정말 신이 나.   \n",
       "1  남성        당뇨랑 합병증 때문에 먹어야 할 약이 열 가지가 넘어가니까 스트레스야.   \n",
       "2  여성        고등학교에 올라오니 중학교 때보다 수업이 갑자기 어려워져서 당황스러워.   \n",
       "3  남성  재취업이 돼서 받게 된 첫 월급으로 온 가족이 외식을 할 예정이야. 너무 행복해.   \n",
       "4  여성                   빚을 드디어 다 갚게 되어서 이제야 안도감이 들어.   \n",
       "\n",
       "                                               사람문장2  \\\n",
       "0                                      아 지금 정말 신이 나.   \n",
       "1                        건강할 때 관리 좀 잘할걸 하는 생각이 들더라고.   \n",
       "2                  아직 학기 초인데 내가 수업에 잘 따라갈 수 있을지 걱정돼.   \n",
       "3  퇴직 후 다시는 돈을 못 벌 줄 알았는데 이렇게 월급으로 가족에게 맛있는 밥을 살 ...   \n",
       "4                  빚도 다 갚았으니 당분간은 아무 생각도 안 하며 살고 싶어.   \n",
       "\n",
       "                                사람문장3  \\\n",
       "0  아기가 점점 클게 벌써 기대가 되네. 내가 많이 놀아줘야지.    \n",
       "1          약을 잘 챙겨 먹고 나을 수 있도록 노력해야지.   \n",
       "2       중학교 수업을 들을 때보다 훨씬 더 열심히 할 거야.   \n",
       "3           회사생활을 열심히 해서 계속 월급을 받을거야!   \n",
       "4                                 NaN   \n",
       "\n",
       "                                       사람문장4  \n",
       "0                                        NaN  \n",
       "1                                        NaN  \n",
       "2  선생님이 강조하신 부분을 필기하고 집에서 매일 수업 내용을 복습하려고 해.  \n",
       "3                                        NaN  \n",
       "4                                        NaN  "
      ]
     },
     "execution_count": 4,
     "metadata": {},
     "output_type": "execute_result"
    }
   ],
   "source": [
    "data = df.loc[:,['성별','사람문장1','사람문장2','사람문장3','사람문장4']]\n",
    "data.head()"
   ]
  },
  {
   "cell_type": "code",
   "execution_count": 5,
   "id": "c1407281",
   "metadata": {},
   "outputs": [],
   "source": [
    "data_fill = data.fillna(' ')"
   ]
  },
  {
   "cell_type": "code",
   "execution_count": 6,
   "id": "dc6d2214",
   "metadata": {},
   "outputs": [],
   "source": [
    "data_sentence = data_fill.iloc[:,1:].sum(axis =1)"
   ]
  },
  {
   "cell_type": "code",
   "execution_count": 7,
   "id": "b1c4c979",
   "metadata": {},
   "outputs": [
    {
     "name": "stdout",
     "output_type": "stream",
     "text": [
      "filepath:  C:\\Anaconda3\\lib\\site-packages\n",
      "classpath:  C:\\Anaconda3\\lib\\site-packages\\rhinoMorph/lib/rhino.jar\n",
      "RHINO started!\n"
     ]
    }
   ],
   "source": [
    "import rhinoMorph\n",
    "rn = rhinoMorph.startRhino()"
   ]
  },
  {
   "cell_type": "code",
   "execution_count": 8,
   "id": "0fb2a6f9",
   "metadata": {},
   "outputs": [],
   "source": [
    "from tqdm import tqdm"
   ]
  },
  {
   "cell_type": "code",
   "execution_count": 9,
   "id": "d8424e2c",
   "metadata": {},
   "outputs": [
    {
     "name": "stderr",
     "output_type": "stream",
     "text": [
      "100%|███████████████████████████████████████████████████████████████████████████| 40879/40879 [00:45<00:00, 892.68it/s]\n"
     ]
    }
   ],
   "source": [
    "morphed_data = []\n",
    "for data_each in tqdm(data_sentence):\n",
    "    morphed_data_each = rhinoMorph.onlyMorph_list(rn, data_each,\n",
    "                                                 pos = ['NNP','NNG','VV','VA','XR','IC','MM','MAG','MAJ','EF'])\n",
    "    joined_data_each = ' '.join(morphed_data_each)\n",
    "    morphed_data.append(joined_data_each)"
   ]
  },
  {
   "cell_type": "code",
   "execution_count": 10,
   "id": "ed9b4293",
   "metadata": {},
   "outputs": [],
   "source": [
    "data_sentence = pd.DataFrame(morphed_data, columns = ['사람문장'])"
   ]
  },
  {
   "cell_type": "code",
   "execution_count": 11,
   "id": "46ff6809",
   "metadata": {},
   "outputs": [],
   "source": [
    "X = data_sentence['사람문장']\n",
    "y = data_fill['성별']"
   ]
  },
  {
   "cell_type": "code",
   "execution_count": 12,
   "id": "9ef0f207",
   "metadata": {},
   "outputs": [],
   "source": [
    "from sklearn.model_selection import train_test_split"
   ]
  },
  {
   "cell_type": "code",
   "execution_count": 13,
   "id": "bf5cebad",
   "metadata": {},
   "outputs": [],
   "source": [
    "train_X, test_X, train_y, test_y = train_test_split(X,y, random_state=1111)"
   ]
  },
  {
   "cell_type": "code",
   "execution_count": 14,
   "id": "0f45f73f",
   "metadata": {},
   "outputs": [
    {
     "data": {
      "text/plain": [
       "array([0, 1, 1, ..., 0, 0, 1])"
      ]
     },
     "execution_count": 14,
     "metadata": {},
     "output_type": "execute_result"
    }
   ],
   "source": [
    "from sklearn.preprocessing import LabelEncoder\n",
    "e = LabelEncoder()\n",
    "e.fit(train_y)\n",
    "train_y = e.transform(train_y)\n",
    "train_y"
   ]
  },
  {
   "cell_type": "code",
   "execution_count": 15,
   "id": "bc77fe1d",
   "metadata": {},
   "outputs": [],
   "source": [
    "text_len = [len(line.split(' ')) for line in X]"
   ]
  },
  {
   "cell_type": "code",
   "execution_count": 16,
   "id": "21ff34ae",
   "metadata": {},
   "outputs": [
    {
     "name": "stdout",
     "output_type": "stream",
     "text": [
      "최소길이 : 4\n",
      "최대길이 : 79\n",
      "평균길이 : 23.7\n",
      "중위수길이 : 24.0\n",
      "구간별 최대 길이 : [ 4. 19. 24. 28. 42. 79.]\n",
      "최소길이 문장 : 친구 눈물 친구 거짓말\n",
      "최대길이 문장 : 어제 아들 무슨 잘못 하 야단 좀 치 글쎄 말 엄마 하 아 줄 있 기가 막히 네 애 뒷바라지 하 얼마나 고생 하 아들 그림 좀 잘 그리 편 한데 내가 아 미대 절대 안 되 그림 도구 같 다 버리 근데 부모 되 자식 진로 대하 결정 하 있 어 애가 공부 시간 없 틈 나 붓 잡 있 화 나 그리하 아들 좀 미안 하 마음 있 한데 그렇 부모 그렇게 말 하 더 나쁘 ㄴ가\n"
     ]
    }
   ],
   "source": [
    "print('최소길이 : {}\\n최대길이 : {}\\n평균길이 : {}\\n중위수길이 : {}\\n구간별 최대 길이 : {}\\n최소길이 문장 : {}\\n최대길이 문장 : {}'.format(np.min(text_len),np.max(text_len),np.round(np.mean(text_len),1), np.median(text_len), np.percentile(text_len, [0,25,50,75,99,100]), X[np.argmin(text_len)], X[np.argmax(text_len)]))"
   ]
  },
  {
   "cell_type": "markdown",
   "id": "f1c00052",
   "metadata": {},
   "source": [
    "# Tokenizing"
   ]
  },
  {
   "cell_type": "code",
   "execution_count": 17,
   "id": "f9ef84a3",
   "metadata": {},
   "outputs": [],
   "source": [
    "from keras.preprocessing.text import Tokenizer\n",
    "from tensorflow.keras.preprocessing.sequence import pad_sequences"
   ]
  },
  {
   "cell_type": "code",
   "execution_count": 18,
   "id": "1a8126b7",
   "metadata": {},
   "outputs": [],
   "source": [
    "max_words = 10000\n",
    "maxlen = 40"
   ]
  },
  {
   "cell_type": "code",
   "execution_count": 19,
   "id": "7813a13e",
   "metadata": {},
   "outputs": [],
   "source": [
    "tokenizer = Tokenizer(num_words=max_words)\n",
    "tokenizer.fit_on_texts(train_X)"
   ]
  },
  {
   "cell_type": "code",
   "execution_count": 20,
   "id": "fa22ebaa",
   "metadata": {},
   "outputs": [],
   "source": [
    "data_sequencing = tokenizer.texts_to_sequences(train_X)"
   ]
  },
  {
   "cell_type": "markdown",
   "id": "f1100061",
   "metadata": {},
   "source": [
    "# Padding"
   ]
  },
  {
   "cell_type": "code",
   "execution_count": 21,
   "id": "a919f991",
   "metadata": {},
   "outputs": [],
   "source": [
    "data_padding = pad_sequences(data_sequencing, maxlen=maxlen)"
   ]
  },
  {
   "cell_type": "code",
   "execution_count": 22,
   "id": "b2717ad3",
   "metadata": {},
   "outputs": [],
   "source": [
    "import math"
   ]
  },
  {
   "cell_type": "markdown",
   "id": "53d016ae",
   "metadata": {},
   "source": [
    "# One-Hot Encoding"
   ]
  },
  {
   "cell_type": "code",
   "execution_count": 23,
   "id": "7205fc04",
   "metadata": {},
   "outputs": [],
   "source": [
    "def to_one_hot(sequences, dimension):\n",
    "    results = np.zeros((len(sequences),dimension))\n",
    "    for i, sequence in enumerate(sequences):\n",
    "        results[i, sequence] = 1\n",
    "    return results"
   ]
  },
  {
   "cell_type": "code",
   "execution_count": 24,
   "id": "58fa9938",
   "metadata": {},
   "outputs": [],
   "source": [
    "data_1_hot = to_one_hot(data_padding, dimension=max_words)\n",
    "labels = np.array(train_y).astype('float32')"
   ]
  },
  {
   "cell_type": "code",
   "execution_count": 25,
   "id": "94af487a",
   "metadata": {},
   "outputs": [],
   "source": [
    "validation_ratio = 0.3\n",
    "validation_len = math.floor(len(train_X)*validation_ratio)\n",
    "\n",
    "train_X = data_1_hot[validation_len:]\n",
    "train_y = labels[validation_len:]\n",
    "val_X = data_1_hot[:validation_len]\n",
    "val_y = labels[:validation_len]"
   ]
  },
  {
   "cell_type": "markdown",
   "id": "83b09b97",
   "metadata": {},
   "source": [
    "#  모델 설계"
   ]
  },
  {
   "cell_type": "code",
   "execution_count": 26,
   "id": "67225223",
   "metadata": {},
   "outputs": [],
   "source": [
    "from keras.models import Sequential\n",
    "from keras.layers import Dense"
   ]
  },
  {
   "cell_type": "code",
   "execution_count": 27,
   "id": "eba08797",
   "metadata": {},
   "outputs": [
    {
     "name": "stdout",
     "output_type": "stream",
     "text": [
      "Model: \"sequential\"\n",
      "_________________________________________________________________\n",
      " Layer (type)                Output Shape              Param #   \n",
      "=================================================================\n",
      " dense (Dense)               (None, 64)                640064    \n",
      "                                                                 \n",
      " dense_1 (Dense)             (None, 32)                2080      \n",
      "                                                                 \n",
      " dense_2 (Dense)             (None, 1)                 33        \n",
      "                                                                 \n",
      "=================================================================\n",
      "Total params: 642,177\n",
      "Trainable params: 642,177\n",
      "Non-trainable params: 0\n",
      "_________________________________________________________________\n"
     ]
    }
   ],
   "source": [
    "model = Sequential()\n",
    "model.add(Dense(64,activation='relu', input_shape=(max_words,)))\n",
    "model.add(Dense(32, activation = 'relu'))\n",
    "model.add(Dense(1, activation = 'sigmoid'))\n",
    "model.summary()"
   ]
  },
  {
   "cell_type": "code",
   "execution_count": 28,
   "id": "3e4531ef",
   "metadata": {},
   "outputs": [],
   "source": [
    "from keras.callbacks import ModelCheckpoint\n",
    "callbacks = ModelCheckpoint(\n",
    "    filepath = 'C:/pytest/Problem/Problem2_20221007/problem2_model03.h5', \n",
    "    monitor = 'val_loss', verbose =1, save_best_only=True)"
   ]
  },
  {
   "cell_type": "code",
   "execution_count": 29,
   "id": "249f305e",
   "metadata": {
    "scrolled": true
   },
   "outputs": [
    {
     "name": "stdout",
     "output_type": "stream",
     "text": [
      "Epoch 1/10\n",
      "662/671 [============================>.] - ETA: 0s - loss: 0.6137 - acc: 0.6366\n",
      "Epoch 1: val_loss improved from inf to 0.58274, saving model to C:/pytest/Problem/Problem2_20221007\\problem2_model03.h5\n",
      "671/671 [==============================] - 5s 6ms/step - loss: 0.6130 - acc: 0.6368 - val_loss: 0.5827 - val_acc: 0.6589\n",
      "Epoch 2/10\n",
      "655/671 [============================>.] - ETA: 0s - loss: 0.4794 - acc: 0.7572\n",
      "Epoch 2: val_loss did not improve from 0.58274\n",
      "671/671 [==============================] - 3s 4ms/step - loss: 0.4789 - acc: 0.7575 - val_loss: 0.6200 - val_acc: 0.6627\n",
      "Epoch 3/10\n",
      "664/671 [============================>.] - ETA: 0s - loss: 0.2978 - acc: 0.8688\n",
      "Epoch 3: val_loss did not improve from 0.58274\n",
      "671/671 [==============================] - 3s 4ms/step - loss: 0.2980 - acc: 0.8691 - val_loss: 0.7666 - val_acc: 0.6524\n",
      "Epoch 4/10\n",
      "660/671 [============================>.] - ETA: 0s - loss: 0.1200 - acc: 0.9560\n",
      "Epoch 4: val_loss did not improve from 0.58274\n",
      "671/671 [==============================] - 3s 4ms/step - loss: 0.1201 - acc: 0.9561 - val_loss: 1.1741 - val_acc: 0.6549\n",
      "Epoch 5/10\n",
      "670/671 [============================>.] - ETA: 0s - loss: 0.0386 - acc: 0.9894\n",
      "Epoch 5: val_loss did not improve from 0.58274\n",
      "671/671 [==============================] - 3s 4ms/step - loss: 0.0387 - acc: 0.9893 - val_loss: 1.5282 - val_acc: 0.6616\n",
      "Epoch 6/10\n",
      "657/671 [============================>.] - ETA: 0s - loss: 0.0114 - acc: 0.9977\n",
      "Epoch 6: val_loss did not improve from 0.58274\n",
      "671/671 [==============================] - 2s 4ms/step - loss: 0.0114 - acc: 0.9977 - val_loss: 1.9203 - val_acc: 0.6589\n",
      "Epoch 7/10\n",
      "671/671 [==============================] - ETA: 0s - loss: 0.0038 - acc: 0.9995\n",
      "Epoch 7: val_loss did not improve from 0.58274\n",
      "671/671 [==============================] - 3s 4ms/step - loss: 0.0038 - acc: 0.9995 - val_loss: 2.1307 - val_acc: 0.6566\n",
      "Epoch 8/10\n",
      "660/671 [============================>.] - ETA: 0s - loss: 9.6906e-04 - acc: 1.0000\n",
      "Epoch 8: val_loss did not improve from 0.58274\n",
      "671/671 [==============================] - 2s 4ms/step - loss: 9.6223e-04 - acc: 1.0000 - val_loss: 2.3453 - val_acc: 0.6559\n",
      "Epoch 9/10\n",
      "670/671 [============================>.] - ETA: 0s - loss: 3.6738e-04 - acc: 1.0000\n",
      "Epoch 9: val_loss did not improve from 0.58274\n",
      "671/671 [==============================] - 3s 4ms/step - loss: 3.6706e-04 - acc: 1.0000 - val_loss: 2.4928 - val_acc: 0.6560\n",
      "Epoch 10/10\n",
      "668/671 [============================>.] - ETA: 0s - loss: 2.0773e-04 - acc: 1.0000\n",
      "Epoch 10: val_loss did not improve from 0.58274\n",
      "671/671 [==============================] - 3s 4ms/step - loss: 2.0734e-04 - acc: 1.0000 - val_loss: 2.6047 - val_acc: 0.6553\n"
     ]
    }
   ],
   "source": [
    "model.compile(loss='binary_crossentropy',optimizer = 'adam',metrics = ['acc'])\n",
    "history  = model.fit(train_X, train_y, epochs = 10, batch_size = 32, validation_data = (val_X,val_y), callbacks = [callbacks])\n",
    "history_dict = history.history"
   ]
  },
  {
   "cell_type": "code",
   "execution_count": 30,
   "id": "229c93fd",
   "metadata": {},
   "outputs": [],
   "source": [
    "# os.makedirs('C:/pytest/Problem/Problem2_20221007/')"
   ]
  },
  {
   "cell_type": "code",
   "execution_count": 31,
   "id": "69b49205",
   "metadata": {},
   "outputs": [],
   "source": [
    "test_X_tokenizing = tokenizer.texts_to_sequences(test_X)"
   ]
  },
  {
   "cell_type": "code",
   "execution_count": 32,
   "id": "3a18811d",
   "metadata": {},
   "outputs": [],
   "source": [
    "test_X_padding = pad_sequences(test_X_tokenizing, maxlen=maxlen)"
   ]
  },
  {
   "cell_type": "code",
   "execution_count": 35,
   "id": "8788fb7e",
   "metadata": {},
   "outputs": [],
   "source": [
    "test_y = e.transform(test_y)"
   ]
  },
  {
   "cell_type": "code",
   "execution_count": 36,
   "id": "4e73747e",
   "metadata": {},
   "outputs": [],
   "source": [
    "test_X_1hot = to_one_hot(test_X_padding, dimension= max_words)\n",
    "test_y = np.asarray(test_y).astype('float32')"
   ]
  },
  {
   "cell_type": "code",
   "execution_count": 37,
   "id": "f1133937",
   "metadata": {},
   "outputs": [
    {
     "name": "stdout",
     "output_type": "stream",
     "text": [
      "320/320 [==============================] - 1s 2ms/step - loss: 2.5638 - acc: 0.6566\n"
     ]
    },
    {
     "data": {
      "text/plain": [
       "[2.5637638568878174, 0.6565557718276978]"
      ]
     },
     "execution_count": 37,
     "metadata": {},
     "output_type": "execute_result"
    }
   ],
   "source": [
    "model.evaluate(test_X_1hot, test_y)"
   ]
  },
  {
   "cell_type": "code",
   "execution_count": null,
   "id": "630ea255",
   "metadata": {},
   "outputs": [],
   "source": []
  }
 ],
 "metadata": {
  "kernelspec": {
   "display_name": "Python 3 (ipykernel)",
   "language": "python",
   "name": "python3"
  },
  "language_info": {
   "codemirror_mode": {
    "name": "ipython",
    "version": 3
   },
   "file_extension": ".py",
   "mimetype": "text/x-python",
   "name": "python",
   "nbconvert_exporter": "python",
   "pygments_lexer": "ipython3",
   "version": "3.7.4"
  }
 },
 "nbformat": 4,
 "nbformat_minor": 5
}
