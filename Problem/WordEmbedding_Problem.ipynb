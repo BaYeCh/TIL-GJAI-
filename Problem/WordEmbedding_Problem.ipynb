{
 "cells": [
  {
   "cell_type": "code",
   "execution_count": 1,
   "id": "54c41061",
   "metadata": {},
   "outputs": [],
   "source": [
    "import os\n",
    "path = 'C:/pytest/'\n",
    "os.chdir(path)"
   ]
  },
  {
   "cell_type": "code",
   "execution_count": 2,
   "id": "525a40ec",
   "metadata": {},
   "outputs": [],
   "source": [
    "import numpy as np\n",
    "import pandas as pd\n",
    "import tensorflow as tf"
   ]
  },
  {
   "cell_type": "code",
   "execution_count": 79,
   "id": "ae2c63aa",
   "metadata": {},
   "outputs": [
    {
     "name": "stdout",
     "output_type": "stream",
     "text": [
      "WARNING:tensorflow:From C:\\Users\\광주인공지능사관학교\\AppData\\Local\\Temp\\ipykernel_7916\\2874510872.py:1: experimental_run_functions_eagerly (from tensorflow.python.eager.def_function) is deprecated and will be removed in a future version.\n",
      "Instructions for updating:\n",
      "Use `tf.config.run_functions_eagerly` instead of the experimental version.\n"
     ]
    }
   ],
   "source": [
    "tf.config.run_functions_eagerly(True)"
   ]
  },
  {
   "cell_type": "code",
   "execution_count": 3,
   "id": "5c62884c",
   "metadata": {},
   "outputs": [
    {
     "name": "stdout",
     "output_type": "stream",
     "text": [
      "filepath:  C:\\Anaconda3\\lib\\site-packages\n",
      "classpath:  C:\\Anaconda3\\lib\\site-packages\\rhinoMorph/lib/rhino.jar\n",
      "RHINO started!\n"
     ]
    }
   ],
   "source": [
    "import rhinoMorph\n",
    "rn = rhinoMorph.startRhino()"
   ]
  },
  {
   "cell_type": "code",
   "execution_count": 4,
   "id": "dd5577f8",
   "metadata": {},
   "outputs": [],
   "source": [
    "data = pd.read_excel('감성대화말뭉치(최종데이터)_Training.xlsx')"
   ]
  },
  {
   "cell_type": "code",
   "execution_count": 5,
   "id": "3e133929",
   "metadata": {},
   "outputs": [],
   "source": [
    "data_sent1 = data.loc[:,['연령','감정_대분류','사람문장1']]\n",
    "data_sent1.columns = ['연령','감정_대분류','사람문장']\n",
    "data_sent2 = data.loc[:,['연령','감정_대분류','사람문장2']]\n",
    "data_sent2.columns = ['연령','감정_대분류','사람문장']\n",
    "data_sent3 = data.loc[:,['연령','감정_대분류','사람문장3']]\n",
    "data_sent3.columns = ['연령','감정_대분류','사람문장']\n",
    "data_sent4 = data.loc[:,['연령','감정_대분류','사람문장4']]\n",
    "data_sent4.columns = ['연령','감정_대분류','사람문장']"
   ]
  },
  {
   "cell_type": "code",
   "execution_count": 6,
   "id": "0dd415d5",
   "metadata": {},
   "outputs": [],
   "source": [
    "data_tot = pd.concat([data_sent1,data_sent2,data_sent3,data_sent4])"
   ]
  },
  {
   "cell_type": "code",
   "execution_count": 7,
   "id": "07b5a0b0",
   "metadata": {},
   "outputs": [],
   "source": [
    "data_tot.dropna(inplace=True)"
   ]
  },
  {
   "cell_type": "code",
   "execution_count": 8,
   "id": "4fa136e0",
   "metadata": {},
   "outputs": [],
   "source": [
    "age_y = data_tot['연령']\n",
    "emotion_y = data_tot['감정_대분류']"
   ]
  },
  {
   "cell_type": "code",
   "execution_count": 27,
   "id": "692e7799",
   "metadata": {},
   "outputs": [
    {
     "data": {
      "text/plain": [
       "pandas.core.series.Series"
      ]
     },
     "execution_count": 27,
     "metadata": {},
     "output_type": "execute_result"
    }
   ],
   "source": [
    "X = pd.read_excel('morphed_X.xlsx')['사람문장']"
   ]
  },
  {
   "cell_type": "code",
   "execution_count": 42,
   "id": "d8cb54f1",
   "metadata": {},
   "outputs": [],
   "source": [
    "# X = data_tot['사람문장']\n",
    "age_y = data_tot['연령'].reset_index(drop = True)\n",
    "emotion_y = data_tot['감정_대분류'].str.strip().reset_index(drop = True)"
   ]
  },
  {
   "cell_type": "code",
   "execution_count": 25,
   "id": "679872a5",
   "metadata": {},
   "outputs": [
    {
     "data": {
      "text/plain": [
       "array(['기쁨', '불안', '당황', '슬픔', '분노', '상처'], dtype=object)"
      ]
     },
     "execution_count": 25,
     "metadata": {},
     "output_type": "execute_result"
    }
   ],
   "source": [
    "emotion_y.unique()"
   ]
  },
  {
   "cell_type": "code",
   "execution_count": 44,
   "id": "e8d53931",
   "metadata": {},
   "outputs": [
    {
     "data": {
      "text/html": [
       "<div>\n",
       "<style scoped>\n",
       "    .dataframe tbody tr th:only-of-type {\n",
       "        vertical-align: middle;\n",
       "    }\n",
       "\n",
       "    .dataframe tbody tr th {\n",
       "        vertical-align: top;\n",
       "    }\n",
       "\n",
       "    .dataframe thead th {\n",
       "        text-align: right;\n",
       "    }\n",
       "</style>\n",
       "<table border=\"1\" class=\"dataframe\">\n",
       "  <thead>\n",
       "    <tr style=\"text-align: right;\">\n",
       "      <th></th>\n",
       "      <th>사람문장</th>\n",
       "      <th>감정_대분류</th>\n",
       "    </tr>\n",
       "  </thead>\n",
       "  <tbody>\n",
       "    <tr>\n",
       "      <th>0</th>\n",
       "      <td>아내 드디어 출산 되 정말 신 나</td>\n",
       "      <td>기쁨</td>\n",
       "    </tr>\n",
       "    <tr>\n",
       "      <th>1</th>\n",
       "      <td>당뇨 합병증 약이 가지 넘어가 스트레스</td>\n",
       "      <td>불안</td>\n",
       "    </tr>\n",
       "    <tr>\n",
       "      <th>2</th>\n",
       "      <td>고등학교 올라오 중학교 때 수업 갑자기 어렵 당황</td>\n",
       "      <td>당황</td>\n",
       "    </tr>\n",
       "    <tr>\n",
       "      <th>3</th>\n",
       "      <td>재취업 되 받 되 첫 월급 오 가족 외식 하 예정 너무 행복</td>\n",
       "      <td>기쁨</td>\n",
       "    </tr>\n",
       "    <tr>\n",
       "      <th>4</th>\n",
       "      <td>빚 드디어 다 갚 되 이제야 안도감 들</td>\n",
       "      <td>기쁨</td>\n",
       "    </tr>\n",
       "  </tbody>\n",
       "</table>\n",
       "</div>"
      ],
      "text/plain": [
       "                                사람문장 감정_대분류\n",
       "0                 아내 드디어 출산 되 정말 신 나     기쁨\n",
       "1              당뇨 합병증 약이 가지 넘어가 스트레스     불안\n",
       "2        고등학교 올라오 중학교 때 수업 갑자기 어렵 당황     당황\n",
       "3  재취업 되 받 되 첫 월급 오 가족 외식 하 예정 너무 행복     기쁨\n",
       "4              빚 드디어 다 갚 되 이제야 안도감 들     기쁨"
      ]
     },
     "execution_count": 44,
     "metadata": {},
     "output_type": "execute_result"
    }
   ],
   "source": [
    "emotion_tot = pd.concat([X, emotion_y], axis = 1)\n",
    "emotion_tot.head()"
   ]
  },
  {
   "cell_type": "code",
   "execution_count": 45,
   "id": "496d128c",
   "metadata": {},
   "outputs": [
    {
     "data": {
      "text/plain": [
       "array(['기쁨', '슬픔', '분노'], dtype=object)"
      ]
     },
     "execution_count": 45,
     "metadata": {},
     "output_type": "execute_result"
    }
   ],
   "source": [
    "emotion_excluded = emotion_tot[(emotion_tot.감정_대분류 !='당황') & (emotion_tot.감정_대분류 !='불안') & (emotion_tot.감정_대분류 !='상처')]\n",
    "emotion_excluded['감정_대분류'].unique()"
   ]
  },
  {
   "cell_type": "code",
   "execution_count": 46,
   "id": "c71d40c0",
   "metadata": {},
   "outputs": [],
   "source": [
    "emotion_X  = emotion_excluded['사람문장']\n",
    "emotion_y = emotion_excluded['감정_대분류']"
   ]
  },
  {
   "cell_type": "code",
   "execution_count": 10,
   "id": "ca495f07",
   "metadata": {},
   "outputs": [],
   "source": [
    "# morphed_data = []\n",
    "# for morphed_data_each in X:\n",
    "#     morphed_text = rhinoMorph.onlyMorph_list(rn,morphed_data_each, pos = ['NNG','NNP','VV','VA','XR','IC','MM','MAG','MAJ'])\n",
    "#     joined_text = ' '.join(morphed_text)\n",
    "#     morphed_data.append(joined_text)"
   ]
  },
  {
   "cell_type": "code",
   "execution_count": 11,
   "id": "5ff25d6d",
   "metadata": {},
   "outputs": [],
   "source": [
    "# morphed_X = pd.DataFrame(morphed_data, columns = ['사람문장'])\n",
    "# morphed_X.to_excel('morphed_X.xlsx',index=False)"
   ]
  },
  {
   "cell_type": "code",
   "execution_count": 48,
   "id": "2cf83085",
   "metadata": {},
   "outputs": [
    {
     "name": "stdout",
     "output_type": "stream",
     "text": [
      "80002 34287\n",
      "40246 17249\n"
     ]
    }
   ],
   "source": [
    "from sklearn.model_selection import train_test_split\n",
    "# age\n",
    "train_age_X, test_age_X, train_age_y, test_age_y = train_test_split(X, age_y,train_size=0.7, random_state=1111)\n",
    "print(len(train_age_X), len(test_age_X))\n",
    "# emotion\n",
    "train_emo_X, test_emo_X, train_emo_y, test_emo_y = train_test_split(emotion_X, emotion_y,train_size=0.7, random_state=1111)\n",
    "print(len(train_emo_X), len(test_emo_X))\n"
   ]
  },
  {
   "cell_type": "code",
   "execution_count": 50,
   "id": "5c38208e",
   "metadata": {},
   "outputs": [
    {
     "name": "stdout",
     "output_type": "stream",
     "text": [
      "age\n",
      "최소길이 : 1\n",
      "최대 길이 : 30\n",
      "평균 길이 : 7.9\n",
      "중위수 길이 : 8.0\n",
      "구간별 최대 길이 : [ 1.  6.  8. 10. 16. 30.]\n",
      "emotion\n",
      "최소길이 : 1\n",
      "최대 길이 : 28\n",
      "평균 길이 : 7.9\n",
      "중위수 길이 : 8.0\n",
      "구간별 최대 길이 : [ 1.  6.  8. 10. 16. 28.]\n"
     ]
    }
   ],
   "source": [
    "text_len = [len(line.split(' ')) for line in train_age_X]\n",
    "print('age\\n최소길이 : {}\\n최대 길이 : {}\\n평균 길이 : {}\\n중위수 길이 : {}\\n구간별 최대 길이 : {}'.format(np.min(text_len), np.max(text_len), np.round(np.mean(text_len), 1), np.median(text_len), np.percentile(text_len, [0,25,50,75,99,100])))\n",
    "text_len = [len(line.split(' ')) for line in train_emo_X]\n",
    "print('emotion\\n최소길이 : {}\\n최대 길이 : {}\\n평균 길이 : {}\\n중위수 길이 : {}\\n구간별 최대 길이 : {}'.format(np.min(text_len), np.max(text_len), np.round(np.mean(text_len), 1), np.median(text_len), np.percentile(text_len, [0,25,50,75,99,100])))"
   ]
  },
  {
   "cell_type": "code",
   "execution_count": 51,
   "id": "8b9e6738",
   "metadata": {},
   "outputs": [],
   "source": [
    "from keras.preprocessing.text import Tokenizer\n",
    "from tensorflow.keras.preprocessing.sequence import pad_sequences\n",
    "max_words = 10000\n",
    "maxlen = 16"
   ]
  },
  {
   "cell_type": "code",
   "execution_count": 52,
   "id": "8da39dfc",
   "metadata": {},
   "outputs": [],
   "source": [
    "# tokenizing\n",
    "# age\n",
    "tokenizer_age = Tokenizer(num_words= max_words)\n",
    "tokenizer_age.fit_on_texts(train_age_X)\n",
    "word_index_age = tokenizer_age.word_index\n",
    "# emo\n",
    "tokenizer_emo = Tokenizer(num_words= max_words)\n",
    "tokenizer_emo.fit_on_texts(train_emo_X)\n",
    "word_index_emo = tokenizer_emo.word_index"
   ]
  },
  {
   "cell_type": "code",
   "execution_count": 54,
   "id": "a38d4e85",
   "metadata": {},
   "outputs": [],
   "source": [
    "# sequencing\n",
    "# age\n",
    "train_age_X_sequencing = tokenizer_age.texts_to_sequences(train_age_X)\n",
    "train_emo_X_sequencing = tokenizer_emo.texts_to_sequences(train_emo_X)"
   ]
  },
  {
   "cell_type": "code",
   "execution_count": 55,
   "id": "68522bc6",
   "metadata": {},
   "outputs": [],
   "source": [
    "# padding\n",
    "train_age_X_padding = pad_sequences(train_age_X_sequencing, maxlen=maxlen)\n",
    "\n",
    "train_emo_X_padding = pad_sequences(train_emo_X_sequencing, maxlen=maxlen)"
   ]
  },
  {
   "cell_type": "code",
   "execution_count": 56,
   "id": "fc61489f",
   "metadata": {},
   "outputs": [],
   "source": [
    "# OHE\n",
    "def to_one_hot(sequences, dimension):\n",
    "    results = np.zeros((len(sequences),dimension))\n",
    "    for i, sequence in enumerate(sequences):\n",
    "        results[i, sequence] = 1\n",
    "    return results"
   ]
  },
  {
   "cell_type": "code",
   "execution_count": 20,
   "id": "d0e27666",
   "metadata": {},
   "outputs": [
    {
     "data": {
      "text/plain": [
       "array([[1., 0., 1., ..., 0., 0., 0.],\n",
       "       [0., 0., 0., ..., 0., 0., 0.],\n",
       "       [1., 0., 0., ..., 0., 0., 0.],\n",
       "       ...,\n",
       "       [1., 0., 0., ..., 0., 0., 0.],\n",
       "       [1., 0., 1., ..., 0., 0., 0.],\n",
       "       [1., 1., 0., ..., 0., 0., 0.]])"
      ]
     },
     "execution_count": 20,
     "metadata": {},
     "output_type": "execute_result"
    }
   ],
   "source": [
    "# train_emo_X_1hot = to_one_hot(train_emo_X_padding, dimension= max_words)\n",
    "# train_emo_X_1hot"
   ]
  },
  {
   "cell_type": "code",
   "execution_count": 21,
   "id": "1d45d7e3",
   "metadata": {},
   "outputs": [],
   "source": [
    "# train_emo_y = train_emo_y.str.strip()"
   ]
  },
  {
   "cell_type": "code",
   "execution_count": 22,
   "id": "2e0f636b",
   "metadata": {},
   "outputs": [
    {
     "data": {
      "text/plain": [
       "Series([], Name: 감정_대분류, dtype: object)"
      ]
     },
     "execution_count": 22,
     "metadata": {},
     "output_type": "execute_result"
    }
   ],
   "source": [
    "# train_emo_y[train_emo_y == '불안 ']"
   ]
  },
  {
   "cell_type": "code",
   "execution_count": 60,
   "id": "c3b6f9f2",
   "metadata": {},
   "outputs": [],
   "source": [
    "from sklearn.preprocessing import LabelEncoder\n",
    "e_age = LabelEncoder()\n",
    "e_age.fit(train_age_y)\n",
    "train_age_y_encoding = e_age.transform(train_age_y)\n",
    "e_emo = LabelEncoder()\n",
    "e_emo.fit(train_emo_y)\n",
    "train_emo_y_encoding = e_emo.transform(train_emo_y)"
   ]
  },
  {
   "cell_type": "code",
   "execution_count": 61,
   "id": "cd182263",
   "metadata": {},
   "outputs": [
    {
     "data": {
      "text/plain": [
       "array([2, 2, 2, ..., 0, 2, 2])"
      ]
     },
     "execution_count": 61,
     "metadata": {},
     "output_type": "execute_result"
    }
   ],
   "source": [
    "train_age_y_encoding"
   ]
  },
  {
   "cell_type": "code",
   "execution_count": 62,
   "id": "9d596ee2",
   "metadata": {},
   "outputs": [],
   "source": [
    "train_age_y_1hot = to_one_hot(train_age_y_encoding, dimension = train_age_y_encoding.max()+1)\n",
    "train_emo_y_1hot = to_one_hot(train_emo_y_encoding, dimension = train_emo_y_encoding.max()+1)"
   ]
  },
  {
   "cell_type": "code",
   "execution_count": 29,
   "id": "be93857f",
   "metadata": {},
   "outputs": [
    {
     "data": {
      "text/plain": [
       "80002"
      ]
     },
     "execution_count": 29,
     "metadata": {},
     "output_type": "execute_result"
    }
   ],
   "source": [
    "len(train_emo_X_1hot)"
   ]
  },
  {
   "cell_type": "code",
   "execution_count": 30,
   "id": "b75626fc",
   "metadata": {},
   "outputs": [
    {
     "data": {
      "text/plain": [
       "80002"
      ]
     },
     "execution_count": 30,
     "metadata": {},
     "output_type": "execute_result"
    }
   ],
   "source": [
    "len(train_emo_y_1hot)"
   ]
  },
  {
   "cell_type": "code",
   "execution_count": 64,
   "id": "f673567f",
   "metadata": {},
   "outputs": [],
   "source": [
    "train_train_age_X, train_valid_age_X, train_train_age_y, train_valid_age_y = train_test_split(train_age_X_padding, train_age_y_1hot, train_size = 0.7)\n",
    "train_train_emo_X, train_valid_emo_X, train_train_emo_y, train_valid_emo_y = train_test_split(train_emo_X_padding, train_emo_y_1hot, train_size = 0.7)"
   ]
  },
  {
   "cell_type": "code",
   "execution_count": 90,
   "id": "75125871",
   "metadata": {},
   "outputs": [],
   "source": [
    "embedding_dim = 200\n",
    "epochs = 20\n",
    "class_age_number = 4\n",
    "class_emo_number = 3\n",
    "batch_size = 100"
   ]
  },
  {
   "cell_type": "code",
   "execution_count": 91,
   "id": "c5b2807d",
   "metadata": {},
   "outputs": [
    {
     "name": "stdout",
     "output_type": "stream",
     "text": [
      "Model: \"sequential_3\"\n",
      "_________________________________________________________________\n",
      " Layer (type)                Output Shape              Param #   \n",
      "=================================================================\n",
      " embedding_2 (Embedding)     (None, 16, 200)           2000000   \n",
      "                                                                 \n",
      " flatten_2 (Flatten)         (None, 3200)              0         \n",
      "                                                                 \n",
      " dense_6 (Dense)             (None, 64)                204864    \n",
      "                                                                 \n",
      " dense_7 (Dense)             (None, 32)                2080      \n",
      "                                                                 \n",
      " dense_8 (Dense)             (None, 4)                 132       \n",
      "                                                                 \n",
      "=================================================================\n",
      "Total params: 2,207,076\n",
      "Trainable params: 2,207,076\n",
      "Non-trainable params: 0\n",
      "_________________________________________________________________\n"
     ]
    }
   ],
   "source": [
    "from keras.models import Sequential\n",
    "from keras.layers import Dense, Embedding,Flatten\n",
    "model_age = Sequential()\n",
    "model_age.add(Embedding(input_dim= max_words, output_dim= embedding_dim, input_length = maxlen))\n",
    "model_age.add(Flatten())\n",
    "model_age.add(Dense(64, activation = 'relu'))\n",
    "model_age.add(Dense(32, activation = 'relu'))\n",
    "model_age.add(Dense(class_age_number, activation = 'softmax'))\n",
    "model_age.summary()"
   ]
  },
  {
   "cell_type": "code",
   "execution_count": 92,
   "id": "21beb561",
   "metadata": {},
   "outputs": [
    {
     "name": "stdout",
     "output_type": "stream",
     "text": [
      "Model: \"sequential_4\"\n",
      "_________________________________________________________________\n",
      " Layer (type)                Output Shape              Param #   \n",
      "=================================================================\n",
      " embedding_3 (Embedding)     (None, 16, 200)           2000000   \n",
      "                                                                 \n",
      " flatten_3 (Flatten)         (None, 3200)              0         \n",
      "                                                                 \n",
      " dense_9 (Dense)             (None, 64)                204864    \n",
      "                                                                 \n",
      " dense_10 (Dense)            (None, 32)                2080      \n",
      "                                                                 \n",
      " dense_11 (Dense)            (None, 3)                 99        \n",
      "                                                                 \n",
      "=================================================================\n",
      "Total params: 2,207,043\n",
      "Trainable params: 2,207,043\n",
      "Non-trainable params: 0\n",
      "_________________________________________________________________\n"
     ]
    }
   ],
   "source": [
    "model_emo = Sequential()\n",
    "model_emo.add(Embedding(input_dim= max_words, output_dim= embedding_dim, input_length = maxlen))\n",
    "model_emo.add(Flatten())\n",
    "model_emo.add(Dense(64, activation = 'relu'))\n",
    "model_emo.add(Dense(32, activation = 'relu'))\n",
    "model_emo.add(Dense(class_emo_number, activation = 'softmax'))\n",
    "model_emo.summary()"
   ]
  },
  {
   "cell_type": "code",
   "execution_count": 93,
   "id": "55bc018a",
   "metadata": {},
   "outputs": [],
   "source": [
    "from keras.callbacks import EarlyStopping, ModelCheckpoint\n",
    "model_age.compile(loss= 'categorical_crossentropy', optimizer = 'rmsprop', metrics = ['acc'])\n",
    "model_emo.compile(loss= 'categorical_crossentropy', optimizer = 'rmsprop', metrics = ['acc'])\n"
   ]
  },
  {
   "cell_type": "code",
   "execution_count": 94,
   "id": "2676bbde",
   "metadata": {},
   "outputs": [],
   "source": [
    "es = EarlyStopping(monitor = 'val_acc', patience = 2)\n",
    "cp_age = ModelCheckpoint(filepath = 'C:/pytest/models/age_model03.h5', monitor = 'val_acc', verbose = 1, save_best_only= True)\n",
    "\n",
    "cp_emo = ModelCheckpoint(filepath = 'C:/pytest/models/emotion_model03.h5', monitor = 'val_acc', verbose = 1, save_best_only= True)\n",
    "# history = model.fit(train_train_X[:3000], train_train_y[:3000], epochs = 50, batch_size = 32, verbose = 1, callbacks = [es, cp], validation_data = (train_valid_X[:3000], train_valid_y[:3000]))\n",
    "# history_dict = history.history"
   ]
  },
  {
   "cell_type": "code",
   "execution_count": 95,
   "id": "46af04d5",
   "metadata": {},
   "outputs": [
    {
     "name": "stdout",
     "output_type": "stream",
     "text": [
      "Epoch 1/20\n",
      "561/561 [==============================] - ETA: 0s - loss: 0.9991 - acc: 0.5520\n",
      "Epoch 1: val_acc improved from -inf to 0.55539, saving model to C:/pytest/models\\age_model03.h5\n",
      "561/561 [==============================] - 16s 29ms/step - loss: 0.9991 - acc: 0.5520 - val_loss: 1.0114 - val_acc: 0.5554\n",
      "Epoch 2/20\n",
      "560/561 [============================>.] - ETA: 0s - loss: 0.7849 - acc: 0.6699\n",
      "Epoch 2: val_acc improved from 0.55539 to 0.60135, saving model to C:/pytest/models\\age_model03.h5\n",
      "561/561 [==============================] - 17s 29ms/step - loss: 0.7849 - acc: 0.6699 - val_loss: 0.9136 - val_acc: 0.6013\n",
      "Epoch 3/20\n",
      "560/561 [============================>.] - ETA: 0s - loss: 0.6726 - acc: 0.7270\n",
      "Epoch 3: val_acc did not improve from 0.60135\n",
      "561/561 [==============================] - 17s 30ms/step - loss: 0.6726 - acc: 0.7270 - val_loss: 0.9680 - val_acc: 0.5905\n",
      "Epoch 4/20\n",
      "560/561 [============================>.] - ETA: 0s - loss: 0.5661 - acc: 0.7772\n",
      "Epoch 4: val_acc did not improve from 0.60135\n",
      "561/561 [==============================] - 18s 31ms/step - loss: 0.5661 - acc: 0.7771 - val_loss: 1.0142 - val_acc: 0.5985\n"
     ]
    },
    {
     "data": {
      "text/plain": [
       "<keras.callbacks.History at 0x133efb67ec8>"
      ]
     },
     "execution_count": 95,
     "metadata": {},
     "output_type": "execute_result"
    }
   ],
   "source": [
    "# with tf.device('/CPU:0'):\n",
    "#     model.fit(train_train_X, train_train_y, epochs = 50, batch_size = 32, verbose = 1, callbacks = [es, cp], validation_data = (train_valid_X, train_valid_y))\n",
    "model_age.fit(train_train_age_X, train_train_age_y, epochs = epochs, batch_size = batch_size, verbose = 1, callbacks = [es, cp_age], validation_data = (train_valid_age_X, train_valid_age_y))"
   ]
  },
  {
   "cell_type": "code",
   "execution_count": 96,
   "id": "507c0a4c",
   "metadata": {},
   "outputs": [
    {
     "name": "stdout",
     "output_type": "stream",
     "text": [
      "Epoch 1/20\n",
      "280/282 [============================>.] - ETA: 0s - loss: 0.8116 - acc: 0.6130\n",
      "Epoch 1: val_acc improved from -inf to 0.67103, saving model to C:/pytest/models\\emotion_model03.h5\n",
      "282/282 [==============================] - 9s 31ms/step - loss: 0.8108 - acc: 0.6136 - val_loss: 0.7267 - val_acc: 0.6710\n",
      "Epoch 2/20\n",
      "280/282 [============================>.] - ETA: 0s - loss: 0.5960 - acc: 0.7484\n",
      "Epoch 2: val_acc did not improve from 0.67103\n",
      "282/282 [==============================] - 9s 31ms/step - loss: 0.5958 - acc: 0.7485 - val_loss: 0.7323 - val_acc: 0.6674\n",
      "Epoch 3/20\n",
      "282/282 [==============================] - ETA: 0s - loss: 0.4573 - acc: 0.8189\n",
      "Epoch 3: val_acc did not improve from 0.67103\n",
      "282/282 [==============================] - 9s 30ms/step - loss: 0.4573 - acc: 0.8189 - val_loss: 0.8248 - val_acc: 0.6590\n"
     ]
    },
    {
     "data": {
      "text/plain": [
       "<keras.callbacks.History at 0x133efb98e08>"
      ]
     },
     "execution_count": 96,
     "metadata": {},
     "output_type": "execute_result"
    }
   ],
   "source": [
    "model_emo.fit(train_train_emo_X, train_train_emo_y, epochs = epochs, batch_size = batch_size, verbose = 1, callbacks = [es, cp_emo], validation_data = (train_valid_emo_X, train_valid_emo_y))"
   ]
  },
  {
   "cell_type": "code",
   "execution_count": 83,
   "id": "79114a36",
   "metadata": {},
   "outputs": [],
   "source": [
    "import pickle\n",
    "with open('C:/pytest/models/age_tokenizer.pickle', 'wb') as f:\n",
    "    pickle.dump(tokenizer_age, f, protocol= pickle.HIGHEST_PROTOCOL)\n",
    "with open('C:/pytest/models/emotion_tokenizer.pickle', 'wb') as f:\n",
    "    pickle.dump(tokenizer_emo, f, protocol= pickle.HIGHEST_PROTOCOL)"
   ]
  },
  {
   "cell_type": "code",
   "execution_count": 84,
   "id": "ed06cc19",
   "metadata": {},
   "outputs": [],
   "source": [
    "# tokenizing\n",
    "test_age_X_sequnecing = tokenizer_age.texts_to_sequences(test_age_X)\n",
    "# padding\n",
    "test_age_X_padding = pad_sequences(test_age_X_sequnecing, maxlen= maxlen)\n",
    "# test_y label\n",
    "test_age_y_encoding = e_age.transform(test_age_y)\n",
    "# OHE\n",
    "test_age_y_1hot = to_one_hot(test_age_y_encoding, dimension= test_age_y_encoding.max()+1)\n",
    "\n",
    "# tokenizing\n",
    "test_emo_X_sequnecing = tokenizer_emo.texts_to_sequences(test_emo_X)\n",
    "# padding\n",
    "test_emo_X_padding = pad_sequences(test_emo_X_sequnecing, maxlen= maxlen)\n",
    "\n",
    "# test_y label\n",
    "test_emo_y_encoding = e_emo.transform(test_emo_y)\n",
    "# OHE\n",
    "test_emo_y_1hot = to_one_hot(test_emo_y_encoding, dimension= test_emo_y_encoding.max()+1)"
   ]
  },
  {
   "cell_type": "code",
   "execution_count": 97,
   "id": "a41f0e51",
   "metadata": {},
   "outputs": [
    {
     "name": "stdout",
     "output_type": "stream",
     "text": [
      "1072/1072 [==============================] - 12s 11ms/step - loss: 1.0035 - acc: 0.6042\n",
      "연령 : 60.42%\n"
     ]
    }
   ],
   "source": [
    "age_eval = model_age.evaluate(test_age_X_padding, test_age_y_1hot)\n",
    "print('연령 : {:.2f}%'.format(age_eval[1]*100))"
   ]
  },
  {
   "cell_type": "code",
   "execution_count": 98,
   "id": "53ace0b2",
   "metadata": {},
   "outputs": [
    {
     "name": "stdout",
     "output_type": "stream",
     "text": [
      "540/540 [==============================] - 6s 11ms/step - loss: 0.8140 - acc: 0.6658\n",
      "감정_대분류 : 66.58%\n"
     ]
    }
   ],
   "source": [
    "emo_eval = model_emo.evaluate(test_emo_X_padding, test_emo_y_1hot)\n",
    "print('감정_대분류 : {:.2f}%'.format(emo_eval[1]*100))"
   ]
  },
  {
   "cell_type": "code",
   "execution_count": null,
   "id": "67628612",
   "metadata": {},
   "outputs": [],
   "source": []
  }
 ],
 "metadata": {
  "kernelspec": {
   "display_name": "Python 3 (ipykernel)",
   "language": "python",
   "name": "python3"
  },
  "language_info": {
   "codemirror_mode": {
    "name": "ipython",
    "version": 3
   },
   "file_extension": ".py",
   "mimetype": "text/x-python",
   "name": "python",
   "nbconvert_exporter": "python",
   "pygments_lexer": "ipython3",
   "version": "3.7.4"
  }
 },
 "nbformat": 4,
 "nbformat_minor": 5
}
